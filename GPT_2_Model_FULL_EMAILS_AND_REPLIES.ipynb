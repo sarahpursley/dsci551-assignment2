{
  "nbformat": 4,
  "nbformat_minor": 0,
  "metadata": {
    "colab": {
      "name": "GPT-2 Text-Generating Model w/ GPU: Assignment 2",
      "provenance": [],
      "collapsed_sections": [
        "tMSIqWPRuygR",
        "J5MMp77GbvGO",
        "ig-KVgkCDCKD"
      ],
      "toc_visible": true,
      "include_colab_link": true
    },
    "kernelspec": {
      "name": "python3",
      "display_name": "Python 3"
    },
    "accelerator": "GPU"
  },
  "cells": [
    {
      "cell_type": "markdown",
      "metadata": {
        "id": "view-in-github",
        "colab_type": "text"
      },
      "source": [
        "<a href=\"https://colab.research.google.com/github/sarahpursley/dsci551-assignment2/blob/main/GPT_2_Model_FULL_EMAILS_AND_REPLIES.ipynb\" target=\"_parent\"><img src=\"https://colab.research.google.com/assets/colab-badge.svg\" alt=\"Open In Colab\"/></a>"
      ]
    },
    {
      "cell_type": "markdown",
      "metadata": {
        "id": "tMSIqWPRuygR"
      },
      "source": [
        "# Setup"
      ]
    },
    {
      "cell_type": "markdown",
      "metadata": {
        "id": "uBohJS-wBncg"
      },
      "source": [
        "**1. Set up versions and packages as well as start the GPU** "
      ]
    },
    {
      "cell_type": "markdown",
      "metadata": {
        "id": "Bj2IJLHP3KwE"
      },
      "source": [
        "**GPU:** Use either a Nvidia T4 GPU or an Nvidia K80 GPU and verify which GPU.\n"
      ]
    },
    {
      "cell_type": "code",
      "metadata": {
        "id": "KBkpRgBCBS2_",
        "colab": {
          "base_uri": "https://localhost:8080/"
        },
        "outputId": "5977cfc3-89fc-4470-cfc0-dd607b3186d8"
      },
      "source": [
        "%tensorflow_version 1.x\n",
        "!pip install -q gpt-2-simple\n",
        "import gpt_2_simple as gpt2\n",
        "from datetime import datetime\n",
        "from google.colab import files\n",
        "\n",
        "!nvidia-smi"
      ],
      "execution_count": null,
      "outputs": [
        {
          "output_type": "stream",
          "text": [
            "Fri Apr  9 01:21:59 2021       \n",
            "+-----------------------------------------------------------------------------+\n",
            "| NVIDIA-SMI 460.67       Driver Version: 460.32.03    CUDA Version: 11.2     |\n",
            "|-------------------------------+----------------------+----------------------+\n",
            "| GPU  Name        Persistence-M| Bus-Id        Disp.A | Volatile Uncorr. ECC |\n",
            "| Fan  Temp  Perf  Pwr:Usage/Cap|         Memory-Usage | GPU-Util  Compute M. |\n",
            "|                               |                      |               MIG M. |\n",
            "|===============================+======================+======================|\n",
            "|   0  Tesla T4            Off  | 00000000:00:04.0 Off |                    0 |\n",
            "| N/A   64C    P0    30W /  70W |   8484MiB / 15109MiB |      0%      Default |\n",
            "|                               |                      |                  N/A |\n",
            "+-------------------------------+----------------------+----------------------+\n",
            "                                                                               \n",
            "+-----------------------------------------------------------------------------+\n",
            "| Processes:                                                                  |\n",
            "|  GPU   GI   CI        PID   Type   Process name                  GPU Memory |\n",
            "|        ID   ID                                                   Usage      |\n",
            "|=============================================================================|\n",
            "+-----------------------------------------------------------------------------+\n"
          ],
          "name": "stdout"
        }
      ]
    },
    {
      "cell_type": "markdown",
      "metadata": {
        "id": "pvaVFeUf_Voz"
      },
      "source": [
        "**2. download_gpt2 small model (124M)**\n",
        "\n"
      ]
    },
    {
      "cell_type": "code",
      "metadata": {
        "colab": {
          "base_uri": "https://localhost:8080/"
        },
        "id": "LI1lc7J5qVmY",
        "outputId": "99e48f41-e092-40d1-ca54-e8a5ed6da082"
      },
      "source": [
        "gpt2.download_gpt2(model_name=\"124M\")"
      ],
      "execution_count": null,
      "outputs": [
        {
          "output_type": "stream",
          "text": [
            "Fetching checkpoint: 1.05Mit [00:00, 219Mit/s]                                                      \n",
            "Fetching encoder.json: 1.05Mit [00:00, 6.12Mit/s]\n",
            "Fetching hparams.json: 1.05Mit [00:00, 194Mit/s]                                                    \n",
            "Fetching model.ckpt.data-00000-of-00001: 498Mit [00:51, 9.67Mit/s]\n",
            "Fetching model.ckpt.index: 1.05Mit [00:00, 181Mit/s]                                                \n",
            "Fetching model.ckpt.meta: 1.05Mit [00:00, 7.86Mit/s]\n",
            "Fetching vocab.bpe: 1.05Mit [00:00, 9.49Mit/s]\n"
          ],
          "name": "stderr"
        }
      ]
    },
    {
      "cell_type": "markdown",
      "metadata": {
        "id": "IDbLade1_oty"
      },
      "source": [
        "**File upload from local machine: only upload once into files**\n",
        "Note: cannot pull from github because our final json from assignment one was too large. There is a zip file under datasets/fraudulent_emails_v2 to download a local copy and then upload here."
      ]
    },
    {
      "cell_type": "code",
      "metadata": {
        "id": "uVKNym7UxRRv",
        "colab": {
          "resources": {
            "http://localhost:8080/nbextensions/google.colab/files.js": {
              "data": "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",
              "ok": true,
              "headers": [
                [
                  "content-type",
                  "application/javascript"
                ]
              ],
              "status": 200,
              "status_text": ""
            }
          },
          "base_uri": "https://localhost:8080/",
          "height": 73
        },
        "outputId": "d2b06f86-bbc8-4199-d08d-1107da6acb1b"
      },
      "source": [
        "import os\n",
        "from google.colab import files\n",
        "\n",
        "os.chdir('/content')\n",
        "uploaded = files.upload()"
      ],
      "execution_count": null,
      "outputs": [
        {
          "output_type": "display_data",
          "data": {
            "text/html": [
              "\n",
              "     <input type=\"file\" id=\"files-a7f1a5bd-18a5-4964-8008-1c3dd152331a\" name=\"files[]\" multiple disabled\n",
              "        style=\"border:none\" />\n",
              "     <output id=\"result-a7f1a5bd-18a5-4964-8008-1c3dd152331a\">\n",
              "      Upload widget is only available when the cell has been executed in the\n",
              "      current browser session. Please rerun this cell to enable.\n",
              "      </output>\n",
              "      <script src=\"/nbextensions/google.colab/files.js\"></script> "
            ],
            "text/plain": [
              "<IPython.core.display.HTML object>"
            ]
          },
          "metadata": {
            "tags": []
          }
        },
        {
          "output_type": "stream",
          "text": [
            "Saving fraudulent_emails_v2.json to fraudulent_emails_v2.json\n"
          ],
          "name": "stdout"
        }
      ]
    },
    {
      "cell_type": "code",
      "metadata": {
        "id": "RNj51F8Rxkgt"
      },
      "source": [
        "# break out the different attack types\n",
        "# we already had a singular attack type assigned in our assignment 1 file \n",
        "# using 'se_tag' as the key \n",
        "import json\n",
        "import re\n",
        "messages = json.load(open('fraudulent_emails_v2.json',))\n",
        "\n",
        "recon_train = []\n",
        "se_train = []\n",
        "phish_train = []\n",
        "mal_train = []\n",
        "\n",
        "whitespace_ptrn = re.compile(r'\\s')\n",
        "\n",
        "# append corresponding se_tag to one of the attack types (lists initialized above)\n",
        "for message in messages:\n",
        "    if 'se_tag' in message:\n",
        "        # we also want the ttr generated text and cleaned up for later\n",
        "        ttr_dict = message['TTR_text']\n",
        "        t = ttr_dict['ttr_text']\n",
        "        norm_content = whitespace_ptrn.sub(' ', t).encode('utf-8')\n",
        "\n",
        "        if t != '':\n",
        "            if message['se_tag'] == 'recon':\n",
        "                t = t.lstrip().strip()\n",
        "                recon_train.append(norm_content.decode(\"utf-8\"))\n",
        "\n",
        "            if message['se_tag'] == 'social_engineering':\n",
        "                se_train.append(norm_content.decode(\"utf-8\"))\n",
        "\n",
        "            if message['se_tag'] == 'phishing':\n",
        "                phish_train.append(norm_content.decode(\"utf-8\"))\n",
        "\n",
        "            elif message['se_tag'] == 'malware':\n",
        "                mal_train.append(norm_content.decode(\"utf-8\"))\n",
        "\n",
        "            else:\n",
        "                continue\n",
        "    else:\n",
        "        print('hi')\n",
        "\n",
        "# load local json file of reply examples used for part 10\n",
        "# will include in final report\n",
        "reply_emails = json.load(open('replyEmails.json',))\n",
        "    \n",
        "\n",
        "print(\"Recon train:\", len(recon_train))\n",
        "print(\"SE messages:\", len(se_train))\n",
        "print(\"Phishing messages: \", len(phish_train))\n",
        "print(\"Malware messages: \", len(mal_train))\n",
        "print(\"Reply messages: \", len(reply_emails))"
      ],
      "execution_count": null,
      "outputs": []
    },
    {
      "cell_type": "code",
      "metadata": {
        "id": "_IyJT1bxKXR4"
      },
      "source": [
        "# download each attack type list of messages to a text file\n",
        "with open(\"r_train_.txt\", \"w\") as output:\n",
        "    for listitem in recon_train:\n",
        "        output.write('%s\\n' % listitem)             \n",
        "\n",
        "with open(\"s_train.txt\", \"w\") as output:\n",
        "    for listitem in se_train:\n",
        "        output.write('%s\\n' % listitem)             \n",
        "\n",
        "with open(\"p_train.txt\", \"w\") as output:\n",
        "    for listitem in phish_train:\n",
        "        output.write('%s\\n' % listitem)             \n",
        "\n",
        "with open(\"m_train.txt\", \"w\") as output:\n",
        "    for listitem in mal_train:\n",
        "        output.write('%s\\n' % listitem)             \n",
        "\n",
        "with open(\"reply_train.txt\", \"w\") as output:\n",
        "    output.write(str(reply_emails))"
      ],
      "execution_count": null,
      "outputs": []
    },
    {
      "cell_type": "markdown",
      "metadata": {
        "id": "Xj-ll24dASVa"
      },
      "source": [
        "# Finetune GPT2 Model"
      ]
    },
    {
      "cell_type": "markdown",
      "metadata": {
        "id": "J5MMp77GbvGO"
      },
      "source": [
        "## Recon Model\n"
      ]
    },
    {
      "cell_type": "code",
      "metadata": {
        "colab": {
          "base_uri": "https://localhost:8080/"
        },
        "id": "vzJkLIcJQwsX",
        "outputId": "be9d28c6-914b-46bb-d5ad-3567870b8ca8"
      },
      "source": [
        "### IF YOU NEED TO RESTART THE RUNTIME WHICH YOU DO AFTER EACH GENERATE/FINETUNE SESSION\n",
        "# local files are saved\n",
        "%tensorflow_version 1.x\n",
        "!pip install -q gpt-2-simple\n",
        "import gpt_2_simple as gpt2\n",
        "from datetime import datetime\n",
        "from google.colab import files\n",
        "\n",
        "!nvidia-smi"
      ],
      "execution_count": null,
      "outputs": [
        {
          "output_type": "stream",
          "text": [
            "TensorFlow 1.x selected.\n",
            "WARNING:tensorflow:\n",
            "The TensorFlow contrib module will not be included in TensorFlow 2.0.\n",
            "For more information, please see:\n",
            "  * https://github.com/tensorflow/community/blob/master/rfcs/20180907-contrib-sunset.md\n",
            "  * https://github.com/tensorflow/addons\n",
            "  * https://github.com/tensorflow/io (for I/O related ops)\n",
            "If you depend on functionality not listed there, please file an issue.\n",
            "\n",
            "Fri Apr  9 01:18:12 2021       \n",
            "+-----------------------------------------------------------------------------+\n",
            "| NVIDIA-SMI 460.67       Driver Version: 460.32.03    CUDA Version: 11.2     |\n",
            "|-------------------------------+----------------------+----------------------+\n",
            "| GPU  Name        Persistence-M| Bus-Id        Disp.A | Volatile Uncorr. ECC |\n",
            "| Fan  Temp  Perf  Pwr:Usage/Cap|         Memory-Usage | GPU-Util  Compute M. |\n",
            "|                               |                      |               MIG M. |\n",
            "|===============================+======================+======================|\n",
            "|   0  Tesla T4            Off  | 00000000:00:04.0 Off |                    0 |\n",
            "| N/A   49C    P8    10W /  70W |      0MiB / 15109MiB |      0%      Default |\n",
            "|                               |                      |                  N/A |\n",
            "+-------------------------------+----------------------+----------------------+\n",
            "                                                                               \n",
            "+-----------------------------------------------------------------------------+\n",
            "| Processes:                                                                  |\n",
            "|  GPU   GI   CI        PID   Type   Process name                  GPU Memory |\n",
            "|        ID   ID                                                   Usage      |\n",
            "|=============================================================================|\n",
            "|  No running processes found                                                 |\n",
            "+-----------------------------------------------------------------------------+\n"
          ],
          "name": "stdout"
        }
      ]
    },
    {
      "cell_type": "code",
      "metadata": {
        "colab": {
          "base_uri": "https://localhost:8080/"
        },
        "id": "he1BV0PBMXhr",
        "outputId": "d331163d-9583-4325-ada7-734897b77389"
      },
      "source": [
        "# write file name and define parameters\n",
        "# used max steps\n",
        "# refreshed the 124M model each run as to keep the attack models different\n",
        "file_name = \"r_train_.txt\"\n",
        "sess = gpt2.start_tf_sess()\n",
        "\n",
        "gpt2.finetune(sess,\n",
        "              dataset=file_name,\n",
        "              model_name='124M',\n",
        "              steps=10,\n",
        "              restore_from='fresh',\n",
        "              run_name='recon',\n",
        "              print_every=10,\n",
        "              sample_every=100,\n",
        "              save_every=200\n",
        "              )"
      ],
      "execution_count": null,
      "outputs": [
        {
          "output_type": "stream",
          "text": [
            "WARNING:tensorflow:From /usr/local/lib/python3.7/dist-packages/gpt_2_simple/src/sample.py:17: where (from tensorflow.python.ops.array_ops) is deprecated and will be removed in a future version.\n",
            "Instructions for updating:\n",
            "Use tf.where in 2.0, which has the same broadcast rule as np.where\n",
            "Loading checkpoint models/124M/model.ckpt\n",
            "INFO:tensorflow:Restoring parameters from models/124M/model.ckpt\n"
          ],
          "name": "stdout"
        },
        {
          "output_type": "stream",
          "text": [
            "\r  0%|          | 0/1 [00:00<?, ?it/s]"
          ],
          "name": "stderr"
        },
        {
          "output_type": "stream",
          "text": [
            "Loading dataset...\n"
          ],
          "name": "stdout"
        },
        {
          "output_type": "stream",
          "text": [
            "100%|██████████| 1/1 [00:01<00:00,  1.59s/it]\n"
          ],
          "name": "stderr"
        },
        {
          "output_type": "stream",
          "text": [
            "dataset has 284620 tokens\n",
            "Training...\n",
            "[10 | 28.67] loss=3.08 avg=3.08\n",
            "Saving checkpoint/recon/model-10\n"
          ],
          "name": "stdout"
        }
      ]
    },
    {
      "cell_type": "code",
      "metadata": {
        "colab": {
          "base_uri": "https://localhost:8080/"
        },
        "id": "zOzpFqx9T3LV",
        "outputId": "70860594-8f80-4f35-e217-f79ddfd3380f"
      },
      "source": [
        "# write file name and define parameters\n",
        "# used max steps\n",
        "# refreshed the 124M model each run as to keep the attack models different\n",
        "file_name = \"recon_train.txt\"\n",
        "sess = gpt2.start_tf_sess()\n",
        "\n",
        "gpt2.finetune(sess,\n",
        "              dataset=file_name,\n",
        "              model_name='124M',\n",
        "              steps=1000,\n",
        "              restore_from='fresh',\n",
        "              run_name='recon',\n",
        "              print_every=10,\n",
        "              sample_every=100,\n",
        "              save_every=200\n",
        "              )"
      ],
      "execution_count": null,
      "outputs": [
        {
          "output_type": "stream",
          "text": [
            "WARNING:tensorflow:From /usr/local/lib/python3.7/dist-packages/gpt_2_simple/src/sample.py:17: where (from tensorflow.python.ops.array_ops) is deprecated and will be removed in a future version.\n",
            "Instructions for updating:\n",
            "Use tf.where in 2.0, which has the same broadcast rule as np.where\n",
            "Loading checkpoint models/124M/model.ckpt\n",
            "INFO:tensorflow:Restoring parameters from models/124M/model.ckpt\n"
          ],
          "name": "stdout"
        },
        {
          "output_type": "stream",
          "text": [
            "\r  0%|          | 0/1 [00:00<?, ?it/s]"
          ],
          "name": "stderr"
        },
        {
          "output_type": "stream",
          "text": [
            "Loading dataset...\n"
          ],
          "name": "stdout"
        },
        {
          "output_type": "stream",
          "text": [
            "100%|██████████| 1/1 [00:01<00:00,  1.56s/it]\n"
          ],
          "name": "stderr"
        },
        {
          "output_type": "stream",
          "text": [
            "dataset has 284886 tokens\n",
            "Training...\n",
            "[10 | 28.46] loss=3.40 avg=3.40\n",
            "[20 | 50.25] loss=2.66 avg=3.03\n",
            "[30 | 72.70] loss=2.81 avg=2.96\n",
            "[40 | 96.07] loss=2.70 avg=2.89\n",
            "[50 | 120.56] loss=2.87 avg=2.89\n",
            "[60 | 144.53] loss=2.50 avg=2.82\n",
            "[70 | 167.98] loss=2.44 avg=2.76\n",
            "[80 | 191.71] loss=1.73 avg=2.63\n",
            "[90 | 215.60] loss=1.96 avg=2.55\n",
            "[100 | 239.31] loss=1.77 avg=2.47\n",
            "======== SAMPLE 1 ========\n",
            " assist to furnish the needed particulars, and the Attorney-at-law will present the relevant documents and affidavits of the said parties to back up his proposition.All parties will be provided with the following documents/firma- notes as proof of the said amount: (1) In-kind gratuities of US$100.00 (2) In-kind gratuities of US$5,000,000 (3) In-kind gratuities of US$500,000.00 (4) In-kind gratuities of US$50,000.00 (5) In-kind gratuities of US$250000.00, and all the required documentation will be used in the judgement of the said Attorney.    I will be contacting you to assist in this business, in case you require further clarification on these matters.    Please inform me immediately via email:     mrshankman1@latinmail.com    Yours faithfully,  mrshankman1.\", \"From the President  of the Bank of Zimbabwe,  MR KEVIN KIRKMAN  (BANK OF ZIMBA)  Hello.I am Mr. Vladimir Kirner  a resident of Zimbabwe.I am contacting you to seek your assistance in investing your funds abroad with respect to land and energy rights that  be. There was some  investment abroad that my family made with a company  called  Fidelity Capital Management  (FLM Management) (hereinafter, I will call it  personal).The property values are 70,000,000,000  dollars for the four members of my family and the total investment  amount is 70,000,000,000 US Dollars (USD25,000).00(USD15,700). I have inherited the  property values that got my eye touched and I am now in a position to use the foreign  capital that my family has to invest in order to fund the land  rights.This is how the fund was earned:1 ) In 1996, my husband and I made an investment in Zimbabwe. Since then we have made investments in Zimbabwe that are valued at 100 Million  dollars or more, the funds left behind by my family were used to build up fences, build the farms, even purchase foreign made land. I will now seek your assistance to invest the money in  your country, i.e. Burkina Faso, Ivory Coast, Ghana, or any of the other  states that you advice us to invest in as it is your culture that  pays the tax. If you are interested, get back to me immediately informatize through  my private email address:    plowman@latinmail.com  I shall be forwarding to you after some time.  Kind Regards,  Vladimir Kirner\", \"REQUEST FOR ASSISTANCE.  From Robert. Robert Kenway  Manager, Export & Investment section  E-mail : regro@redbubble.com  I am  a foreign correspondent to your organisation.  You might wish to contact me via email by stating this email address: rrobb@redbubble.com  Note that this mail contains sensitive content which might interest you to read . Please read the  contents carefully.  Regards,  Robert. Robert Kenway  __________________________________________________________________  http://www.businessinsider.com/us/news/politics/151473/12/06/40224568/ \", \"BUSINESS INFRINGEMENT FROM: ROBERT. ROBERT KIRKMAN  AUDITING AND FINANCE CO/CONNECTION OF  TEL: +221-857-6968-0315 Fax: +221-875-4938-0014  Corporate/private  telephone or  e-mail:  mattsk@telmail.com  __________________________________________________________________  http://www.businessinsider.com/us/news/politics/141473/11/02/39335869/fullpage.html  \", \"BUSINESS NEEDED  FROM: MATTSK ARRIVAL , INC  Dear Friend,  I am contacting you on a business. I am Mrs. Mattsk Arrivaldo,  a 58 year old Liberian , and I have got some money in a mutual fund account here  in TEL Bank here for my late father who died while  a Liberian Liberian military officer.  During his service in the military  force, he was involved in killing of numerous Liberian  foreign  officials including but not limited to the commander in chief Liberian  ambassador to  Senegal , who is now in the  United Kingdom.My late father died on January 9th 1999 in the  second Liberian presidential elections that had just concluded.  My father was an outstanding businessman and farmer who  operated two farms in the country.In  particular, he offered\n",
            "\n",
            "[110 | 273.46] loss=2.00 avg=2.43\n",
            "[120 | 297.38] loss=1.55 avg=2.35\n",
            "[130 | 321.19] loss=1.73 avg=2.30\n",
            "[140 | 344.96] loss=2.12 avg=2.28\n",
            "[150 | 368.73] loss=1.29 avg=2.21\n",
            "[160 | 392.54] loss=1.55 avg=2.17\n",
            "[170 | 416.37] loss=1.51 avg=2.13\n",
            "[180 | 440.24] loss=1.53 avg=2.09\n",
            "[190 | 464.14] loss=1.97 avg=2.08\n",
            "[200 | 488.07] loss=1.55 avg=2.05\n",
            "Saving checkpoint/recon/model-200\n",
            "======== SAMPLE 1 ========\n",
            " (0%) has been released by the bank. My colleagues and I have been working secretly to move the fund out of our country and get a foreign partner to carry out this big project for us since we don't have any bank account. The transaction involved was a genuine investment in long-term investment for both of us. On completion and verification to our knowledge, this fund has been moved into a safe account overseas where it will be invested again after maturity as a secured and viable investment for both of us by our colleague whose account we are presently at. The transaction itself was concluded without any problem, and the agreement that we reached upon mutual consent and with due respect, we have agreed to execute the agreement ourselves after the transaction is successfully completed.  We will use our positions to secretly move funds out of the whole empire and even the whole former republic to come over to your country, which we will do this in strict confidence and for certain we will accomplish our project successfully.  We are still working on this transaction for our respective positions and we hope you will treat this with utmost co-operation as it is very confidential.  We will call you for a discussion after the facts. If you are not agreeable to this proposal kindly leave us a message.  It will be better if we kept it to a strictly secret according to my colleague because we don't want anyone to know about this deal because we are concerned with this issue myself.  We shall contact you immediately after we hear from you for further step by step instructions for us to proceed.  Thanks.  Best regards.  Dan _________________________________________________________________ MSN Messenger - http://msn.soontitl.com/\", \"PLEASE GET BACK TO ME. MISS ALISABETH CHAMBER  Email: elisabeth20@yahoo.ca  Tel:234-1-800-358-7200  Email: philiam_chamberlain@yahoo.ca Dear Friend,  Please reply to this message for urgent discussions as soon as possible. I am elisabeth Chrétien. I am 58 years of age. I am A Resident Child of deceased Husband, Late Dr. Edwin Châtelet. My husband, in fact died of cancer. My late husband, this name, after his numerous chemical works, was poisoned to death early May 1994 by my late colleagues while they were on a visit to your land.  I am a widow to Dr. Edwin Châtelet whose  husband died of cancer, the fact that her late husband did not disclose any of this to the investigators after the death of her husband, made me decide to champion a new kind of charity organisation for my husband.  I am just a 15 years old girl and just made plans to go into business, hoping that something bad would come my way.  However, after years of prayer and effort I decided to contact you for a profitable business proposal, and found you are a man of finance /legal standing. I am contacting you for a partnership that will be beneficial to both of us. I have made several arrangements to get more informations, along with other relevant documents, so that I can send you a copy of the deposit file of my late husband\\'s money, which we discovered to the Bank where we are now waiting to move forward on receiving it. Also, I have made several arrangements to keep this money safe where it will be deposited, in a private house, for our safety, while further investigation and auditing shall confirm everything. The bank and myself are currently in a custody, along with the consignments, in a security company.  The reason I made this proposal to you is to seek a business for my husband while also hoping that your assistance will be considerate when it comes to this important business, which will involve us traveling to your country for the transfer. After the successful completion of this business, you will be given 25% of the total amount, 70% will be for us. All I want for your cooperation is for you to keep this money safe and to invest your money in your country where we shall invest some of our share in the business. May the good God bless you and your family.  PLEASE REPLY THIS REPLY THROUGH MY PRIVATE E MAIL BOX: elisabeth20@yahoo.ca\", 'PLEASE GET BACK TO ME. Miss Elisabeth Chamberlain email: chamberlain@sify.com Dear Friend,  Dear friend,  Dear friend, I hope this meets you in good health,  and may the glory of God be with you. My name is Ms.Elisabeth Chamberlain a.k.a. Mrs.Elisabeth Smith from Atlanta GA. I am 31 years old and a United States citizen. I was recently assaulted by an American who work with a local hotel security firm. I was the client of his contract to cover up this hotel hotel room and other business deals in Nigeria for US Dollars 10,000,000.00\n",
            "\n",
            "[210 | 523.78] loss=1.16 avg=2.01\n",
            "[220 | 547.65] loss=1.17 avg=1.96\n",
            "[230 | 571.39] loss=1.52 avg=1.94\n",
            "[240 | 595.20] loss=1.54 avg=1.92\n",
            "[250 | 619.09] loss=1.42 avg=1.90\n",
            "[260 | 643.00] loss=0.93 avg=1.86\n",
            "[270 | 666.91] loss=1.38 avg=1.84\n",
            "[280 | 690.79] loss=0.88 avg=1.80\n",
            "[290 | 714.64] loss=0.56 avg=1.75\n",
            "[300 | 738.46] loss=1.02 avg=1.72\n",
            "======== SAMPLE 1 ========\n",
            " course, and we're waiting to hearing from you. SEE RELY FOR TRANSFERRED BUSINESS PROPOSAL NEXT  DAY.  \", 'URGENT PLEASE REPLY ME WITH YOUR DIRECT TEXT(MISSEMA)  DANIELSONS VENTURE.27 PHONE 757 PUTNEL(27) 858 444 FAX:27-857-45870 (fax:(27) 858 444 584 ENHANCEANCE. ', 'urgent business proposal Dear Sir/CEO I am MISS ELLIS DAVID from South Africa and I am an Executive Accountant with the South Africa Department of Mining & Natural Resources. During the current tenure of the former President, I made several series of costly and unsuccessful attempts but all went astray as corrupt officials.  My findings were uncovered by a foreign contractor working with me to  overcharge him with US$25,000,000.00 (Twenty Five Million, Five Hundred  Thousand United States Dollars) to mine abandoned  and defaced headstone  of a major commercial firm.  Though my findings have resonated with all of my colleagues and I set out to find a way to compensate  this money-losing man with an alternative investment or service that can  compensate  him better.  Based on my knowledge base in this country in different industries, we came  across your firm located on the bank lot  that employed one of our new  employees as an offshore consultant/contractor/client, working with Contract Name : DESIGNATED FOR  PROFESSIONAL USE OR (DC NN) CINEMA/CERTIFICATE OF  COMPANY TO COME OVER AND ASSIST  MY MOTHER AND FATHER  TO RECEIVE DIPLOMATIC EXPENSES.  However, my mother and  father died since we have been victims of mosquito  infestations in our country while my  father was in administration of an African country government  Awarding Federal Contract money to a prominent businessman.  My father was a wealthy Gold-  mining magnate, made several bankruptcies in his life and most  of all, he did not manage to cover up his banking  position in my name for the federal government Awarding Federal Contract.  Consequently  my late father gave me a notice to provide him with  the sum of US$25.2 M (Twenty Two Million, Five Hundred Thousand  United States Dollars).  I believe that this money is the bonafide next of  kin to my late father and intend to use it  for investments and to invest in any lucrative  business or industry. It is my duty as an Executive Accountant  and Attorney to ensure that the funds are transfered to the  bank account of a foreigner.  I will take over as foreign account the account  administrator the account for the safety of the deceased and the  safety of the beneficiary .There is currently no risk  to the account.  Your advise and capacity as a person of the art is of  immense interest to me as it may be after considering  the experiences of other African nations who treat foreign clients with  utmost  secrecy and as if the same old suspicion. I have  decided to give you twenty two million  united states dollars as the  ultimate compensation, after which I will arrange for a  telephone  and fax  communications with the beneficiary for the transfer  of the fund.  Accordingly, the banking law and guidelines  that govern the transfer of fund for the bank  is that if such funds as have been transferred  to the bank before my late father's death remain  unclaimed after four years, the amount  transferred will be forfeited to the Bank for  nothing. Therefore, I will like you to provide  immediately the next of kin or relation who should know the  truth about this fund and to obtain a will  bearing the funds for this transaction.  The money will be paid to you for us to share in  the ratio of 50% for me and my family and 35%  for you and me and the balance of Three Million  United States Dollars. If you are interested  in assisting me, please reply immediately via  my email address  so we can proceed with the business.  Upon receipt of your response  I will send to you by fax  mail the text of the will and the  will affidavit which we will use to bind together the  bank account and carry out the business We will have  a whole lotus offering when the money  is paid In your will.  I will guarantee that this business is 100% risk free and sustainably  concluded.  You may also call me on my mobile phone 234-70-35-35-70 for  international clearance If you wish to proceed directly  with us, the matter needs to be concluded quickly before we  expose it to any of our close friends on the outside but on the  inside it  is very very very suprising.  My options are limited to both of us and the\n",
            "\n",
            "[310 | 771.44] loss=0.73 avg=1.69\n",
            "[320 | 795.25] loss=1.13 avg=1.67\n",
            "[330 | 819.10] loss=0.93 avg=1.64\n",
            "[340 | 842.97] loss=0.70 avg=1.61\n",
            "[350 | 866.88] loss=0.72 avg=1.58\n",
            "[360 | 890.70] loss=0.49 avg=1.54\n",
            "[370 | 914.49] loss=0.61 avg=1.51\n",
            "[380 | 938.28] loss=0.44 avg=1.48\n",
            "[390 | 962.07] loss=0.54 avg=1.45\n",
            "[400 | 985.81] loss=0.25 avg=1.41\n",
            "Saving checkpoint/recon/model-400\n",
            "WARNING:tensorflow:From /tensorflow-1.15.2/python3.7/tensorflow_core/python/training/saver.py:963: remove_checkpoint (from tensorflow.python.training.checkpoint_management) is deprecated and will be removed in a future version.\n",
            "Instructions for updating:\n",
            "Use standard file APIs to delete files with this prefix.\n",
            "======== SAMPLE 1 ========\n",
            " it the origin of these funds, as the owner of the United  Peace Corps from the beginning. It is for this reason that I am contacting you to assist on a  Direct and Personal Financial (US$)  Business/Investment that would be of  mutual benefit to both parties. I want to assure you that I have unlimited access to all the  necessary  Legal and Necessary Government Relations Attn.C. about whom I am implacable. I would be  discreet enough to give you adequate details. I have all the  necessary chisels and legal documents backing it up. All I need is your honest cooperation to enable us committ the necessary   Legal Documents and Telephones to the account, which will enable mejointly and without you taking care of anything, we could end up in disfavor or even war with the  Future Ruler of my country, possibly even bankruptcy. Awaiting your  urgent response. Regards, J.C. Okoye\", 'GET BACK TO ME MR PAULSON EMAIL-ID URL: <http://www.smithcet.co.uk/mailman/listinfo/irish-civil-service-laws.php?list=PL3988 ', \"WILL  I BE FACE TO FACE WITH you During my brief tenure as the Head  of State, my government took charge of  the treasury department in october of last year two, we also took over some  Bank accounts that belong to our civilian government officials.  There is some amount that belongs to a foreigner, it belongs  to a foreigner who was a diplomat.  This amount is USD$23M (three times the amount of the funds before our  surprise invasion).  It is important to note that in order to avert this from happening, the  government of the people has  already taken control of all the foreign consulates. This is the main reason we  needed a second party or fellow who will stand in as the foreign partner while we  are on the move. It is simple. We will like you to come forward and  provide us with a mobile phone or some other acceptable means of  communication with which we can call the bank from which the  funds will be remitted.  From here, we can move out to any quarter of  the money will cost us as they may be overseas charges.  I am contacting you to seek your help in investing part of the money into  local businesses, while we are waiting to hearing from you.  This is simple. Get involved. Tell us  what is happening (rotary or straight forward)  in your area and the next step would be to contact me directly through  this medium.  I am sure that you can handle this simple and we can  work together towards the success of this transaction.  Please note that this transaction is 100% risk free.We have mapped out  all the necessary means to successfully execute and has been tranferred  out to the foreign chamber of commerce, both foreign and local.  We fully intend to display the fund on our visit to your country  for subsequent transactions and joint ventures.  Please observe utmost confidentiality and be rest assured that this transaction  is 100% risk free.  Yours faithfully,  MR PAULSON EMAIL-MAIL-AS ', 'WILL I BE FACE TO FACE WITH you During my brief tenure as the Head  of State, my government took part in october of last year two, we also taken over some  Bank accounts that belong to our civilian government officials.  There is some amount that belongs to a foreigner, it belongs  to a foreigner who was a diplomat.  This amount is USD$23M (three times the amount of the funds before our  surprise invasion).  It is important to note that in to avert this from happening, the  government of the people has  already taken control of all the foreign consulates. This is the main reason we  needed a second party or fellow who will stand in as the foreign partner while we  are on the move. It is simple. We will like you to come forward and  provide us with a mobile phone or some other acceptable means of  communication with which we will call the bank from which the funds will be remitted.  From here, we can move out to any quarter of  the money will cost us as they may be overseas charges.  I am contacting you to seek your help in investing part of the money into  local businesses, while we are waiting to hearing from you.  This is simple. Get involved. Tell us  what is happening (rotary or straight forward)  in your area and the next step would be to contact me directly through  this medium.  I am contacting you to seek your help in investing part of the money into  local businesses, while we are waiting to hearing from you.  This is simple and we can work together towards the success of this transaction.  Please note\n",
            "\n",
            "[410 | 1021.09] loss=0.39 avg=1.38\n",
            "[420 | 1045.00] loss=0.30 avg=1.35\n",
            "[430 | 1068.75] loss=0.81 avg=1.34\n",
            "[440 | 1092.53] loss=0.70 avg=1.32\n",
            "[450 | 1116.40] loss=0.43 avg=1.29\n",
            "[460 | 1140.26] loss=0.31 avg=1.27\n",
            "[470 | 1164.16] loss=0.47 avg=1.25\n",
            "[480 | 1187.99] loss=0.36 avg=1.22\n",
            "[490 | 1211.79] loss=0.29 avg=1.20\n",
            "[500 | 1235.54] loss=0.22 avg=1.17\n",
            "======== SAMPLE 1 ========\n",
            ".   I am contacting you for a business, which I believe will be profitable to both of us at the end of the transaction.  The transfer of $35M to your account will require a second party that will forward claims as the lessee to the bank and present you as the front man.  The former the front man and I the lessee will then negotiate on your behalf in respect of the funds in our custody, with your assistance we can transfer this money to your account from your home Country but that would require a second party or company that will forward claims as the beneficiary to the bank and would like the claim to be relevant to your particular facts and circumstances.  I accept your contribution and look forward to receiving your prompt response to this letter.  Best Regards  Franklyn Ahmed \", \"From Mr.Bob.TO FROM:MR.BORIS HODOMI ABACHA (RET). B O WR TEN PLANETS. UNITED KINGDOM.  Hello,  I write you this mail in good faith believing that I will use your trust and privilege to get  your statements in full trust on this  issue. Please treat this mail with  seriousness and genuineness. It is my sincere hope that  this request will bring you some assistance which can be interpreted as  assistance in an investment in your country.  I am interested in selling my first melon and should need your  permission to do so in your country. My name is Boris Honi, I am 24 years of age.  My real father was a farmer in the north of Nigeria standing partnership with my  late father. I have since lost my ability to talk and  this has particularly affected me as a result.  My present condition is that of having a hypertension medical treatment and  having recently had my hearing loss diagnosed.  Due to this, I have been suffering from semi brain fog psychosis.  My doctors have told me that I may not last for the next  six months due to brain fog and I really don't want to die  of this illness. The doctors have advised that I have only a  few months to live, and that I need to look for a partner; a life  longer  for himself.  I want to assure you that I have all the medical  aids I need to make this wish come true. The aid here is Ayu'ite  chemical concoction which I mix with my finger and use  to make the base of the melon, which I sell in candies, to mark  as family valuables and to be taken with me by my partner to  the doctor for  subsequent  and informed  dissection.  I want to assure you that I have employed all my  nerve and judgement to make this  wish come true.  Please note that I have made all manner of  front cover  needed in order to disguise the true condition of my  illness.  Imprisonment without pay is the most common form of  pay which many  people  are forced to pay when they are ill.I believe that by  your act of trust, I humbly beg  for your assistance in receiving this money. Please get back to me  with your full name and address so that i will gladly give  you the receipt for this message.  Please make note of the date of this mail for our investigation.  Thank you as I await for your reply.  Regards  BARRISTER  ALHUL Ibrahim (ESQ). NB : please reply to this email; alhul_bahrami@yahoo.it NB: Please treat this message HIGHLY HARD-COMMITTED!!! Congrats, please read and get back to me as soon as possible.  Best Regards,  ALHAJI HAHM  NB: PLEASE REPLY THROUGH MY ATTORNEYS PRIVATE EMAIL  FOR MORE EXECUTIONAL KIND EXPERIENCE AS YOU WILL BE HELD TO YOUR CONCLUSION.  BEST REGARDS  ALHAJI HAHM', \"CONFIDENTIAL DEAL FROM MR. JAMES AHMADI  M.P.H,  ASSOCIATED BANK.  REMITTANCE : MR. James  AHMADI  PALATELLER  FEDERAL SECRETARIATE.  ABIDJAN COTE D'IVOIRE,  BOUGHT ON MY MINDLY WISH OF ARRANGEMENTS.  CONTACTING YOU BLEWITT BEEN PUT IN YOUR SIDE BECAUSE OF MY PREVIOUS DISCOVERY. I AM JAMES AHMADI  ABOVE THE MANAGER OF TERMS AND PROCEDURES IN THE  ORIGINAL BINDDED DOCUMENT OF MY  DEAL WITH MY CLIENT.HE RELATED THE DEATH OF DANIEL  AKAMEEN  CROWLEY (ASSOCIATED BANK PLC).HE ALSO\n",
            "\n",
            "[510 | 1268.51] loss=0.24 avg=1.15\n",
            "[520 | 1292.31] loss=0.55 avg=1.14\n",
            "[530 | 1316.11] loss=0.42 avg=1.12\n",
            "[540 | 1339.93] loss=0.32 avg=1.10\n",
            "[550 | 1363.75] loss=0.35 avg=1.08\n",
            "[560 | 1387.61] loss=0.28 avg=1.06\n",
            "[570 | 1411.52] loss=0.27 avg=1.05\n",
            "[580 | 1435.42] loss=0.38 avg=1.03\n",
            "[590 | 1459.35] loss=0.26 avg=1.01\n",
            "[600 | 1483.29] loss=0.12 avg=0.99\n",
            "Saving checkpoint/recon/model-600\n",
            "======== SAMPLE 1 ========\n",
            ". And, you might ask, how about the total sum which we would like to invest in an investment bank  in a country of your choice  And guarantee the successful transfer of this money into a safe account abroad, since most financial investment is  risk-free. Well, first, I would like to know the address of the bank, which I will give  you as the next of kin to My late Boss, so that you can reach the bank and ask them any question you must ask me hence I will like to know the account structure. Further, I would like you to look for buyers abroad, whom we would like to invest  with this money, hence we have agreed that 20 percent of the total sum will be yours, while  5 percent will be for any expenses that may occur during the transaction.  I would like to discuss this proposal with you as soon as I hear from you, because this fund will be shared  between the two parties if anyones okay and the rest will be al  rest if anyones happy after the successful execution of this transaction.  We would also like you to visit my PR, so that we can discuss further about the transaction.  This is to make sure that the whole arrangement is arranged properly.  I will like you to provide me with a more detailed picture immediately, so that we can discuss further on the file.  This is necessary because we Muslims have suffered a lot of harassment in the  wake of the hanging of Quallo Navidad in the republic of Cote D' Ivoire for our assistance.  I depend on your cooperation to guarantee a smooth conclusion of this  business.  I will be expecting your response and will act on this by myself in your letter.  I remain yours truly  Sincerly,  MISS SINCERONE SINCERONE EMAIL: [sincerone@sify.com] ', 'From: Miss Linda Savimbi  EMAIL: humaborbox@yahoo.com  Dear Sir,  Kind regards,  Permit me to inform you of mail that is very urgent. Content-Type: email/ < < ; pls check if it is me or not. This is an urgent response to your question regarding the transfer of   some funds into your nominated account overseas; I am Mr. julzani khalilm ,an officer in my department. In my department we discovered an abandoned sum of US$8.5M (Eight Million, Five Hundred Thousand US Dollars) with account number 14-2558-5976 that belongs to one of our  foreign customer who did not leave a single writing in the oversea paperwork for his payment in Kenya. On further investigation, I discovered that since the death of the deceased his  account owner has been unable to come forward to claim his share of the total sum.  Therefore, my team and I has already developed a strategy to locate any of our foreign customer who might be used as a next of kin or as the next of kin of the deceased for the transfer although it may sound strange and uncharitable to have a customer whose financial state and soul is so crashy in this case.  I am also revealing to you today that a member of our foreign customer family from the bank where the fund was deposited claim the contents of his account and says that he has just served two years' for a crime he did not commit and cannot be brought forward as next of kin, even though he was the former customer he said was ransicted and mutilated. His next of kin has not been located. The policy of our bank is that any member of our foreign customer's family more than once in our history, including this one, has had its particulars changed or have their assets/properties reported as local properties. This is unfortunate as the Nigerian Attorney/General is well known to be a foreigner who cannot stand a foreigner and a foreigner whose business it is to claim property of any kind. Hence, for the record, in my branch, I discovered on the way in coming in that the manager of Shell Petrofinery has his own delivery house in Nigeria. This is a huge Oil producing community in N. Rivers State that covers much of Plateau county, Southeastern Plateau, River State into the whole country of N.R.R. I need your assistance so that I can2  proceed in claims for my branch and these we will invest heavily in joint venture ventures together with my local partners. And we have other plans which I will share with you. My partners have already done the physical claim, however, we will invest heavily on the Internet and related fields in partnership with you. We plan to have the whole finance/security company assigned to claim the whole amount in their right of domiciliary office in their jurisdiction in the Abidjan & Cote d'Ivoire bound up our behalf.  As it stands, we have produced to the Bank of Abidjan & Cote d'Ivoire all the necessary\n",
            "\n",
            "[610 | 1518.49] loss=0.21 avg=0.98\n",
            "[620 | 1542.41] loss=0.26 avg=0.96\n",
            "[630 | 1566.33] loss=0.27 avg=0.95\n",
            "[640 | 1590.22] loss=0.16 avg=0.93\n",
            "[650 | 1614.06] loss=0.27 avg=0.92\n",
            "[660 | 1637.83] loss=0.15 avg=0.90\n",
            "[670 | 1661.60] loss=0.15 avg=0.88\n",
            "[680 | 1685.41] loss=0.09 avg=0.87\n",
            "[690 | 1709.25] loss=0.11 avg=0.85\n",
            "[700 | 1733.09] loss=0.17 avg=0.84\n",
            "======== SAMPLE 1 ========\n",
            " up. I have been helping to tend to orphans in orphanage/ motherless homes in orphanage/ fatherless homes. Recently I discovered from reliable sources that one of the big banks in the United Kingdom have long ago made a recess to draw up a 'reputation paperless release contract'with All My Zulu Family members to be executed under pretext of facilitating business between us. As it stands, I have obtained all the necessary documents that will aid in execution of this contract out of London to Geneva. As it stands, I have unanimously concluded this business deal with them with the below terms on my side. 1). I will retain all the rights and privileges of the original owner of the said money, both in his country of origin and in the payment of his taxes imposed on me and my family by my employers because of this. 2).The business can be perfected on my behalf, while the attorney will prepare the necessary documents and affidavits, which myself will use to back up the claims and demands for the benamiy.  The business itself is 100% risk free, on my part consent and good relationship is immediately sought after application of the above terms and conditions has been made for execution. This is a confidential business, it will be confidential till my client receives his share of the money. Please, get in touch with me by my private email address:(barrister_rotimibello_chamber@yahoo.com) for more information to enable and benefit from contact me, I await your urgent response. Yours truly, Barrister Rotimi bello\", \"Dear, Dear It's my pleasure, I am DR.ISA MUHAMEED.I am a staff of the  Hong Kong Federal Police Department.22 Division  Taxidermy Unit. Unit  Hong Kong Federal Police Station. There is a  security company based in Malaysia that makes  money as a result of the Kamchatka war.抯 Some of the company money is repatriated to  our vault company in Hong Kong.  There is some money left in a commercial vault company  in Europe that does not want  to accept the foreign exchange in its coffers. During the  Kamchatka period more than twenty million (20,000,000,000   hundred)  Five hundred thousand (200,000,000)  Five hundred thousand  United States dollars.  I work for the Hong Kong Federal Police Department  Section  Criminal Investigation Branch. In my department we discovered an abandoned sum of US$  10m (Ten million Five Hundred thousand US  dollars) in an account that belongs to one of our foreign  customer  who died along with his entire family in an aeroplane crash.  The customer died along with his entire family in an aeroplane crash and the fund  has been dormant in his account with the bank  since his death.  There is no next of kin to the deceased since no next of kin  has been shown to me in relation to the fund.  (This is the reason why it will be  interest for me to recuse myself from the case if actual evidence of  alleged crime is presented to me as early as possible from the customer)  All I require is your honest cooperation to enable me see this deal through.  I guarantee that this will be executed under a legitimate arrangement that  will protect you from any breach of the law.Please get in touch with me.  NOTE: PLEASE,  Note:********* PROMISE I CREDITED YOUR ID CARD NUMBER BY YOU ON SECTION OF YOUR  TRANSACTION :-( Your Email ( thOMhUGA@Dckmartin.com )  You are very important to me, I kept my promise to you and that is to raise a toast to your  outstanding cooperation.I want you and the Chinese government to help me collect the fund on my behalf  in question from the bank for possible investment on your behalf. I will provide you with the details below.Thank you.  My pleasure,  DR.ISA MUHAMEED   On behalf of the whole head of the Department of Mining & Natural  Resources and the Group that worked on the said transaction, I would like to  request for your assistance as well from you and the said fund which you deposited  with us as a foreign resident consignment with most risk free. I would like  to give you a possibility to advance to your country as an  overseas contract for the procurement of certain products ,infringement of which  is a hindrance to the said get out this funds, if you are interested.  I will give you a detailed proposal to enable you lay claim to the fund, you should  send to me the above message by email no? :-( ). I will also require you to come down to your country for  the purpose of investment ,so that you can get the fruits of  this old man's labor which he used for the said transaction.  If you are interested in this business, please kindly get back to me\n",
            "\n",
            "[710 | 1766.10] loss=0.20 avg=0.83\n",
            "[720 | 1789.96] loss=0.20 avg=0.82\n",
            "[730 | 1813.81] loss=0.12 avg=0.80\n",
            "[740 | 1837.69] loss=0.22 avg=0.79\n",
            "[750 | 1861.56] loss=0.17 avg=0.78\n",
            "[760 | 1885.40] loss=0.08 avg=0.77\n",
            "[770 | 1909.30] loss=0.13 avg=0.75\n",
            "[780 | 1933.21] loss=0.13 avg=0.74\n",
            "[790 | 1957.07] loss=0.14 avg=0.73\n",
            "[800 | 1980.89] loss=0.13 avg=0.72\n",
            "Saving checkpoint/recon/model-800\n",
            "======== SAMPLE 1 ========\n",
            " with I have an excess amount of money which I want you to help me transfer this money to an overseas account with effect from the South  Africa office of my Bank Account. All I need is your honest co-operation to enable us see this as a KIND transaction. I guarantee that this will be executed under a legitimate arrangement that will protect you from any breach of the law. Trust me  as his Manager of his Estates, as i have all the needed information, that this is a risk-free relationship. You should observe utmost confidentiality, and rest assured that this transaction would be most profitable for both of us because I shall require your assistance to invest my share  in South Africa. Awaiting your urgent reply. Thanks and regards. Mr.T. Williams.  email: tunat_williams@yahoo.co.uk\", \"TRANSFER OF FUND TO YOUR COUNTRY(TREME BUSINESS TRANSACTION)  CHALLENGE CHAMBERS!!! OFFERS. I AM MISS PLUMMING SUZAN SANKOH JOHANNE  HIGHLY READY TO OFFER YOU THIS MAIL.  I AM MISS PLUMMING SUZAN SANKOH, MY SEIZURE WAS  KEPT FROM THE CHAMBERS THAT HE WAS MAILING ME TO RECEIVE THESE  Mails FROM MR ABDUL LAZEEZ MOHAMEDE JOHANNE.  MY SEIZURE WAS KEPTED BY MR ABDUL LAZEEZ MOHAMEDE JOHANNE AND BY DR ABDUL LAZEEZ  AFRICA  TO OFFER YOU THIS BUSINESS SEED ABOVE VACCEL GROUP CHAMBERS FOR  MR BANK MENATEP SPOKES IN WEST AFRICA. MY FATHER'S  DEATH SADDENED ME TO PAY ATTENTION TO THE  AMOUNT OF CASH IN MRS ABDUL LAZEEZ MOHAMEDE JOHANNE\\'s CHAMBERS WHICH IS  LEFT OVER FROM HOME MUTUAL ADVICE ON HOW TO USE MY  ACCOUNT. I AM INVESTING THIS MONEY  IN AFRICA HAVING RECOMMITTED TO BE THE NEXT OF KIN TO MY  GIRL WHO IS ABOUT TO ATTACHED IT TO AGE UPON THE PRECIOUS KIN IN  KESING COMPANY. HOWEVER, THE ACCOUNT REQUIRED  FOR THIS CONSIGNMENT IS NOT REAL IRAQ AND A FOREIGNER  LIFE CANNOT TEND TOGETHER IN THIS BUSINESS UNTIL  YOUR MOTHER KNOWS ABOUT IT AND YOU DEMANDS IT  BE ACCEPTED AND YOU AND MY FATHER DECIDE TOFORWARD THIS  TO US WITHEX CUSTODY ACCOUNT WHICH I AM  EXPECTING TO present TOV FOR THE TIMEBEAVERAGE. ALSO  MY FATHER WILL NOTHING BUT MYELF  IN A PICTURE OF DEATH SO WE HAVE TO PUTIN IN  FACTORY IN ORDER TO SAKE OURSELVES.  IF YOU ARE INTERESTED IN THIS AS MY FATHER WILL NOT  DISAPPOINT THIS MONEY,IT IS MY CONFIDENTIALITY AND I  WOULD LIKEYOU TOACCORD TO MY EXPECTEDPROFESSIONAL  LIFE.IF YOUR ACCEPTANCE IS OK,PLEASE REPLY ME  URGENTLYBY E-MAILING NOVEMBER 14, 2005 DEAR DAY,  I AM LOOKING FOR YOUR FOREIGN ACCEPTANCE. I AM LOOKING FOR A  PERSONAL AGENT WHO WILL BE CAPABLE OF  RESPONSE OF ANY PROPOSAL BY US.I WILL LIKE YOU TO REPLY TO ME IS THIS: Email: [omittedfrommyself@archives. com ]', 'SADDAM PALACE SANDY HOSPITAL  BENIN REP BLIC  REPUBLIC  REPUBLIC OF BENIN  REBEL BANKA IVORY COAST  LIBERIA  DEAR FRIEND, I Am Mrs Palmites Sanda Barry, The wife  of late Mr Palmite s that died in a ghastly motor accident here in cotonou Benin republic of  Cotonou Benin. I am 64 years old, 4 died since I was  born, none is okay and I'm sick of being born again  by this unforgiven death. It is my last wish to see this money  distributed to charity organizations and peoplee who  have donated so much. I live a simple life but full of selfless personality.  I cheried so much from yall for whom I am based in  Benin republic during my husband die with me. Before my death, I gave to  charity organizations and full\n",
            "\n",
            "[810 | 2016.25] loss=0.14 avg=0.71\n",
            "[820 | 2040.22] loss=0.09 avg=0.70\n",
            "[830 | 2064.06] loss=0.11 avg=0.69\n",
            "[840 | 2087.88] loss=0.11 avg=0.68\n",
            "[850 | 2111.67] loss=0.09 avg=0.67\n",
            "[860 | 2135.46] loss=0.09 avg=0.66\n",
            "[870 | 2159.27] loss=0.09 avg=0.65\n",
            "[880 | 2183.11] loss=0.07 avg=0.64\n",
            "[890 | 2206.93] loss=0.09 avg=0.63\n",
            "[900 | 2230.81] loss=0.06 avg=0.62\n",
            "======== SAMPLE 1 ========\n",
            " and will be rewarded by your service to our company, our share of the money. We are not imposing this   on you, we are only informing you because this money can not be   controlled by anyone, hence we need your strong assurance that our share will   be secured.  \"On behalf of the Trustees/Seventeen Million United States Dollars, I once again try to notify you  something that may not be relayed to you, as we are still in   active civil service and remember once again that time is of the   essence in this business. I would like to ask for your assistance to help us   prepare for the coming business as our fathers required.  We could have gone into more detail on this subject   but decided to give you a very important consideration regarding these regards.Please give this   a go and let us know what we should do next\", 'Important Message Dear friend, Greetings to you and your family. Recently, I discovered a huge amount of confidential   information in a financial institution(F.O.I.) that gave me great pleasure and decided to share the   sum of US$35.3m with you. With due respect and with God the task before   me is complete. I have decided to use this funds wisely and with   confidentiality for the propagation of   Haag's   Haastafically.  I will not fail to inform you that this transaction is 100% risk free.  In  truth, I am afraid of death.  This is the actual reason why it is imperative that you get   immediate’ Admits to Lord that there is any one who knows what   this money is.  So that we can claim it with confident believing faith.  Yours sincerely,  Mrs. Amina Mohammed. \", \"IMPORTANCE/OPTIONAL  ASSISTANCE DEPT.  BANQUE DEVELOPPEMENT DU AFRICAINE-ADB ANNEXE.  Abuja, Nigeria.  Dear One,  Please I am the Director of Operations of Banque Delevo Oriental Office.  I am writing to seek your cooperation on a transaction/business of total financial benefit to me.  This project is indeed called (EStreamFrameIP TO ANTHONY REID & CO-OPERATION ) \"RELEVANT TO ASSISTANCE DEPARTMENT OF AFRICA DEVELOPPEMENT DIPLOMATIC OMAIL TEL.  I got your contact_url when i was searching for a reliable and trust worthy to entrust this huge project to your confidence and good   response.  My name is Rueben Reynold, a Sierra-Leonian. I hail from the Late Spanish American Republic, on the Spain Americanization of heritage of place indicated in my Mail, as i am going to seek for your personal assistance in execution of a business of this nature in confidence.  I have a new fax which my office is using to forward your name and address to you for the purpose of confirming the receipt of the fund and determining the next of kin or relations of the deceased for the benefit of all parties.  All necessary documentations will be sent to you on the indication of your acceptance to act as a partner and person familiar who may also assist you as a result of this transaction.  All the necessary advice will also be have protect'd to the release of the fund into your nominated account without affecting your ability to transact business as a partner or business partner in the country of your choice.  All i need from you is your honest co-operation to enable us see this deal through.  I guarantee that this will be executed under a legitimate arrangement that will protect you from any breach of the law.  Please get in touch with me by my email to enable us discuss further about this project.  Until i hear from you, do forgive me if i have subjected this transaction to some form of embarrassment.  Yours faithfully,  Rueben Reynold. ', \"RESPONSE ME URGENTLY  Reynold. Please commence your reply by email.ronald_renwick@mail.com  I apologize for interrupting the peace of   great brother's life. However, I am in a   hopeless place now, on suicide viper. I NEED YOUR   PERSONAL ADVICE   I am Mr.RICHARD OWENS  +44 73 962 2061  please reply me urgently   E-mail; richard_owens2004@hotmail.com  Sorry about that. It is my last day in   Courier offices and this calls me by his proper   pen name; he is always at my doorbell. Please, excuse me while I   re-mail through yourcompany web sites  , which i will used to   identify you as the only child of his extended   family.  I am 56 years of age and\n",
            "\n",
            "[910 | 2263.95] loss=0.05 avg=0.61\n",
            "[920 | 2287.79] loss=0.09 avg=0.60\n",
            "[930 | 2311.65] loss=0.08 avg=0.59\n",
            "[940 | 2335.52] loss=0.07 avg=0.58\n",
            "[950 | 2359.43] loss=0.06 avg=0.58\n",
            "[960 | 2383.34] loss=0.07 avg=0.57\n",
            "[970 | 2407.27] loss=0.07 avg=0.56\n",
            "[980 | 2431.15] loss=0.10 avg=0.55\n",
            "[990 | 2455.05] loss=0.09 avg=0.55\n",
            "[1000 | 2478.85] loss=0.11 avg=0.54\n",
            "Saving checkpoint/recon/model-1000\n"
          ],
          "name": "stdout"
        }
      ]
    },
    {
      "cell_type": "code",
      "metadata": {
        "colab": {
          "base_uri": "https://localhost:8080/"
        },
        "id": "mzHJTeafTsuC",
        "outputId": "bbf44fee-a7d4-44c3-bc5f-60b2c0ce471d"
      },
      "source": [
        "### IF YOU NEED TO RESTART THE RUNTIME WHICH YOU DO AFTER EACH GENERATE/FINETUNE SESSION\n",
        "# local files are saved\n",
        "%tensorflow_version 1.x\n",
        "!pip install -q gpt-2-simple\n",
        "import gpt_2_simple as gpt2\n",
        "from datetime import datetime\n",
        "from google.colab import files\n",
        "\n",
        "!nvidia-smi"
      ],
      "execution_count": null,
      "outputs": [
        {
          "output_type": "stream",
          "text": [
            "TensorFlow 1.x selected.\n",
            "WARNING:tensorflow:\n",
            "The TensorFlow contrib module will not be included in TensorFlow 2.0.\n",
            "For more information, please see:\n",
            "  * https://github.com/tensorflow/community/blob/master/rfcs/20180907-contrib-sunset.md\n",
            "  * https://github.com/tensorflow/addons\n",
            "  * https://github.com/tensorflow/io (for I/O related ops)\n",
            "If you depend on functionality not listed there, please file an issue.\n",
            "\n",
            "Thu Apr  8 05:57:59 2021       \n",
            "+-----------------------------------------------------------------------------+\n",
            "| NVIDIA-SMI 460.67       Driver Version: 460.32.03    CUDA Version: 11.2     |\n",
            "|-------------------------------+----------------------+----------------------+\n",
            "| GPU  Name        Persistence-M| Bus-Id        Disp.A | Volatile Uncorr. ECC |\n",
            "| Fan  Temp  Perf  Pwr:Usage/Cap|         Memory-Usage | GPU-Util  Compute M. |\n",
            "|                               |                      |               MIG M. |\n",
            "|===============================+======================+======================|\n",
            "|   0  Tesla T4            Off  | 00000000:00:04.0 Off |                    0 |\n",
            "| N/A   70C    P8    12W /  70W |      0MiB / 15109MiB |      0%      Default |\n",
            "|                               |                      |                  N/A |\n",
            "+-------------------------------+----------------------+----------------------+\n",
            "                                                                               \n",
            "+-----------------------------------------------------------------------------+\n",
            "| Processes:                                                                  |\n",
            "|  GPU   GI   CI        PID   Type   Process name                  GPU Memory |\n",
            "|        ID   ID                                                   Usage      |\n",
            "|=============================================================================|\n",
            "|  No running processes found                                                 |\n",
            "+-----------------------------------------------------------------------------+\n"
          ],
          "name": "stdout"
        }
      ]
    },
    {
      "cell_type": "code",
      "metadata": {
        "id": "DCcx5u7sbPTD",
        "colab": {
          "base_uri": "https://localhost:8080/"
        },
        "outputId": "3c1e5239-fde8-4ade-a599-9325f3ff4030"
      },
      "source": [
        "# start new session and load the run name\n",
        "# generate a line for testing\n",
        "sess = gpt2.start_tf_sess()\n",
        "\n",
        "gpt2.load_gpt2(sess, run_name='recon')\n",
        "gpt2.generate(sess, run_name='recon',prefix = 'FROM')"
      ],
      "execution_count": null,
      "outputs": [
        {
          "output_type": "stream",
          "text": [
            "Loading checkpoint checkpoint/recon/model-1000\n",
            "INFO:tensorflow:Restoring parameters from checkpoint/recon/model-1000\n",
            "FROM THE DOLLARS AND  REVEAL OF YOUR MAJESTY.   I AM MR. MARTINS AKUOMI , THE AUDITOR AND COMPUTING  MANAGER OF UNITED BANK OF AFRICA PLC (U.B.A). THERE IS AN  ABANDONED Bank Account in this detour's for you.  There is, however, one condition; all cheats must be  released to the original account holder before the fund can be transferred to  any bank account.  This is simple; all you need do is  to approve the transfer on our notice that you will  be responsible for paying any amount as soon as you receive the  fund.  Be forewarned; this is not the first time this kind of  business has happened to me.  This is because I have failed to clear the account over  two years ago. Prior to my death, I cleared the account with  the office of the Director of Foreign Operations and the  account has been dormant in its current condition.  This sum of US$22.5M (Twenty-two Million, Five Hundred  United State Dollars) is still sitting in the  Bank and the interest is being rolled over with the principal sum at  the end of each year. It has gotten to the point where individuals that have maintained  the same name for over two years now gets rolled over with the principal sum  being equal to one third of what it was worth in the first place. It is not a  problem to have been having expired addresses, expired licenses, expired  property, expired copyrights, etc. It is just that the one that amassing  this money is diverting it through illegal means.  There are two options; either you can choose to accept 35% of  the total sum as compensation for your effort/input after the  money is transferred to your account or you can go into  business  with your life and keep the money for yourself.  The former is better for a while, then the latter are better for  more time.  I believe with the strong opinion of my good friend that you should  not to entertain any atom of fear as all necessary  modalities is in place to ensure a successful transaction.  Furthermore, we have agreed that 50% of this money will be for you  in your name, while 5% will be for all the  harm that come our way.  Please do not expose us for anything if you are not interested  in this deal because we have already concluded our  transaction.  Any suggestions which you may have are highly appreciated.  Best regards,  Mr Henry Kabore\", 'Good Day Dear,  I know you will be surprised at this letter as we only know  who we need to target for a deal, but I will just say that you will be very grateful if you can help me in getting this funds release to you. The arrangement I am using to request for the transfer of this fund is based on a  mutual trust maintained in the emirate,the laws of emirate do not allow for  transfer of money of this nature to any person,so this is how the money is transferred. The money is maintained on account at the emirate or provided by a  foreign partner.The money is transferred in cash and in an economical manner,i will like to  entertain any question from you,but first I need your assistance, I will give you more details about myself and the bank  within an hour via my alternative e-mail address:zevenkamara03@yahoo.com and we will discuss the modalities of the transaction further after. I am inviting you to contact me for further details on how we shall proceed. I await your urgent response,  Thanks and God bless you,  Yours truly,  Mr. Henry Kamara. ', \"Re: Please , Please reply urgently. My name is Mr. James Kenneth. i am a consultant working in the International capital city,  Abuja  , for a consultancy firm. I am a consultant by profession,I have been doing consultancy work for about 4 years now,I first became interested in doing consultancy in the past 8 years of life,but i was really motivated by personal  desire to assist in the present when i discovered that organizations are lying to cover up any breach of trust in  the organization by which I am referring.These organizations are the Nigerian Government ,Nigerian Oil Corporation (NORA) ,Member Bank of NORA, and various foreign  account owners.All these organizations have released a report stating that from the total amount of $43.5M,ACTED,ACTED,ACTED,ACTED,ACTED,ACTED,ACTED,ACTED,ACTED,ACTED,ACTED,ACTED,ACTED,ACTED,ACTED,ACTED,ACTED, but I don't know any one, I have not breached any of them yet and i just got your contact from the Internet ,because i cannot  contact a reliable person\n"
          ],
          "name": "stdout"
        }
      ]
    },
    {
      "cell_type": "code",
      "metadata": {
        "id": "AtYRG8Dmiz04"
      },
      "source": [
        "# generate file text to file name\n",
        "# 200 for shorter length\n",
        "# lower temp for more stability in answers and high batch size for parallel processing of samples\n",
        "recon_gen_file = 'gpt2_gentext_recon.txt'\n",
        "\n",
        "gpt2.generate_to_file(sess, destination_path = recon_gen_file, model_name='124M',                      \n",
        "                      length = 200,\n",
        "                      temperature = 0.5, nsamples = 200, batch_size = 20)"
      ],
      "execution_count": null,
      "outputs": []
    },
    {
      "cell_type": "code",
      "metadata": {
        "colab": {
          "base_uri": "https://localhost:8080/",
          "height": 16
        },
        "id": "kla1qGmAD01f",
        "outputId": "5b8c1315-03ea-408a-cab1-283008998c0a"
      },
      "source": [
        "files.download(recon_gen_file)"
      ],
      "execution_count": null,
      "outputs": [
        {
          "output_type": "display_data",
          "data": {
            "application/javascript": [
              "\n",
              "    async function download(id, filename, size) {\n",
              "      if (!google.colab.kernel.accessAllowed) {\n",
              "        return;\n",
              "      }\n",
              "      const div = document.createElement('div');\n",
              "      const label = document.createElement('label');\n",
              "      label.textContent = `Downloading \"${filename}\": `;\n",
              "      div.appendChild(label);\n",
              "      const progress = document.createElement('progress');\n",
              "      progress.max = size;\n",
              "      div.appendChild(progress);\n",
              "      document.body.appendChild(div);\n",
              "\n",
              "      const buffers = [];\n",
              "      let downloaded = 0;\n",
              "\n",
              "      const channel = await google.colab.kernel.comms.open(id);\n",
              "      // Send a message to notify the kernel that we're ready.\n",
              "      channel.send({})\n",
              "\n",
              "      for await (const message of channel.messages) {\n",
              "        // Send a message to notify the kernel that we're ready.\n",
              "        channel.send({})\n",
              "        if (message.buffers) {\n",
              "          for (const buffer of message.buffers) {\n",
              "            buffers.push(buffer);\n",
              "            downloaded += buffer.byteLength;\n",
              "            progress.value = downloaded;\n",
              "          }\n",
              "        }\n",
              "      }\n",
              "      const blob = new Blob(buffers, {type: 'application/binary'});\n",
              "      const a = document.createElement('a');\n",
              "      a.href = window.URL.createObjectURL(blob);\n",
              "      a.download = filename;\n",
              "      div.appendChild(a);\n",
              "      a.click();\n",
              "      div.remove();\n",
              "    }\n",
              "  "
            ],
            "text/plain": [
              "<IPython.core.display.Javascript object>"
            ]
          },
          "metadata": {
            "tags": []
          }
        },
        {
          "output_type": "display_data",
          "data": {
            "application/javascript": [
              "download(\"download_87f68845-9192-47da-9d3c-16d76fb9c66a\", \"gpt2_gentext_recon.txt\", 165987)"
            ],
            "text/plain": [
              "<IPython.core.display.Javascript object>"
            ]
          },
          "metadata": {
            "tags": []
          }
        }
      ]
    },
    {
      "cell_type": "code",
      "metadata": {
        "colab": {
          "base_uri": "https://localhost:8080/"
        },
        "id": "kAQzIHxDEHLn",
        "outputId": "1effde82-bc96-4ba9-d87a-c0ec11e51277"
      },
      "source": [
        "!zip -r /content/file.zip /content/checkpoint"
      ],
      "execution_count": null,
      "outputs": [
        {
          "output_type": "stream",
          "text": [
            "  adding: content/checkpoint/ (stored 0%)\n",
            "  adding: content/checkpoint/recon/ (stored 0%)\n",
            "  adding: content/checkpoint/recon/checkpoint (deflated 40%)\n",
            "  adding: content/checkpoint/recon/model-1000.data-00000-of-00001 (deflated 7%)\n",
            "  adding: content/checkpoint/recon/hparams.json (deflated 28%)\n",
            "  adding: content/checkpoint/recon/model-1000.meta (deflated 91%)\n",
            "  adding: content/checkpoint/recon/counter (stored 0%)\n",
            "  adding: content/checkpoint/recon/events.out.tfevents.1617844367.76b4ea500457 (deflated 60%)\n",
            "  adding: content/checkpoint/recon/encoder.json (deflated 67%)\n",
            "  adding: content/checkpoint/recon/vocab.bpe (deflated 53%)\n",
            "  adding: content/checkpoint/recon/model-1000.index (deflated 62%)\n",
            "  adding: content/checkpoint/phish/ (stored 0%)\n",
            "  adding: content/checkpoint/phish/checkpoint (deflated 40%)\n",
            "  adding: content/checkpoint/phish/model-1000.data-00000-of-00001 (deflated 7%)\n",
            "  adding: content/checkpoint/phish/hparams.json (deflated 28%)\n",
            "  adding: content/checkpoint/phish/model-1000.meta (deflated 91%)\n",
            "  adding: content/checkpoint/phish/counter (stored 0%)\n",
            "  adding: content/checkpoint/phish/encoder.json (deflated 67%)\n",
            "  adding: content/checkpoint/phish/vocab.bpe (deflated 53%)\n",
            "  adding: content/checkpoint/phish/events.out.tfevents.1617855389.76b4ea500457 (deflated 61%)\n",
            "  adding: content/checkpoint/phish/model-1000.index (deflated 62%)\n",
            "  adding: content/checkpoint/phish/events.out.tfevents.1617851580.76b4ea500457 (deflated 60%)\n",
            "  adding: content/checkpoint/mal/ (stored 0%)\n",
            "  adding: content/checkpoint/mal/checkpoint (deflated 40%)\n",
            "  adding: content/checkpoint/mal/model-1000.data-00000-of-00001 (deflated 7%)\n",
            "  adding: content/checkpoint/mal/hparams.json (deflated 28%)\n",
            "  adding: content/checkpoint/mal/events.out.tfevents.1617858346.76b4ea500457 (deflated 60%)\n",
            "  adding: content/checkpoint/mal/model-1000.meta (deflated 91%)\n",
            "  adding: content/checkpoint/mal/counter (stored 0%)\n",
            "  adding: content/checkpoint/mal/encoder.json (deflated 67%)\n",
            "  adding: content/checkpoint/mal/vocab.bpe (deflated 53%)\n",
            "  adding: content/checkpoint/mal/model-1000.index (deflated 62%)\n",
            "  adding: content/checkpoint/se/ (stored 0%)\n",
            "  adding: content/checkpoint/se/checkpoint (deflated 40%)\n",
            "  adding: content/checkpoint/se/model-1000.data-00000-of-00001 (deflated 7%)\n",
            "  adding: content/checkpoint/se/hparams.json (deflated 28%)\n",
            "  adding: content/checkpoint/se/model-1000.meta (deflated 91%)\n",
            "  adding: content/checkpoint/se/counter (stored 0%)\n",
            "  adding: content/checkpoint/se/encoder.json (deflated 67%)\n",
            "  adding: content/checkpoint/se/vocab.bpe (deflated 53%)\n",
            "  adding: content/checkpoint/se/model-1000.index (deflated 62%)\n",
            "  adding: content/checkpoint/se/events.out.tfevents.1617848076.76b4ea500457 (deflated 61%)\n"
          ],
          "name": "stdout"
        }
      ]
    },
    {
      "cell_type": "code",
      "metadata": {
        "colab": {
          "base_uri": "https://localhost:8080/",
          "height": 33
        },
        "id": "aJZ9qe1hERNJ",
        "outputId": "e81b9c92-f78c-40ab-ec26-45dc69f3340d"
      },
      "source": [
        "files.download(\"/content/file.zip\")"
      ],
      "execution_count": null,
      "outputs": [
        {
          "output_type": "display_data",
          "data": {
            "application/javascript": [
              "\n",
              "    async function download(id, filename, size) {\n",
              "      if (!google.colab.kernel.accessAllowed) {\n",
              "        return;\n",
              "      }\n",
              "      const div = document.createElement('div');\n",
              "      const label = document.createElement('label');\n",
              "      label.textContent = `Downloading \"${filename}\": `;\n",
              "      div.appendChild(label);\n",
              "      const progress = document.createElement('progress');\n",
              "      progress.max = size;\n",
              "      div.appendChild(progress);\n",
              "      document.body.appendChild(div);\n",
              "\n",
              "      const buffers = [];\n",
              "      let downloaded = 0;\n",
              "\n",
              "      const channel = await google.colab.kernel.comms.open(id);\n",
              "      // Send a message to notify the kernel that we're ready.\n",
              "      channel.send({})\n",
              "\n",
              "      for await (const message of channel.messages) {\n",
              "        // Send a message to notify the kernel that we're ready.\n",
              "        channel.send({})\n",
              "        if (message.buffers) {\n",
              "          for (const buffer of message.buffers) {\n",
              "            buffers.push(buffer);\n",
              "            downloaded += buffer.byteLength;\n",
              "            progress.value = downloaded;\n",
              "          }\n",
              "        }\n",
              "      }\n",
              "      const blob = new Blob(buffers, {type: 'application/binary'});\n",
              "      const a = document.createElement('a');\n",
              "      a.href = window.URL.createObjectURL(blob);\n",
              "      a.download = filename;\n",
              "      div.appendChild(a);\n",
              "      a.click();\n",
              "      div.remove();\n",
              "    }\n",
              "  "
            ],
            "text/plain": [
              "<IPython.core.display.Javascript object>"
            ]
          },
          "metadata": {
            "tags": []
          }
        },
        {
          "output_type": "display_data",
          "data": {
            "application/javascript": [
              "download(\"download_19a04e94-d0c0-47b7-8b27-0a90c89ee49f\", \"file.zip\", 1853118269)"
            ],
            "text/plain": [
              "<IPython.core.display.Javascript object>"
            ]
          },
          "metadata": {
            "tags": []
          }
        }
      ]
    },
    {
      "cell_type": "code",
      "metadata": {
        "colab": {
          "base_uri": "https://localhost:8080/",
          "height": 745
        },
        "id": "sGCq4Ya_EjU8",
        "outputId": "f002f164-e6f1-42b4-e3ef-4ef30434b70e"
      },
      "source": [
        "!zip -r /content/file_1.zip /content/samples\n",
        "files.download(\"/content/file_1.zip\")"
      ],
      "execution_count": null,
      "outputs": [
        {
          "output_type": "stream",
          "text": [
            "  adding: content/samples/ (stored 0%)\n",
            "  adding: content/samples/recon/ (stored 0%)\n",
            "  adding: content/samples/recon/samples-601 (deflated 54%)\n",
            "  adding: content/samples/recon/samples-401 (deflated 66%)\n",
            "  adding: content/samples/recon/samples-201 (deflated 54%)\n",
            "  adding: content/samples/recon/samples-301 (deflated 50%)\n",
            "  adding: content/samples/recon/samples-901 (deflated 49%)\n",
            "  adding: content/samples/recon/samples-101 (deflated 52%)\n",
            "  adding: content/samples/recon/samples-701 (deflated 53%)\n",
            "  adding: content/samples/recon/samples-801 (deflated 46%)\n",
            "  adding: content/samples/recon/samples-501 (deflated 49%)\n",
            "  adding: content/samples/phish/ (stored 0%)\n",
            "  adding: content/samples/phish/samples-601 (deflated 52%)\n",
            "  adding: content/samples/phish/samples-401 (deflated 54%)\n",
            "  adding: content/samples/phish/samples-201 (deflated 58%)\n",
            "  adding: content/samples/phish/samples-301 (deflated 48%)\n",
            "  adding: content/samples/phish/samples-901 (deflated 49%)\n",
            "  adding: content/samples/phish/samples-101 (deflated 57%)\n",
            "  adding: content/samples/phish/samples-701 (deflated 56%)\n",
            "  adding: content/samples/phish/samples-801 (deflated 47%)\n",
            "  adding: content/samples/phish/samples-501 (deflated 49%)\n",
            "  adding: content/samples/mal/ (stored 0%)\n",
            "  adding: content/samples/mal/samples-601 (deflated 59%)\n",
            "  adding: content/samples/mal/samples-401 (deflated 61%)\n",
            "  adding: content/samples/mal/samples-201 (deflated 55%)\n",
            "  adding: content/samples/mal/samples-301 (deflated 55%)\n",
            "  adding: content/samples/mal/samples-901 (deflated 52%)\n",
            "  adding: content/samples/mal/samples-101 (deflated 54%)\n",
            "  adding: content/samples/mal/samples-701 (deflated 54%)\n",
            "  adding: content/samples/mal/samples-801 (deflated 50%)\n",
            "  adding: content/samples/mal/samples-501 (deflated 66%)\n",
            "  adding: content/samples/se/ (stored 0%)\n",
            "  adding: content/samples/se/samples-601 (deflated 55%)\n",
            "  adding: content/samples/se/samples-401 (deflated 50%)\n",
            "  adding: content/samples/se/samples-201 (deflated 54%)\n",
            "  adding: content/samples/se/samples-301 (deflated 58%)\n",
            "  adding: content/samples/se/samples-901 (deflated 72%)\n",
            "  adding: content/samples/se/samples-101 (deflated 55%)\n",
            "  adding: content/samples/se/samples-701 (deflated 52%)\n",
            "  adding: content/samples/se/samples-801 (deflated 55%)\n",
            "  adding: content/samples/se/samples-501 (deflated 53%)\n"
          ],
          "name": "stdout"
        },
        {
          "output_type": "display_data",
          "data": {
            "application/javascript": [
              "\n",
              "    async function download(id, filename, size) {\n",
              "      if (!google.colab.kernel.accessAllowed) {\n",
              "        return;\n",
              "      }\n",
              "      const div = document.createElement('div');\n",
              "      const label = document.createElement('label');\n",
              "      label.textContent = `Downloading \"${filename}\": `;\n",
              "      div.appendChild(label);\n",
              "      const progress = document.createElement('progress');\n",
              "      progress.max = size;\n",
              "      div.appendChild(progress);\n",
              "      document.body.appendChild(div);\n",
              "\n",
              "      const buffers = [];\n",
              "      let downloaded = 0;\n",
              "\n",
              "      const channel = await google.colab.kernel.comms.open(id);\n",
              "      // Send a message to notify the kernel that we're ready.\n",
              "      channel.send({})\n",
              "\n",
              "      for await (const message of channel.messages) {\n",
              "        // Send a message to notify the kernel that we're ready.\n",
              "        channel.send({})\n",
              "        if (message.buffers) {\n",
              "          for (const buffer of message.buffers) {\n",
              "            buffers.push(buffer);\n",
              "            downloaded += buffer.byteLength;\n",
              "            progress.value = downloaded;\n",
              "          }\n",
              "        }\n",
              "      }\n",
              "      const blob = new Blob(buffers, {type: 'application/binary'});\n",
              "      const a = document.createElement('a');\n",
              "      a.href = window.URL.createObjectURL(blob);\n",
              "      a.download = filename;\n",
              "      div.appendChild(a);\n",
              "      a.click();\n",
              "      div.remove();\n",
              "    }\n",
              "  "
            ],
            "text/plain": [
              "<IPython.core.display.Javascript object>"
            ]
          },
          "metadata": {
            "tags": []
          }
        },
        {
          "output_type": "display_data",
          "data": {
            "application/javascript": [
              "download(\"download_fdb02e03-ad19-477f-8594-58c7c629c698\", \"file_1.zip\", 72445)"
            ],
            "text/plain": [
              "<IPython.core.display.Javascript object>"
            ]
          },
          "metadata": {
            "tags": []
          }
        }
      ]
    },
    {
      "cell_type": "markdown",
      "metadata": {
        "id": "SG0Bh5i1b1Kw"
      },
      "source": [
        "## Social Engineering Model\n"
      ]
    },
    {
      "cell_type": "code",
      "metadata": {
        "id": "tIM_GX22SO0b"
      },
      "source": [
        "### IF YOU NEED TO RESTART THE RUNTIME WHICH YOU DO AFTER EACH GENERATE/FINETUNE SESSION\n",
        "# local files are saved\n",
        "%tensorflow_version 1.x\n",
        "!pip install -q gpt-2-simple\n",
        "import gpt_2_simple as gpt2\n",
        "from datetime import datetime\n",
        "from google.colab import files\n",
        "\n",
        "!nvidia-smi\n",
        "\n",
        "gpt2.download_gpt2(model_name=\"124M\")"
      ],
      "execution_count": null,
      "outputs": []
    },
    {
      "cell_type": "code",
      "metadata": {
        "id": "ZvyZLbo7vi8I"
      },
      "source": [
        "# write file name and define parameters\n",
        "# used max steps\n",
        "# refreshed the 124M model each run as to keep the attack models different\n",
        "file_name = \"s_train.txt\"\n",
        "sess = gpt2.start_tf_sess()\n",
        "\n",
        "gpt2.finetune(sess,\n",
        "              dataset=file_name,\n",
        "              model_name='124M',\n",
        "              steps=1000,\n",
        "              restore_from='fresh',\n",
        "              run_name='se',\n",
        "              print_every=10,\n",
        "              sample_every=100,\n",
        "              save_every=250\n",
        "              )"
      ],
      "execution_count": null,
      "outputs": []
    },
    {
      "cell_type": "code",
      "metadata": {
        "id": "j7RDMKWGSoJy"
      },
      "source": [
        "### IF YOU NEED TO RESTART THE RUNTIME WHICH YOU DO AFTER EACH GENERATE/FINETUNE SESSION\n",
        "# local files are saved\n",
        "%tensorflow_version 1.x\n",
        "!pip install -q gpt-2-simple\n",
        "import gpt_2_simple as gpt2\n",
        "from datetime import datetime\n",
        "from google.colab import files\n",
        "\n",
        "!nvidia-smi"
      ],
      "execution_count": null,
      "outputs": []
    },
    {
      "cell_type": "code",
      "metadata": {
        "id": "mPrQzLcYQVJK"
      },
      "source": [
        "# start new session and load the run name\n",
        "# generate a line for testing\n",
        "sess = gpt2.start_tf_sess()\n",
        "\n",
        "gpt2.load_gpt2(sess, run_name='se')\n",
        "gpt2.generate(sess, run_name='se',prefix = 'FROM')"
      ],
      "execution_count": null,
      "outputs": []
    },
    {
      "cell_type": "code",
      "metadata": {
        "id": "xQRFHHImQa_g"
      },
      "source": [
        "# generate file text to file name\n",
        "# 200 for shorter length\n",
        "# lower temp for more stability in answers and high batch size for parallel processing of samples\n",
        "se_gen_file = 'gpt2_gentext_se.txt'\n",
        "\n",
        "gpt2.generate_to_file(sess, destination_path = se_gen_file, model_name='124M',                      \n",
        "                      length = 200,\n",
        "                      temperature = 0.5, nsamples = 200, batch_size = 20)"
      ],
      "execution_count": null,
      "outputs": []
    },
    {
      "cell_type": "code",
      "metadata": {
        "id": "-GKZega_SYyQ"
      },
      "source": [
        "files.download(se_gen_file)"
      ],
      "execution_count": null,
      "outputs": []
    },
    {
      "cell_type": "markdown",
      "metadata": {
        "id": "Uw6Fq3ZIb2YK"
      },
      "source": [
        "## Phishing Model\n"
      ]
    },
    {
      "cell_type": "code",
      "metadata": {
        "colab": {
          "base_uri": "https://localhost:8080/"
        },
        "id": "PUex2iukSwG7",
        "outputId": "9699a804-ebbe-4816-c79a-b1e59b975b40"
      },
      "source": [
        "### IF YOU NEED TO RESTART THE RUNTIME WHICH YOU DO AFTER EACH GENERATE/FINETUNE SESSION\n",
        "# local files are saved\n",
        "%tensorflow_version 1.x\n",
        "!pip install -q gpt-2-simple\n",
        "import gpt_2_simple as gpt2\n",
        "from datetime import datetime\n",
        "from google.colab import files\n",
        "\n",
        "!nvidia-smi\n",
        "\n",
        "gpt2.download_gpt2(model_name=\"124M\")"
      ],
      "execution_count": null,
      "outputs": [
        {
          "output_type": "stream",
          "text": [
            "TensorFlow 1.x selected.\n",
            "WARNING:tensorflow:\n",
            "The TensorFlow contrib module will not be included in TensorFlow 2.0.\n",
            "For more information, please see:\n",
            "  * https://github.com/tensorflow/community/blob/master/rfcs/20180907-contrib-sunset.md\n",
            "  * https://github.com/tensorflow/addons\n",
            "  * https://github.com/tensorflow/io (for I/O related ops)\n",
            "If you depend on functionality not listed there, please file an issue.\n",
            "\n",
            "Thu Apr  8 03:11:37 2021       \n",
            "+-----------------------------------------------------------------------------+\n",
            "| NVIDIA-SMI 460.67       Driver Version: 460.32.03    CUDA Version: 11.2     |\n",
            "|-------------------------------+----------------------+----------------------+\n",
            "| GPU  Name        Persistence-M| Bus-Id        Disp.A | Volatile Uncorr. ECC |\n",
            "| Fan  Temp  Perf  Pwr:Usage/Cap|         Memory-Usage | GPU-Util  Compute M. |\n",
            "|                               |                      |               MIG M. |\n",
            "|===============================+======================+======================|\n",
            "|   0  Tesla T4            Off  | 00000000:00:04.0 Off |                    0 |\n",
            "| N/A   56C    P8    11W /  70W |      0MiB / 15109MiB |      0%      Default |\n",
            "|                               |                      |                  N/A |\n",
            "+-------------------------------+----------------------+----------------------+\n",
            "                                                                               \n",
            "+-----------------------------------------------------------------------------+\n",
            "| Processes:                                                                  |\n",
            "|  GPU   GI   CI        PID   Type   Process name                  GPU Memory |\n",
            "|        ID   ID                                                   Usage      |\n",
            "|=============================================================================|\n",
            "|  No running processes found                                                 |\n",
            "+-----------------------------------------------------------------------------+\n"
          ],
          "name": "stdout"
        },
        {
          "output_type": "stream",
          "text": [
            "Fetching checkpoint: 1.05Mit [00:00, 427Mit/s]                                                      \n",
            "Fetching encoder.json: 1.05Mit [00:00, 5.53Mit/s]\n",
            "Fetching hparams.json: 1.05Mit [00:00, 533Mit/s]                                                    \n",
            "Fetching model.ckpt.data-00000-of-00001: 498Mit [00:51, 9.64Mit/s]\n",
            "Fetching model.ckpt.index: 1.05Mit [00:00, 773Mit/s]                                                \n",
            "Fetching model.ckpt.meta: 1.05Mit [00:00, 8.76Mit/s]\n",
            "Fetching vocab.bpe: 1.05Mit [00:00, 6.74Mit/s]\n"
          ],
          "name": "stderr"
        }
      ]
    },
    {
      "cell_type": "code",
      "metadata": {
        "colab": {
          "base_uri": "https://localhost:8080/"
        },
        "id": "LmXKu13-0qo-",
        "outputId": "a8886813-f8cc-4502-d5a2-2c1fd0b3c0ed"
      },
      "source": [
        "# write file name and define parameters\n",
        "# used max steps\n",
        "# refreshed the 124M model each run as to keep the attack models different\n",
        "file_name = \"p_train.txt\"\n",
        "sess = gpt2.start_tf_sess()\n",
        "\n",
        "gpt2.finetune(sess,\n",
        "              dataset=file_name,\n",
        "              model_name='124M',\n",
        "              steps=1000,\n",
        "              restore_from='fresh',\n",
        "              run_name='phish',\n",
        "              print_every=10,\n",
        "              sample_every=100,\n",
        "              save_every=250\n",
        "              )"
      ],
      "execution_count": null,
      "outputs": [
        {
          "output_type": "stream",
          "text": [
            "WARNING:tensorflow:From /usr/local/lib/python3.7/dist-packages/gpt_2_simple/src/sample.py:17: where (from tensorflow.python.ops.array_ops) is deprecated and will be removed in a future version.\n",
            "Instructions for updating:\n",
            "Use tf.where in 2.0, which has the same broadcast rule as np.where\n",
            "Loading checkpoint models/124M/model.ckpt\n",
            "INFO:tensorflow:Restoring parameters from models/124M/model.ckpt\n"
          ],
          "name": "stdout"
        },
        {
          "output_type": "stream",
          "text": [
            "\r  0%|          | 0/1 [00:00<?, ?it/s]"
          ],
          "name": "stderr"
        },
        {
          "output_type": "stream",
          "text": [
            "Loading dataset...\n"
          ],
          "name": "stdout"
        },
        {
          "output_type": "stream",
          "text": [
            "100%|██████████| 1/1 [00:04<00:00,  4.85s/it]\n"
          ],
          "name": "stderr"
        },
        {
          "output_type": "stream",
          "text": [
            "dataset has 1026585 tokens\n",
            "Training...\n",
            "[10 | 27.13] loss=3.31 avg=3.31\n",
            "[20 | 49.64] loss=2.85 avg=3.08\n",
            "[30 | 72.21] loss=2.98 avg=3.05\n",
            "[40 | 94.97] loss=2.71 avg=2.96\n",
            "[50 | 117.87] loss=2.58 avg=2.88\n",
            "[60 | 140.97] loss=2.62 avg=2.84\n",
            "[70 | 164.17] loss=2.80 avg=2.83\n",
            "[80 | 187.49] loss=2.10 avg=2.74\n",
            "[90 | 210.89] loss=2.46 avg=2.70\n",
            "[100 | 234.42] loss=2.22 avg=2.65\n",
            "======== SAMPLE 1 ========\n",
            " leaders to assist the victims,  and send it to your  country where the  fund-sharing will be finalized in your favour.  If the money has not been paid properly, the money will  be forfeited or forfeited if the  fund shall not be paid up  within a certain amount of time.  This  transaction would be most profitable for both of us because  I  will be working as an  auditor and the money is secured  by an  award-sharing agreement.  I  await your full  response .                     _________________________________________________________________________ DETAILS  ---------------------                                                    (BUSINESS AND SAFE MANAGEMENT  CONTRACT ACT)    |                             _____________________________________________________________________________ BANK OF AFRICA & SOUTH AFRICA           (TRANSACTION CONTRACT)                          DEAR FRIEND,                         (SURGENS CONTRACT AGREEMENT)                        (INTERNATIONAL ASSOCIATION ACT)                   (TRANSACTION ACCOUNT)                          DEAR FRIEND, I CAN NOT HELP YOU IN TRYING TO CONTRACT ME WITH A GOOD INDIVIDUAL BECAUSE I CANNOT CONTRACT A GOOD PERSON AFTER HIS NAMES AND SITUATIONS HAVE BEEN CREDITED.  I AM A BANK OF AFRICA EXECUTING PROFESSION, AND A TRUSTING MAN.I INVESTED MY OWN TORTURE OF MY TRANSACTION AND HAVE TRANSFERED EVERYTHING THAT I HAVE TO MY TORTURE TO US TO US AS A COUNTRY BECAUSE I CANNOT CONTAIN TRANSACTIONS HERE IN A BANK.I CANNOT HAVE THE SUM OF (US$12,870 000.00 OR 6 MILLION UNITED STATES DOLLARS) DETAILS DUE TO EACH OF MY TRANSACTION AND MY PROPOSAL.  THIS IS MY EXECUTIVE DECISION TO CONDUCT THIS FUND IN ORDER THAT YOU WILL NOT LET ME IN WITH INDICATED FOREIGN BUSINESS INFORMATION.  IN ACCORDANCE TO MY NAMES AND NAMES,I HAVE DESTROYED AND DISCIPLED MY EYE CLEAR AND EYE MOUNTED SEXUAL TELES AND EYE SHOOTING IN ORDER TO ENABLE US TO PARTNERSHIP ALL THE TRANSACTIONS THERE, AND YOU HAVE BEEN ADVICED IN TRANSACTION.I WILL NOT BEHALF TO YOU, FOR I HAVE BEEN INACTING YOUR INTACT AS A BANKER.I WILL ONLY ENABLE US TO TRANSFER THE FUND TO YOU.PLEASE I WILL NOT BE MAKING THIS CHOICE AS WE HAVE NOT HAD THE BILL,BUT I RECEIVED IT AND MY COMPUTER WILLINGBEL THIS FOR YOU.                        (CONVERTING)       (UNCONTROL CONFIDENTIAL CONTRACT)     (CONTRACTION AND TRANSFER OF FUND)                         (UNFIDENTABILITY OF PRIVILEGED)    (THROUGH INFORMATIONS)    (TRANSACTION AND DEBT TRUST ASSISTANCE IN DEALING)     (COMPLIANCE AND CUSTRY TRUST ASSISTANCE)    (INCLUDING ALL MODALITATORY ASSISTANCES AND INTERESTING MODALITIES IN FOREIGN COMPUTING AND FINANCING)     (STRICTLY RELATITED AND CONFIDENTIAL      )     THE FUTURE WILL BE FINE AND EXTREME PROPOSAL     \n",
            "\n",
            "[110 | 268.06] loss=2.60 avg=2.65\n",
            "[120 | 291.55] loss=2.17 avg=2.61\n",
            "[130 | 315.05] loss=2.46 avg=2.60\n",
            "[140 | 338.61] loss=2.23 avg=2.57\n",
            "[150 | 362.19] loss=2.14 avg=2.54\n",
            "[160 | 385.77] loss=1.95 avg=2.50\n",
            "[170 | 409.62] loss=2.27 avg=2.48\n",
            "[180 | 433.54] loss=1.38 avg=2.42\n",
            "[190 | 457.38] loss=1.78 avg=2.38\n",
            "[200 | 481.20] loss=1.71 avg=2.34\n",
            "======== SAMPLE 1 ========\n",
            " South Bank  USA. I will need your strong assurance you will not let  me down, even if it is via email. I will need to  obtain from you contacts as well as your bank details from  the Nigerian National Petroleum Corporation, my company    which is in Platin Gage, Nigeria.  As you can confirm I will be in South  Africa and Thailand by plane as a tourist with your  assistance to reach my location will be enough to pay for  our arrival  and then you will fill in forms in the company for payment which  you will make on arrival, you should note that I will  need your strong assurance and good faith to  help us reach you after an honest  business meeting.   Please you will be entitled to twenty one of your  names in your reply.  I want to start by introducing myself to you a bit,  I am Mr Anthony Kelly  am the first officer of my firm and the president  of my account  which Mr Anthony Kelly is a foreigner to the country  he is here in South Africa as asylum seeker and refugee,  I got your contact from my colleagues in South   America. My name is Mark Kelly to remind you which account  account you belong to to take this account,  I am in total control of the account, I have executed my job  and I am fully capable to handle this kind of business.  I hope this will be a positive experience for you so I  will give you a brief account details before we move on.  Before we move on we shall discuss this business with you and  the difference between the two of us,  I assure you this from my own personal experience,  I am Mr Anthony Kelly and my colleagues is that  which will protect us now. I have also taken all necessary necessary  precaution to see that you will look for a reliable person  who can assist us in this  business, I need your strong assurance . you have worked very  well  in the company, it would be necessary to transfer this fund  on behalf  of one of my  colleagues to your account, if you are willing   to assist us on this step, you have worked very well.  This I will give to you if you will enable us make   arrangement for this business but I am ready to ask for your  assistance and trust in the company which we have   already agreed on transferring this fund into,  and out of.  If you shall be with us. Please as soon as you  can assist us  as we can arrange for  our own furnishing in your country.  Please you should note that I am a foreigner with   a family in South America and this will give you a problem. I  am in total control of the account  as well and we have the legal help of a foreign   account so you should also note my current position on this   issue. I do not want to be in doubt either now or in future.  Please do not be surprised if I don't succeed in getting  this money to you. I don't know any person that is   connected to me that I know of on this account but this   account alone would be worth millions of   Dollars  and if you don't want me  to let you have this money I will prefer you  to me  to operate it as one with me.  What the above information may not matter to you, though  it may interest you to know that this is   a very serious matter that must be resolved before  we can conclude this agreement  hence I am contacting you because I need your  help to move this fund in one of my   branch here in South Africa in Thailand. For  an account that is adequately accounted for payments  made to my client. It   also applies to our business partners we will be working in   partnership with to achieve this transaction  hence it is important that we reach an agreement that   will make this deal as legitimate as possible for you and you are   to receive the necessary remittance expenses  from my client. If this proposal is   acceptable to you and you agree that you will not   allow this money to go into the Account then we shall use   the fund on your side, then I will   need this money in an investment that you can invest in.  No need to worry though, the transaction may   please a little while after this. I will not fail to inform you that our   arrangement is that you will get the money from my client   if you do not agree.  I will give you 10% of the money , 80% will   be for me and the rest for you, after some   deliberation we will conclude. In your role as   the account manager we have made this arrangements   in writing, you to my assistance can we   be honest and honest in believing in God that this   is genuine\n",
            "\n",
            "[210 | 514.13] loss=1.68 avg=2.31\n",
            "[220 | 537.88] loss=1.98 avg=2.29\n",
            "[230 | 561.58] loss=1.77 avg=2.27\n",
            "[240 | 585.22] loss=1.84 avg=2.25\n",
            "[250 | 608.89] loss=1.48 avg=2.21\n",
            "Saving checkpoint/phish/model-250\n",
            "[260 | 635.24] loss=2.13 avg=2.21\n",
            "[270 | 658.81] loss=1.72 avg=2.19\n",
            "[280 | 682.37] loss=2.16 avg=2.19\n",
            "[290 | 705.96] loss=1.47 avg=2.16\n",
            "[300 | 729.53] loss=1.73 avg=2.14\n",
            "======== SAMPLE 1 ========\n",
            " and investment. The deposit will be forwarded in a  multi-rotating One-way Money Plc.  Thanks in advance, Yours faithfully,  Mr James Adams \", \"GIFT OF DANAN BOULE M, DBN/CEO  Dear Sir,  Greetings in a very confidential, I am Dean Boule Director with the Nigeria  Ministry of Finance and  Commerce. I have urgent and very confidential business proposition for you.  On June 6, 1998, a Geologist, Mr. Paul Meralizaka - a  miner with the National Petroleum  Corporation of Nigeria  Gold Company  made a numbered time (Fixed Deposit  for twelve calendar months,at a value of Twenty Nine  Million Dollars ($24,000.000.00)in my branch  upon maturity) and realized an unknown  amount of  Gold  in a  sealed  Box  in my  Central Bank of Nigeria  vault.  The Box was packaged  as a  Silver box that can be opened  and  opened and  opened to  opened.  After opening the box the  manager  told me that  Mr. Meralizaka knew that I am  a  Miner  and he     told me that he     died at the age of 70.  The owner of the box was Mr. and Ms.C.G. Meralizaka  (  N.B.)  (N.B.).  Before  her death (May she rest in peace)  she (Meralizaka) was married to  Kenneth Meralizaka, ( a Ghanaian) an  Oilman, and other   relatives  in Africa.  In September 2000, she (Meralizaka    died after a very long illness)  due to which she is said to  (still in Hospital)  requiring an  urgent   hospital  transfusion to the heart in Lagos.  Since the death of her husband, I (Meralizaka   ]       he has been to Dubai to establish a  business    in     Dubai and  (his    son had recently left for    Canada  to go into exile in Thailand.  I am expecting to hear from you soon          indicating your acceptance of this offer.  Yours faithfully,  Dean BOULE                                                                             (URGENT BUSINESS TRANSACTION)  Good day                           (USD 15 MILLION)                                    (FULL DETAILS)         YOU HAVE BEEN WRITING ME THROUGH MY PRAYERS THROUGH MY LATE HON. WILL YOU CURE YOUR HON. I AM DAVID WILLIAMS THE MANAGER OF PETROL TRAINING AFRICAN  HERE IN NIGERIA. I HAVE DECIDED TO CONTACT YOU IMMEDIATELY AS A  BANKER WITH A KEY IN YOUR COUNTRY WHILE WE KEEP THE STEPS AND PROPERTIES VERY  SECRET. THIS IS A JOINT ACCEPTANCE BUSINESS DEAL WITH CASH BELONGERS AND I WANT YOU TO ASSURE ME THAT YOU WILL BE  100% LIVED UNDER THE CONSTITUTION THAT YOU WILL NOT LET ME DOWN GIVING THIS CASH. THANKS. DAVID WILLIAMS  (ESQ). (RET)  http://news.bbc.co.uk/1/world/africa/856803.stm                           (\"REMITTANCE OF $15 MILLION U.S.A DOLLARS                                                                                                    \", \"FROM DR. TOM\n",
            "\n",
            "[310 | 762.30] loss=1.71 avg=2.13\n",
            "[320 | 785.88] loss=1.22 avg=2.09\n",
            "[330 | 809.47] loss=1.48 avg=2.07\n",
            "[340 | 833.06] loss=1.48 avg=2.05\n",
            "[350 | 856.64] loss=1.22 avg=2.02\n",
            "[360 | 880.21] loss=1.89 avg=2.02\n",
            "[370 | 903.79] loss=1.83 avg=2.01\n",
            "[380 | 927.39] loss=1.82 avg=2.01\n",
            "[390 | 950.97] loss=1.15 avg=1.98\n",
            "[400 | 974.55] loss=1.53 avg=1.97\n",
            "======== SAMPLE 1 ========\n",
            " that you have a certificate of deposit issued in December , 2000 which was  issued to you under  the old name                                      for the fund to be released and recalled to  you under  the old name                                   as indicated in the certificate   I have the legal will to transfer this fund to an account of your  choosing which will compensate you with the right to  withdraw your fund from the bank. The procedures for this are as below stated:  (1)You must provide me with all the modalities for   a  successful  transfer of this fund  including your name  I will like you to  respond to me directly on:  myb@myway.com  with all details of this transfer including  the telephone and fax numbers of the  (transferee) and (transferionist)transferees. All my legal           and  bank information will be kept strictly on a secret    until the day of the transfer to you if you are  able to handle this project in confidence, with full knowledge of   the funds transferred to your country. Your phone, fax and contact  numbers will be kept as  all modalities for success have been  worked out for securing the funds. The information  will be kept confidential at all times, you should  treat this transaction with utmost secrecy, and with  as much confidentiality as possible, and try and keep this  transaction as secret as possible. Your share will be 75% of the fund while 35%  will be paid to the deceased/beneficiary of the funds and the remaining    10% will be for local and international expenses in your country. I  assure you that my bank is 100% honest and trustworthy. You  are hereby advised to contact me immediately by sending the above             or  (johnny_peter@yahoo.gr>  )                            (FOR THE ACCOUNTING NUKERSECEDES) Yours Sincerely.  Mr.Daphne Peters.\", 'FROM DR JASON PUGH. PLEASE READ AND REVIEW. PLEASE GIVE URGENT ATTENTION. FROM DR JASON PUGH. PLEASE GIVE URGENT ATTENTION. MEMBER: MR. JASON PUGH. PLEASE GIVE URGENT ATTENTION. Greetings,  My name is Juan P.Pike, an Accountant for the Ministry of Works and Housing. My company had funds  accumulated on the course of contracts awarded by the previous Federal government and we were still owed  funds. The contract awarded was for the construction of 1,531,742,500.00,000.00 M homes and hotels for the families of foreign  military veterans in Europe and Asia. The original value of the contracts was set at US$7.35 million dollars. The entire total amount was paid into a bank  account to be declared next of kin by the concerned government officials in the countries concerned. The actual cost of the  purchase of the houses, hotels and other consignments and the payment of the entire  bill to the concerned officials started in the first quarter of this year. In anticipation of your participation, I am assuring you that  this transaction is 100% risk free, without any risk at all. You are to assist me as soon as you recieve this mail. All I want you to do is to furnish me with your private phone and fax numbers so that we will telephone and  get to know each other better. I want you to keep this transaction confidential. I want you to understand that this is an economic transaction and if  you help us to do this business properly,  the amount involved will be 30% of the total sum while 50% shall be for me 10%.  I will appreciate your positive response via my private E-mail : juanpike2006@hotmail.com Or call me on my private telephone number: +221-74363388. Thanks for your anticipated attention. Yours faithfully,  DR JASON PUGH. ___________________________________________________________________________ Sent through satelite VMWare Pro Mail Beta v3.5 - 5.6\", 'From:David Barrangu', 'From:David Barrangu', \"From:David Barrangu, CEO, Solid Gold and Mining Co. LTD. Aria  Gagne Street.  Lome-Cote d'Azur.  Rue l'Auditor d'Amant  P. Délume .  Good\n",
            "\n",
            "[410 | 1007.25] loss=1.29 avg=1.95\n",
            "[420 | 1030.86] loss=0.91 avg=1.92\n",
            "[430 | 1054.45] loss=1.27 avg=1.90\n",
            "[440 | 1078.03] loss=1.08 avg=1.87\n",
            "[450 | 1101.59] loss=0.67 avg=1.84\n",
            "[460 | 1125.17] loss=0.97 avg=1.82\n",
            "[470 | 1148.79] loss=0.90 avg=1.79\n",
            "[480 | 1172.37] loss=1.23 avg=1.78\n",
            "[490 | 1195.96] loss=1.00 avg=1.76\n",
            "[500 | 1219.57] loss=1.64 avg=1.76\n",
            "Saving checkpoint/phish/model-500\n",
            "WARNING:tensorflow:From /tensorflow-1.15.2/python3.7/tensorflow_core/python/training/saver.py:963: remove_checkpoint (from tensorflow.python.training.checkpoint_management) is deprecated and will be removed in a future version.\n",
            "Instructions for updating:\n",
            "Use standard file APIs to delete files with this prefix.\n",
            "======== SAMPLE 1 ========\n",
            " Swiss. And now after I heard from you, I decided to contact you to assist in the Transfers and this is precisely why I need your co-operation and trust.  For the financial Matters:-  1. Transfer the funds through our trusted Diplomatic  Line through my personal Telegraph  : (76)-73534868.  2. Reconfigure the account to your account, which will enable you receive  this fund as charity gift to the widows and orphans of our Saviour Lord (JOSEPH LABIOSA) from a Holocaust Memorial  Institution (IM/WEST) Holocaust Memorial Institution.  3. Send a clear and present danger notification to all foreign  accounts where the funds are being transffered, because we don't want our  money to be revealed to these cold and hard cash cheats.  This money can only be gotten from these sources, so please be  careful what you wish for our Children, to inherit this money from (the Holocaust Memorial Institution)  If you are interested, please reply asap,  Upon your respond, I shall then provide you with more details and relevant  information.  Please observe utmost confidentiality, and rest assured that this  transaction would be most profitable for both of us because I shall  require your assistance to invest my share in your country.  Awaiting your urgent reply.  Regards  Mr TONY SMITH.\", \"ATTENTION FROM: MR. JOSEPH LABIOSA. BANK OF AFRICA(B.O.A) SECTION FEDERAL MINISTRY OF FINANCE N.B.  ATTENTION! FOR THE INVESTMENT OF MY SONALITY. THIS IS YOUR INTERNET ACCOUNT NUMBER. SEE BELOW FOR REMARKS. FOR MORE INFORMATION ABOUT MY SON, SEE THE BELOW-SHARE INFORMATION BELOW. (1) FULL NAME AND ADDRESS (2) TELEPHONE NUMBER (3) TELEX NUMBER NOT FOR DETAILS (4) FULL ADDRESS (5) TELEPHONE OR FAX NUMBER. PLEASE, BE SURE THAT THIS TRANSACTIONIS CONVINCED WITHIN 14 BEING A MONTH FROM NOW, IT WILL BE  WEEKS IF SOMEONE WILL BE INTERESTED IN TRANSFERRING THIS MONEY TO A SAFE ACCOUNT LOCATED BY  YOU.  THIS IS CLEARLY CONSIDERED TO BE RISK BOREDOM BECAUSE THE PROPERTIES  TO FEE THE FUND UNTIL THE DEPOSIT HAS BEEN REMITTED AND YOU ARE BEING  REQUIRED TO SHARE THE FUND,  YOUR NAME WOULD BE IGNIFIED AS THE NEXT OF KIN.BUT IF YOU CANNOT FUND  OUTSUBMITTED ABOVE, THEN YOU ARE TO BE REQUIRED TO SHARE THE FUND  AFTER YOURFUND HAS BEEN SHOWN IN A SECURITY COMPANY OFFICE AND YOU  INVOLVE IT AS A FUND MANAGER, PROPERTIES OR A CHIEF PERSON.  I WILL NOT FAIL TO INFORM YOU THAT THIS TRANSACTION IS 100% LEGAL AND TAX IMPERATIVE.  I CONTACT YOU BECAUSE OF THE NATURE OF YOUR BUSINESS, AND ACHIEVING MY STATUS.  AFTER YOURFUND HAS BEEN SHOWN IN SECURITY COMPANIES AND YOU ARE BEING REQUIRED TO  SHARE IT ON DECISION OF THE FINANCE AND FINANCING COORDINATION, THEN YOU HAVE THE DETAILS UNDER YOUR BANK ACCOUNT INFORMATION TO  PRESENTFORM YOURSELF AS PART OF THE CLAIM AND THE NECESSARY MODALITIES TO BE  PAID ARRANGED.  I HAVE SINCERELY REACHED MY IMPRESSIVE AND FAVOURABLY CONFIDENTIAL STEPPING TO  GET IN TOUCH WITH THIS BUSINESS CONSULTANT, BUT I HAVE BEEN INFORMED AND NEEDED.  I NOW HAVE TO KEEP MY CONFIDENTAL PART IN THIS BUSINESS. THE LAW OF CONTRACT AS STATED IN  A REGULATED BANKING LAW AND THE ABOVE ABOVEA OF THE AFFAIRS REMAIN CHAMBER OF  CONTRACT AWAITING YOUR PERCENTAGE.  HOWEVER, I DON'T WANT TO WITHDRAW OUR BANK TO CUT ANY CLAIM IN CONFIDENCE WITH MY CONFIDENCE IN THIS  BUSINESS. THE ABOVE LAW ALSO CERTIFICATES THAT CONTRACT WHICH  IS THE TRUE RELATIVE CLAIM OF THIS BUSINESS SHALL BE REMITTED IF THEY  DECIDE TO TRANSFER US$85,500,000 AND FACE THE SHORT  SUFFERMENT OF COLLECTIVAL  EXPENSES FROM US. \n",
            "\n",
            "[510 | 1254.56] loss=1.24 avg=1.74\n",
            "[520 | 1278.12] loss=1.28 avg=1.73\n",
            "[530 | 1301.69] loss=1.10 avg=1.72\n",
            "[540 | 1325.27] loss=1.56 avg=1.71\n",
            "[550 | 1348.88] loss=1.01 avg=1.70\n",
            "[560 | 1372.68] loss=1.22 avg=1.69\n",
            "[570 | 1396.66] loss=1.21 avg=1.67\n",
            "[580 | 1420.53] loss=1.59 avg=1.67\n",
            "[590 | 1444.30] loss=1.32 avg=1.66\n",
            "[600 | 1468.06] loss=1.16 avg=1.65\n",
            "======== SAMPLE 1 ========\n",
            "                                                    (                                     (\"REMITTED\")    AIME MINISTRY - FEDERAL SECRETARIAT, OUAGADOU BURKINA FASO. DEMOCRATIC REPUBLIC OF CONGO.   CALL ME AS SOON AS YOU RECEIVE THIS LETTER SO THAT I WILL GIVE YOU ON MORE VINDICATIONS ABOUT ME.   PROMOTIONS: IF YOU ARE WILLING TO ASSIST IN THIS IMPORTANT TRANSACTION DO ASSIST ME WITH YOUR IMMEDIATE CAPABILITY AND WITH THIS CONFIDENTIAL INFORMATION WHICH IS STRICTLY SECRECY ABOVE TO US,BUT I WILL ALSO REFUSE TO READ IT IF YOU WANT TO ASSIST US AND ASSIST ME IF YOU ARE NOT HOPED UP AND HONESTED BEYOND OUR ALTERNATIVE HANDLING AND THIS IS THE REQUIRE IMMEDIATELY. IF THIS PROPOSAL IS RECEIVED I WILL GIVE YOU A copy OF THIS APPROPRIATE REQUEST FORMOLATED WITH YOUR TELEPHONE AND FAX NUMBERS IF YOU ARE READY TO ASSIST IN THIS IMPORTANT TRANSACTION.   PROMOTE THIS REQUEST AS A JOINT ME WITH YOUR TELEPHONE AND FAX NUMBERS IMMEDIATELY AS WE DECIDED TO SHARE THE WHOLE MONEY,BUT WOULD BE HAPPEN IF YOU CAN UNDERSTAND OUR POSITION AND NEED.   WOULD BE HAPPEN IF YOU CAN UNDERSTAND MY POSITION AND RECIPIBILITY AND ALSO TRUST  OF MY FAMILY.   THIS REQUEST IS CONCURRING AND IT IS VERY URGENT. PLEASE YOU CAN ALSO WRITE ME DOWN TO DISCUSS WITHIN A SEC REPLY ( SURE I KEPT  THIS MEAN THING) AS I WILL GIVE YOU ALL THE MONEY  MOVED THERE.   I VERY MUCH WANT TO SHARE THE MONEY BUT I DON\\'T KNOW ANY BILLEREVER AS WE HAVE NOT  had much time to plan.  THE WISH LIST IS ALSO FOR THIS MONEY TO BE SHARE ON BEYOND THE SUM OF OUR  FOREIGN DOLLAR WE HAVE WELL OVER $75 MILLION U.S. DOLLARS  AND THIS MONEY CAN ONLY EVER BE REMITTED INTO THE ABOVE FUND TRUST  WHERE IT IS GIVEN FOR THIRTY PERCENT AS WESTERN IS THE CASE.  HOW ARE YOU? ARE YOU INTERESTED TO HEAR MY QUEST? COMPLAIN TO ME AS SOON AS YOU RECEIVE THIS LETTER. MY LAST NAME: MUSA SULLIVAN  BILL AND EXCHANGE MANAGER. DO YOU HAVE A  CLOSING QUESTION FOR YOU? PLEASE I WILL BE MOST INTERFIDENTIAL WITH THIS MATTER CONSIDERING  FINELY FOR YOU. THIS INVESTMENT PROPOSAL MY SO BOLT ABOUT YOU IS FROM THE COUNCIL OF MINISTERS WHO  HELPED THE BILL CLEARANCE COMMISSION IN MASSACHUSET UNIT  THAT WAS CONFISCATED IN THE SUM OF A MILLION LION(FIVE HUNDRED  MILLION U.S. DOLLARS)             YOU SHOULD CONTACT ME MAIL AT MUSASULLIVAN.B.ULACIOUA  PLEASE REPLY URGENTLY ON THIS MY OPEN LETTER. BEST REGARDS AIME MINISTERS, MR MUSA SULLIVAN.', \"VERGENT BUSINESS OFFER  Dear Sir/Madam,           I am                   CONFIDENTIAL        I am Mr. Daniel Acosta I represent the bank on a long-term transaction of fixed branch - of paying bills.     This deal is known to you and I, as civil servants, and members of the high                International monetary union  our mandate is to supervise and manage the operations  of foreign and local financial    accounts, which is why we are privy to the transaction.  A deposite which belongs to one of our foreign customers in our  client\n",
            "\n",
            "[610 | 1500.93] loss=1.09 avg=1.64\n",
            "[620 | 1524.62] loss=0.95 avg=1.63\n",
            "[630 | 1548.32] loss=0.90 avg=1.61\n",
            "[640 | 1572.03] loss=0.60 avg=1.59\n",
            "[650 | 1595.65] loss=0.47 avg=1.57\n",
            "[660 | 1619.30] loss=1.21 avg=1.56\n",
            "[670 | 1642.94] loss=0.73 avg=1.54\n",
            "[680 | 1666.60] loss=1.10 avg=1.53\n",
            "[690 | 1690.27] loss=1.26 avg=1.53\n",
            "[700 | 1713.91] loss=0.97 avg=1.52\n",
            "======== SAMPLE 1 ========\n",
            " Sir of my late father's estate,  he was convinced that the money he deposited with the embassy in  box and that a foreign  firm will use that box as the beneficiary's lodgement. This was  because he deposited boxes and  valuables in the embassy, he used the box as his  lodgement's money.  We later learnt that the government and  exile charity organisations in Africa and Asia  who had supported my father were burnt  out or assassinated. We later  escaped to our current country,  where we are seeking asylum.  Now I am seeking for your assistance to transfer  out (US$29 million) and up front for myself and my younger sister to  get a good lease on life,  I am in search of a reliable foreigner who will  be able to assist me to transfer this fund smoothly out of  the embassy to our country.  In view of this, you are going to like that I confide  in you also, and help me out in this transaction.  I must also assure you that this is  the only way we can continue with one another.  I will  prepare the necessary documents that will back you up as the  next of kin to my father,  including a clean bill of funds (USD$29 million) in your favour  and then forward it to you either as your  on line bank information or banking company company's phone lines  and email as stated below for  immediate  acknowledgement.  I am not afraid of death, I know  the Lord, I know when to smile and when to cry.  I know when to move on from the fight and the pains and pains  of death. I know when to go for a better life.  I know when to look for a worthy and God fearing  partner who will truly protect me at the end  of my days. I know when to give myself up for your  great mission.  You are going to need to forward to me the following  below:  1. your full name  2. Your private email address and phone number for  easy Communications  3. Your general location address.  I shall furnish you all necessary  particulars of bank.  As soon as I hear from you, I will forward to you  my number, your occupation, your contact phone number and your  your reply fax number.  Further communication with you will be highly recommended.  Thanks and God bless you.  Mrs. Stella Sullivan. \", 'URGENT REPLY NEEDED  Kindly assist me in repartrating $5,500,000.00 (Five Million Five  Hundred Thousand Dollars) (USD$5,500,000.00)  for any breach of the law  Please include your full names, date of birth, your resident address,  telephone and fax number.  The Bank urgently need to know that the account  at the left is at the bank and it has not been able to  fully clear the funds.  A discreet reply is very needed.  Sincerely Yours,  Mrs. Stella Sullivan. ', \"URGENT REPLY NEEDED   Attention: the management.  I am writing following an opportunity in my office that could  have major and very lucrative benefits for both parties.  In my department we discovered an abandoned sum of $ 530  million Us dollars (Numbered Twenty Five Million US  Dollars) . In an account that belongs to one of our foreign customer who  died along with his entire family in (URGENT LAY   FUND) with other passengers on board the A320 flight of  Air France flight 890 with enroute to Paris  ÉTC.  On further investigation, I found out that he died without making a  WILL, and all attempts to trace his next of kin was fruitless.  I therefore made further investigation and discovered that Mr.  Smith  died without making a WILL and all attempts to trace his next  of kin was fruitless.  I therefore made further investigation and discovered that Mr.  Smith  died without making a WILL and all attempts to trace his next  of kin was fruitless.  After further investigation it was also discovered that he did not declare  any next of kin in all his official documents, including his bank  bank deposit paper!  This sum of USD$5,500,000.00 and the interest is  being rolled over with the principal sum at the end of each year  in which the fund is rolled over to the next of kin,  The banking ethics here does not allow this type of transaction  hence  my proposal to change the banking owner to an attorney rather than the bank   owner so that the money will be transferred into your bank account as the  next of kin.  I have also decided to change the name of the account to facilitate  it to you since I am the person that will supervise the  transfer as well as the beneficiary to this account which you  will help me to secure in your best\n",
            "\n",
            "[710 | 1746.69] loss=0.76 avg=1.50\n",
            "[720 | 1770.32] loss=1.05 avg=1.49\n",
            "[730 | 1793.95] loss=0.71 avg=1.48\n",
            "[740 | 1817.61] loss=0.98 avg=1.47\n",
            "[750 | 1841.25] loss=0.76 avg=1.45\n",
            "Saving checkpoint/phish/model-750\n",
            "[760 | 1867.06] loss=0.95 avg=1.45\n",
            "[770 | 1890.65] loss=1.05 avg=1.44\n",
            "[780 | 1914.28] loss=0.68 avg=1.42\n",
            "[790 | 1937.89] loss=1.14 avg=1.42\n",
            "[800 | 1961.55] loss=1.00 avg=1.41\n",
            "======== SAMPLE 1 ========\n",
            "Ãн� юдык  мо такрыть                                     (RE: TRANSFER OF ($ 18,000.000.00 USD) TWO HUNDRED AND TWENTY FIVE MILLION DOLLARS {USD 18.5M}   FROM  YOUR COUNTRY.  I am Dr.Peter Menezes the Director in charge of file Department of Minerals Department of my client  company,  Union mine, We need crude, safe, two hundred and sixty thousand United States Dollars [US$18,000.000.00] for a floating deposit. A  bank account in any part of the world, which  owner/former customer/beneficiary is behind the  sudden increase in the crude oil price, and other  international commodities out of crude oil,  In an effort to avert this looming danger, I personally and three others  have decided to transfer ($18,000.000.00 USD) two hundred and sixty thousand  United States Dollars (US$18,000.000.00) into a reliable  Finance and insurance company in Europe for investment purposes. The money was deposited  in a baggage as valuables to avoid much demurrage from the  Finance Company. This project was deliberately  planned out and executed by my collegues. The nature of the  material in the project %s will be decided  by us, as the management  is prepared to resign his/her position and  acquire all  of his assets just to be with you in his/her  company, because the law forbids.  We want to present you as the next of kin to the  successful realization of this transaction. To do  this we need a foreign partner abroad. This partner  is as follows: A  MANNER OF THE PAPER M SELF IN BUSINESS AND/OR STAFF{2/3 OF THE MOUNTERS LATER}.  I.B.I HAVE ASSURED OUR WRITES IN CONFIDENCE IN TRYING TO ABP/TREAT THE  TRADE IN FASO OIL IN ORDER TO PUT THE TRADE ABROAD IN  PEACEFUL VISION. MEANWHILE I HAVE DIVIDED MY LAST REQUEST AS TO WHERE THE  BENEFIT OF THE OIL MEMBER =3(MR MR.MUSTAFA MASTERS) TO COME TOGETHER AND GET YOU DONE. I  WISH TO COMMUNICATE YOUR ASSISTANCE SINCE YOUR NAME IS PRESENTLY THE MOST COMPENSATED  INFORMATION WHICH I WANT TO ASSURE YOU OF THE LATEST ACCURACY AND  SECURITY. WITHIN  MOST OFFSHORE LOCALS AND REGIONS AT THE END OF THE DAY, I  AM TO COME TO U.K. TO INCLUDE MY WISH FOR NOW AND HAND DO WHAT MUST BE DIVERTED AS  UNTIL ALL NECESSARY MODALITIES IS CONDUCTED WITH THE CORRESPONDENCE OF THE  LOCAL GOVERNMENT AND ALSO PRESENT BUSINESS VITALITY IN IRAQ AS WEARNT BEST REGULATIONS IN  THIS COUNTRY. AND WINE, ALL WHOSE PROCEDENTS MUST APPLY FOR PAYMENT APPROPRIATED  TO YOU IN YOUR NAME. THEREFORE IT, IT IS UPON APPLICATION FROM THE FELIXED  COMMUNICATIONS COMPANY FOR THE TRANSFER OF 35% OF THE  REMITTED ($18,000.000.00 USD) WHICH IS US$12.300,000.00(TWENTY  FIVE MILLION US DOLLARS  THIRTY TWO MILLION U.S.DOLLARS  ONLY) WHICH I MUST APPLY TO YOU A SECRETLY TO BANK WITH ASSETS AND  RELATIONS WHICH ARE BENT TO OUR COMMISSIONERS. YOU SHOULD NELSE WITH A TEXT  OF ANY ACCOUNT YOU WILL PROVE TO THE OFFICE OF THE TOP OFFICER WHICH WILL ENABLE YOU FILE  APPLICATION FORM FOR OUR PAYMENT.  ALL PROCEDURES TO BENEFIT YOURSELF AND ALSO RECONFIRM THE SAME PERSON ASIN  THE BENEFICIARY SHALL BE MADE AT THE OFFICE OF THE TOP OFFICER. WITH INSTRUCTION I CAN  DOCUMENT THE NEXT OF KIN WHICH IS MY SON. ALL THE NECESSARY MODALITIES SHALL BE  DISBURSEMENT SOLICITED IN YOUR NAME AND THE CONTRACT VALID FUND WHICH YOU  WILL WANT MOST RESPECTIVE AND UNCLAIMED TO THE FULLEST PERCENTAGE IN  RESPECT OF ALL LOCAL\n",
            "\n",
            "[810 | 1994.39] loss=0.73 avg=1.40\n",
            "[820 | 2018.10] loss=0.70 avg=1.39\n",
            "[830 | 2041.75] loss=1.04 avg=1.38\n",
            "[840 | 2065.40] loss=0.77 avg=1.37\n",
            "[850 | 2089.12] loss=1.03 avg=1.36\n",
            "[860 | 2112.84] loss=0.62 avg=1.35\n",
            "[870 | 2136.58] loss=1.23 avg=1.35\n",
            "[880 | 2160.32] loss=0.57 avg=1.34\n",
            "[890 | 2184.08] loss=0.45 avg=1.32\n",
            "[900 | 2207.82] loss=1.00 avg=1.32\n",
            "======== SAMPLE 1 ========\n",
            " Hills Mr. Fredrick Jones (E- mail address +2473-4329-2004) with the ECOBANK,Baku Baku.  My late boss Chief Executive James Thompson, who owned a petrol and refinery company here in Nigeria, made me the personal account officer of a Foreign contractor, who was very close to Nigeria's President Goodluck Jonathan, and was also involved in a string of shipwreching  and incurring fine offence along his watchlist route here in Nigeria. Firstly, I must apologise to you for having waited for your understanding and cooperation and second, for havingin front of your view this business affairs,which I personally handle very seriously. I am a true God fearing person; if I do not repent, what is left for me to do? I have resolved to give 20% of what I deposited with one of the security company as indicated above,in case any body should come to claim possession of the funds. If this proposal satisfies you,please kindly e-mail me back for more information, as this process is very much on. Hope to hear from you soon or earlier. Yours truly MRS. ELIPIA WEST VICTORIA F. WEST COMMISSION ROAD  MUNICH, NIGERIA. Email: faisa2004@netscape.net  Fax: +234-76-49-48-03 \", \"urgent reply from Mr.Charles Adams Tel No. +27-7324575052                                    RE: REPLY MY PRIVATE EMAIL FOR REASON=FURTHER.  Dear  sir/madam,  I am Mr Charles Adams  the attorney/ solicitor in the  above    firm based in Manchester, UK and I should be his    representative in any country/regional/co-operation to claim     the funds.  I have been on this     proposal for some months now ,but as of now it (    not  related to any pending matters that    might arise in the office of Attorney-at-Law or    regional co-operation).I am now convinced that    it is not only a vanity's project that I have   to propose,but that of the firm that will take care of    all other debts owed to me and my firm and also the family that    have been left behind by    Mr.Njobe Ijia  a jibe-sensitive individual  so that it will never get out to the    individual.  And for the family ,it is on this    note that I decided to keep this issue as a  special and top secret because of the sensitive nature of    this issue.  All documents of the Fund are absolutely confidential to    this Firm; it does not matter whether or not you are a    foreigner or a    businessman; I simply inform you that you are to    be  appointed as the claimant/beneficiary of the funds as stated  in our banking guidelines; the funds    to be declared \"INVESTMENT SAFE\" and deposited on your    good good Faith.  So, take full advantage of the situation to have a look for yourself or    your .com business partner(s) name and address only and give it a    personality!   Do not reply to this email, or any similar ones from    other email address, as the beneficiary of the funds, it might lead    to  an investigation.   Do not contact me if I have not already disclosed the    information on a pending transaction    because I do not want to be bothered    about (i.e you) which is why this email sent to me by the    other  email, contains nothing but    confidential information.  It's for your own good ,but please a lot of people    seek for help privately from computer solvers to avoid encountering    this email list  \", \"urgent reply from Mr.Charles Adams       Hello Good day,     Please forward me your contact information of     your goodself on      to me, so that I    can direct you concerning     Our    business and     The company we      made     a     decease in the first quarter     of this year to one of our client that was    involved in his     accident few year ago,he died without [he had    a   [fund]\n",
            "\n",
            "[910 | 2240.66] loss=1.21 avg=1.31\n",
            "[920 | 2264.35] loss=0.60 avg=1.30\n",
            "[930 | 2288.09] loss=0.37 avg=1.29\n",
            "[940 | 2311.80] loss=0.46 avg=1.27\n",
            "[950 | 2335.53] loss=0.49 avg=1.26\n",
            "[960 | 2359.37] loss=1.00 avg=1.26\n",
            "[970 | 2383.31] loss=1.08 avg=1.25\n",
            "[980 | 2407.25] loss=0.51 avg=1.24\n",
            "[990 | 2431.12] loss=0.38 avg=1.23\n",
            "[1000 | 2455.03] loss=0.62 avg=1.22\n",
            "Saving checkpoint/phish/model-1000\n"
          ],
          "name": "stdout"
        }
      ]
    },
    {
      "cell_type": "code",
      "metadata": {
        "colab": {
          "base_uri": "https://localhost:8080/"
        },
        "id": "vW-vUvHwSquj",
        "outputId": "ae6cb556-966a-4462-beb0-f5284c03b7b1"
      },
      "source": [
        "### IF YOU NEED TO RESTART THE RUNTIME WHICH YOU DO AFTER EACH GENERATE/FINETUNE SESSION\n",
        "# local files are saved\n",
        "%tensorflow_version 1.x\n",
        "!pip install -q gpt-2-simple\n",
        "import gpt_2_simple as gpt2\n",
        "from datetime import datetime\n",
        "from google.colab import files\n",
        "\n",
        "!nvidia-smi\n",
        "\n"
      ],
      "execution_count": null,
      "outputs": [
        {
          "output_type": "stream",
          "text": [
            "TensorFlow 1.x selected.\n",
            "WARNING:tensorflow:\n",
            "The TensorFlow contrib module will not be included in TensorFlow 2.0.\n",
            "For more information, please see:\n",
            "  * https://github.com/tensorflow/community/blob/master/rfcs/20180907-contrib-sunset.md\n",
            "  * https://github.com/tensorflow/addons\n",
            "  * https://github.com/tensorflow/io (for I/O related ops)\n",
            "If you depend on functionality not listed there, please file an issue.\n",
            "\n",
            "Thu Apr  8 05:54:40 2021       \n",
            "+-----------------------------------------------------------------------------+\n",
            "| NVIDIA-SMI 460.67       Driver Version: 460.32.03    CUDA Version: 11.2     |\n",
            "|-------------------------------+----------------------+----------------------+\n",
            "| GPU  Name        Persistence-M| Bus-Id        Disp.A | Volatile Uncorr. ECC |\n",
            "| Fan  Temp  Perf  Pwr:Usage/Cap|         Memory-Usage | GPU-Util  Compute M. |\n",
            "|                               |                      |               MIG M. |\n",
            "|===============================+======================+======================|\n",
            "|   0  Tesla T4            Off  | 00000000:00:04.0 Off |                    0 |\n",
            "| N/A   68C    P8    13W /  70W |      0MiB / 15109MiB |      0%      Default |\n",
            "|                               |                      |                  N/A |\n",
            "+-------------------------------+----------------------+----------------------+\n",
            "                                                                               \n",
            "+-----------------------------------------------------------------------------+\n",
            "| Processes:                                                                  |\n",
            "|  GPU   GI   CI        PID   Type   Process name                  GPU Memory |\n",
            "|        ID   ID                                                   Usage      |\n",
            "|=============================================================================|\n",
            "|  No running processes found                                                 |\n",
            "+-----------------------------------------------------------------------------+\n"
          ],
          "name": "stdout"
        }
      ]
    },
    {
      "cell_type": "code",
      "metadata": {
        "colab": {
          "base_uri": "https://localhost:8080/"
        },
        "id": "j1lrDBoJRBkG",
        "outputId": "df430853-6cc8-4abe-cb94-d62bb185447e"
      },
      "source": [
        "# start new session and load the run name\n",
        "# generate a line for testing\n",
        "sess = gpt2.start_tf_sess()\n",
        "\n",
        "gpt2.load_gpt2(sess, run_name='phish')\n",
        "gpt2.generate(sess, run_name='phish',prefix = 'FROM')"
      ],
      "execution_count": null,
      "outputs": [
        {
          "output_type": "stream",
          "text": [
            "Loading checkpoint checkpoint/phish/model-1000\n",
            "INFO:tensorflow:Restoring parameters from checkpoint/phish/model-1000\n",
            "FROM OUR SON  AS HE IS THE NEXT OF KIN TO  MY LATE FATHER, HOPE THAT YOU WILL NOT TAKE MY PETITION TO  THE HEIR OF MY LATE LATE (HEIR LATE MUHAMED MOHAMED MOHAMMED)  WE ARE SEEKING FOR INFORMATION WHICH IS VERY CONFIDENTIAL BUT ALSO  GRATEFUL  DURING THE TIME OF EXECUTION AND ALSO SIT ON THE ARRANGEMENTS WHICH  YOU HAVE BEEN ASSURED TO RECEIVE THE MONEY ON YOUR  ACCOUNT. PLEASE, YOU HAVE BEEN ADVICED TO KEEP \"TOP SECRET\" AS I AM  STILL IN SERVICE AND INTEND TO RETIRE FROM SERVICE AFTER WE CONCLUDE  THIS DEAL WITH YOU. I WILL BE MONITORING THE WHOLE SITUATION HERE IN THIS BANK UNTIL YOU CONFIRM  THE MONEY IN YOUR ACCOUNT AND ASK ME TO COME DOWN TO YOUR COUNTRY FOR  SUBSEQUENT SHARING OF THE FUND ACCORDING TO PERCENTAGES PREVIOUSLY  ANDROID DIVIDUAL)AND FOREIGN.  PLEASE, YOU HAVE BEEN ADVICED TO KEEP \"TOP SECRET\" AS I AM STILL IN SERVICE AND INTEND TO  RETIRE FROM SERVICE AFTER WE CONCLUDE THIS DEAL WITH YOU.  I WILL BE RELAYED TO COME DOWN TO YOUR COUNTRY FOR  DISBURSEMENT ACCORDING TO PERCENTAGES SET FOR THE YEAR 2000, IF YOU WILL BE  INTERESTED IN THIS TRANSACTION.  NOTE THAT THIS TRANSACTION IS STRICTLY CONFIDENTIAL BUT 100% RISK FREE.  I LOOK FORWARD TO RECEIVING YOUR PROMPT RESPONSE.  YOURS,  DR.MRS CYNTHIA SUDOLA. ', \"Good Day, From: Mrs. Mary Abacha  Dabar,  African Country,  Dabar-i-Africa.  Tel/Fax: (00226-7885 75 97)  E-mail: maryabacha011@yahoo.com  Kind Regards,  Mrs. Mary Abacha.  __________________________________________________________________  Get Tiscali Broadband From £15:99  http://www.tiscali.co.uk/products/broadbandhome/ \", 'URGENT ASSISTANCE  I am Mrs. Mary Abacha. the wife of late Gen. Sani Abacha former military Head of State who died mysteriously as a result of cardiac arrest. During our last year holidays I and my two Younger Children were deeply involved in an abandoned property deal which resulted to be Invaded on my lap.  During the course of our investigation this deal was revealed to be a great success without a return of the money after Six or Seven Years of This money going into the coffers from the proceeds of this Abacha Crime. This is why we are making this deal and what we are doing is uncovereded our doctor.  I am sure that all the information we need to put an end to this deal will be met with the best of intentions. We have therefore decided to contact you with this transaction as I am taking a leave from work and will travel to the United States to seek a skilled foreign partner to assist us in this transaction. I have thus contacted you to assist us to secure the funds which we intend to transfer abroad with the assistance and co-operation of a Financial institution or a Local Bank to facilitate the transfer.  This is because as serving Government workers, we are not allowed to operate foreign accounts and our present financial resources are not sufficient to warrant the loan of US Dollars into a foreign account. Hence the need for a foreign partner. We have chosen to reach you through this mail so that you can assist us in transfer this money to your bank account as we cannot travel Out of Africa easily. We are willing to give out 25% of the total amount which will be your  compensation for assisting us. Please note that this transaction is 100% risk free.  If this proposal is acceptable by you, please immediately do so so, so as to ensure that I send you more information. Do not take undue advantage of the trust we have bestowed on you. Please get in touch with me via my email address and I will provide you with more details of this operation. Please keep this confidential, as we are not allowed to operate a foreign account.  Please note that all modalities for a hitch free transaction has been perfected and the transaction will be concluded within 7 to 9 officialworking days from the day the funds are got into your bank account. Furthermore you should contact me on my telephone number (00226-7885 75 97) so as to enable me direct you to the right place. Best regards, Mrs. Mary Abacha. PLEASE NOTE: The material being sent to\n"
          ],
          "name": "stdout"
        }
      ]
    },
    {
      "cell_type": "code",
      "metadata": {
        "id": "MAp1gCg8Q80T"
      },
      "source": [
        "# start new session and load the run name\n",
        "# generate a line for testing\n",
        "# generate file text to file name\n",
        "# 200 for shorter length\n",
        "# lower temp for more stability in answers and high batch size for parallel processing of samples\n",
        "phish_gen_file = 'gpt2_gentext_phish.txt'\n",
        "\n",
        "gpt2.generate_to_file(sess, destination_path = phish_gen_file, model_name='124M',                      \n",
        "                      length = 200,\n",
        "                      temperature = 0.5, nsamples = 200, batch_size = 20)"
      ],
      "execution_count": null,
      "outputs": []
    },
    {
      "cell_type": "code",
      "metadata": {
        "colab": {
          "base_uri": "https://localhost:8080/",
          "height": 16
        },
        "id": "8Z-OyVOITYqr",
        "outputId": "b1dfa095-1203-4150-9a76-8c23a32db084"
      },
      "source": [
        "files.download(phish_gen_file)"
      ],
      "execution_count": null,
      "outputs": [
        {
          "output_type": "display_data",
          "data": {
            "application/javascript": [
              "\n",
              "    async function download(id, filename, size) {\n",
              "      if (!google.colab.kernel.accessAllowed) {\n",
              "        return;\n",
              "      }\n",
              "      const div = document.createElement('div');\n",
              "      const label = document.createElement('label');\n",
              "      label.textContent = `Downloading \"${filename}\": `;\n",
              "      div.appendChild(label);\n",
              "      const progress = document.createElement('progress');\n",
              "      progress.max = size;\n",
              "      div.appendChild(progress);\n",
              "      document.body.appendChild(div);\n",
              "\n",
              "      const buffers = [];\n",
              "      let downloaded = 0;\n",
              "\n",
              "      const channel = await google.colab.kernel.comms.open(id);\n",
              "      // Send a message to notify the kernel that we're ready.\n",
              "      channel.send({})\n",
              "\n",
              "      for await (const message of channel.messages) {\n",
              "        // Send a message to notify the kernel that we're ready.\n",
              "        channel.send({})\n",
              "        if (message.buffers) {\n",
              "          for (const buffer of message.buffers) {\n",
              "            buffers.push(buffer);\n",
              "            downloaded += buffer.byteLength;\n",
              "            progress.value = downloaded;\n",
              "          }\n",
              "        }\n",
              "      }\n",
              "      const blob = new Blob(buffers, {type: 'application/binary'});\n",
              "      const a = document.createElement('a');\n",
              "      a.href = window.URL.createObjectURL(blob);\n",
              "      a.download = filename;\n",
              "      div.appendChild(a);\n",
              "      a.click();\n",
              "      div.remove();\n",
              "    }\n",
              "  "
            ],
            "text/plain": [
              "<IPython.core.display.Javascript object>"
            ]
          },
          "metadata": {
            "tags": []
          }
        },
        {
          "output_type": "display_data",
          "data": {
            "application/javascript": [
              "download(\"download_e38be5fe-aa0e-4c7b-916e-56c2a12dc0a3\", \"gpt2_gentext_phish.txt\", 160446)"
            ],
            "text/plain": [
              "<IPython.core.display.Javascript object>"
            ]
          },
          "metadata": {
            "tags": []
          }
        }
      ]
    },
    {
      "cell_type": "markdown",
      "metadata": {
        "id": "1GF_7ZqPb2l3"
      },
      "source": [
        "## Malware Model\n"
      ]
    },
    {
      "cell_type": "code",
      "metadata": {
        "id": "HIKz1cxiS0jU"
      },
      "source": [
        "### IF YOU NEED TO RESTART THE RUNTIME WHICH YOU DO AFTER EACH GENERATE/FINETUNE SESSION\n",
        "# local files are saved\n",
        "%tensorflow_version 1.x\n",
        "!pip install -q gpt-2-simple\n",
        "import gpt_2_simple as gpt2\n",
        "from datetime import datetime\n",
        "from google.colab import files\n",
        "\n",
        "!nvidia-smi\n",
        "\n",
        "gpt2.download_gpt2(model_name=\"124M\")"
      ],
      "execution_count": null,
      "outputs": []
    },
    {
      "cell_type": "code",
      "metadata": {
        "colab": {
          "base_uri": "https://localhost:8080/"
        },
        "id": "RI92FAJqc4Gk",
        "outputId": "1f928727-65be-4df8-89a3-5de55e27fd6e"
      },
      "source": [
        "# malware model finetune\n",
        "file_name = \"mal_train.txt\"\n",
        "sess = gpt2.start_tf_sess()\n",
        "\n",
        "gpt2.finetune(sess,\n",
        "              dataset=file_name,\n",
        "              model_name='124M',\n",
        "              steps=1000,\n",
        "              restore_from='fresh',\n",
        "              run_name='mal',\n",
        "              print_every=10,\n",
        "              sample_every=100,\n",
        "              save_every=250\n",
        "              )"
      ],
      "execution_count": null,
      "outputs": [
        {
          "output_type": "stream",
          "text": [
            "WARNING:tensorflow:From /usr/local/lib/python3.7/dist-packages/gpt_2_simple/src/sample.py:17: where (from tensorflow.python.ops.array_ops) is deprecated and will be removed in a future version.\n",
            "Instructions for updating:\n",
            "Use tf.where in 2.0, which has the same broadcast rule as np.where\n",
            "Loading checkpoint models/124M/model.ckpt\n",
            "INFO:tensorflow:Restoring parameters from models/124M/model.ckpt\n"
          ],
          "name": "stdout"
        },
        {
          "output_type": "stream",
          "text": [
            "\r  0%|          | 0/1 [00:00<?, ?it/s]"
          ],
          "name": "stderr"
        },
        {
          "output_type": "stream",
          "text": [
            "Loading dataset...\n"
          ],
          "name": "stdout"
        },
        {
          "output_type": "stream",
          "text": [
            "100%|██████████| 1/1 [00:00<00:00,  2.51it/s]\n"
          ],
          "name": "stderr"
        },
        {
          "output_type": "stream",
          "text": [
            "dataset has 56625 tokens\n",
            "Training...\n",
            "[10 | 27.48] loss=2.69 avg=2.69\n",
            "[20 | 49.14] loss=2.78 avg=2.74\n",
            "[30 | 71.04] loss=1.79 avg=2.42\n",
            "[40 | 93.26] loss=1.94 avg=2.30\n",
            "[50 | 115.80] loss=1.08 avg=2.05\n",
            "[60 | 138.46] loss=1.58 avg=1.97\n",
            "[70 | 161.19] loss=1.27 avg=1.87\n",
            "[80 | 184.12] loss=1.36 avg=1.80\n",
            "[90 | 207.21] loss=0.72 avg=1.68\n",
            "[100 | 230.43] loss=0.42 avg=1.55\n",
            "======== SAMPLE 1 ========\n",
            " hundred percent of both the total sum and any interest which might be accrued on it at maturity before the maturity date. This deal is sometimes termed the Chase  Direct offer.  The money is already on its way to you in a checabdn form, from which it is waiting  for our Diplomatic Security and Finance Representative to reach here in Dubai.  In case you are not familiar with him or his  contact email, I recommend watching this video:  http://www.cnn.com/2010/WORLD/02/02/uk/politics/the-second-in-second-in-second-episode-1.  http://www.cnn.com/2002/WORLD/2002/WORLD/europe/  So get down to business now, let me see if I can get your  signature as a co-operating member of the party  standing in as the next of kin. I will be  very glad to give you a very medium to long  response so that you can reply and explain  why you are the need for me in the first place.  I want to start by thanking you for your co-operation and  I want to apply the next of kin (purchase) rights  before the 21st of January in a manner that will help us avoid confusion  with the Security Community when it comes to his claim. I have also wanted  to change the security code of every bank of this world since the very beginning  of this project, even though I don't know anything about this world, because nobody has been  portrayed as a risk in this project. Also I want to remind you of the  duties and expenses that go into this transaction, as well as the immense  reward for your services over the past few days! Finally I want to remind you of the immense sense of  purpose instilled in me by the success of this project, by keeping this transaction a secret  for all to come. I congratulate you on your prompt response, as I look  forward to sending to you the signed affidavits which will be used to back up this and subsequent  responses. I must use this opportunity to implore you to exercise enormous  political will to keep this matter extraordinarily confidential, and to come to  your sense  and consent to this transaction before it is subjected to the rigour and  secrecy that is so essential for both of us to release this deal to  all involved. I wish to remind you with dueity, that this transaction is  100 per cent risk-free, and that my proposal is totally  without indulgence. I await your prompt response , as I make  this urgent and very incontrovertibly pro-active investment decision based on  my conviction that you will be 100% beneficiary.A Reply to this Journal  from the Deputy Attorney-General to Engr.Wacha MB [email protected] Your first and the only  reply I will give you to this Journal, you are  entitled to two more files. The first will be a total  expences document that will be used after the total  expences will be kept for all parties to see.  The second will be a statement of all the money's out  at once with the Bank   account numbers or the last two (2) be used for deposits.  Particularly as I have no other bank  that can handle this money at home, let alone any  different account numbers, let alone both  accounts  can open in the same day let alone  different instalments.  And, the whole business is risk free for both parties.  The statement of all the money's out at  once will be kept for up to 14  days, and the expences will be  shown on a yearly basis by the bank where the money was  transferred.  Hence, the transparency of the statement. It will  be of utmost secrecy whether or not any  account number or account number is being opened over to any  different  account number. The purpose of the account   is to  facilitate the transfer of extra Money to your account. For  this purpose,you will be required to tell the bank  where the money is / is being transferred immediately where the  money is being carried  transferred/stamped and for details detailing the  annual account balance and amount invested.  The procedure  for opening and using an open  account is as described on the proposed s/h  website. All required particulars are to be  provided to you by the concerned  person with immediate effect thatiew your account activated at  now's' usually an email confirmation and the details  will be forwarded to you as soon as the needed sum is shown  to the customer. It  will beagile to track down the  name or address of the customer whose money I  want to open an account with  now that I have confirmed the open  account. I shall be glad to hear from you.  Please include your phone and fax numbers so that I\n",
            "\n",
            "[110 | 263.91] loss=0.48 avg=1.44\n",
            "[120 | 287.23] loss=0.27 avg=1.34\n",
            "[130 | 310.63] loss=0.29 avg=1.25\n",
            "[140 | 334.12] loss=0.15 avg=1.17\n",
            "[150 | 357.75] loss=0.19 avg=1.10\n",
            "[160 | 381.61] loss=0.11 avg=1.03\n",
            "[170 | 405.47] loss=0.15 avg=0.98\n",
            "[180 | 429.27] loss=0.12 avg=0.93\n",
            "[190 | 453.06] loss=0.07 avg=0.88\n",
            "[200 | 476.80] loss=0.09 avg=0.83\n",
            "======== SAMPLE 1 ========\n",
            " and have agreed to provide me with the full particulars of their business. In view of your willingness we shall be able to get on with life and developing a huge business. I am SON-MRS MARIAM ABACHA,the a widow of the late Nigeria Chief Minister Maryam Abacha who died on the 8th of June,1998. Ms Abacha was the wife of Nigeria Minister of Southern Industry and Mineral Deposit KUSHI ABACHA who died on the 8th of June,2006. I am the only surviving SON-MRS MARIAM ABACHA and this e-mail address HAS ANYONE RELEASED ANYONE FOR MAKING THIS DEAL STRICTLY CONFIDENTIAL?  No one but me knows the identity of the person who sent this email. WHAT A DEAL! Let's find out!  1.  I am SON-MRS MARIAM ABACHA,the wife of the late Nigeria Minister of Southern Industry and Mineral Deposit KUSHI ABACHA WHO WAS THE DUTCH, RUSSIAN MINISTER TO THE FEDERAL MINISTRY OF EARTH AND AFRICAN MINISTRIES .  Dear Sir,  I write in thanks for the support and the opportunity I have in this project. I have kept all the documentations as is strictly required for this transaction, as well as all the legal documents concerning the various copyright policies and guidelines in place in our country. Also, I have arranged for you to assist me in opening up discussions with top international bodies about developing a Central Bank of South Africa (CASA) here, as is absolutely required of a leader with strong political will and an urgent and sincere desire to serve his people.  I wish to repeat however that this proposal also delights me as it will definitely give rise to an urgent and sincere discussion soon.  I would love your indulgence to receive it conditionally because I am constrained by the current state of the international banking and finance system here in South Africa.  However, if this proposal constitutes the basis for a change of attitude and decision, I will immediately equip you with all the necessary information and documents to enable us see this transaction through. I assure you that this will be most conducive to your interest and my. Engr. benefit as a result of which I will give you all the information needed to effect any transaction in this field.  This transaction, would be foiled by any means legal and appropriate to my purpose, as this would involve the payment of the principal amount of  the deposit to you, and the transfer of the balance to your local account.  I wish to repeat here, as a necessity to convey this message with your full consent and trust, I will absolutely no more allow any of my subordinates into your country to discuss about our mutual benefits or any transaction that might interest them.  This would be a total and utter breach of the trust I placed in you both, and my oath to serve my people. I wish to use this moment to introduce myself to you, I am Mrs.Somali Maryam Abacha,the wife of the late President Jonas Sonderk following the death of my husband three months ago.  I had hoped that the sudden death at the hands of the current Commander-in-chief (JIN) would bring about a change of government and lead to Abba's removal from office, hence my husband's death. But, I underestimated the strength of the Southern Movement which was building up in South Africa, as the President was highly respected in his country, he failed to act on his invitation and step down on the 15th of June. I am convinced that you would do well to exercise due indulgence to come to know and understand that my husband's life is inextricably bound by this document, as there is no other way to end this fatal emergency.  I wish to use this opportunity to inform you that this my husband's condition is very good, and the only thing I have against me is my life, as I want to have a family of my own, and this is how I died, (interrupted) by the Husband, Army General Johannes H. Brown. the only African I know, and very well educated on, who says that he has no knowledge of the War without End any more? Well, I am convinced that you would accept this as true, that the reason I got involved in this business venture is because of my husband, General, because of which I lost my husband 2 years ago.  I am making this proposal because of the financial assistance I will give you when I present you to my people to form a New Zealand National Government. As a result of this financial assistance, which guaranteed my safety and well-being, and which also made me a citizen of New Zealand, I acted on my instinct and made the decisive decision to come to this country to form a new country. I am Mrs.Somali Maryam Abacha,the daughter of the late President Jonas S\n",
            "\n",
            "[210 | 509.78] loss=0.05 avg=0.79\n",
            "[220 | 533.50] loss=0.06 avg=0.75\n",
            "[230 | 557.23] loss=0.06 avg=0.72\n",
            "[240 | 580.91] loss=0.04 avg=0.69\n",
            "[250 | 604.55] loss=0.06 avg=0.66\n",
            "Saving checkpoint/mal/model-250\n",
            "[260 | 630.79] loss=0.06 avg=0.63\n",
            "[270 | 654.34] loss=0.04 avg=0.61\n",
            "[280 | 677.91] loss=0.13 avg=0.59\n",
            "[290 | 701.48] loss=0.04 avg=0.57\n",
            "[300 | 725.04] loss=0.05 avg=0.55\n",
            "======== SAMPLE 1 ========\n",
            " by the Committee. As you may have heard by the recent results of this Committee work, I decided to spearhead a project in friendship with the assistance of a Foreign Partner to SOUTH AFRICA AWAIT THIS COUNTRY,AS A FUND FROM THE LATE VENTURE OF MY LATE FATHER, HE WAS THE FIRST AND LENDER TO RICHARD KASICH . THE LATEvEMBER OF 1996,  I AND MY GROUP WAS ENORMOUS THAT RICHARD KASICH  HEALED MY FAMILY FOR UNAUTHORIZED FUND  WHICH HE SUBDIOUSLY KEPT IN A SECURITY COMPANY  WHERE YOU CAN LEGALLY TRANSFER, STAY AND PARTNERSHIP  BOTH A VERY MARY AND A VERY KINDLY PRIVATE LIFE  WHICH VIOLS US A DEALFUL WISH.  WHICH IS IMPORTANT AS WE WOULD  NEED TO TALK ABOUT THE BIG ADVISE TO ANY PARTNER OR TO  ANY PARTNER ELSE WHO WAS LOOKING FOR A HUSBAND TO ESCAPE  US OUT OF AN OVER INRATED EUROPEAN BANK OF NIGERIA . MOREOVER , WE  WOULD THINK ABOUT IT AS A DEAL  WHICH WE KEPT AS A DEAL FOR  INCIDENTAL EXPENSES. 2008:Narain Fukuoka 陶�津算流  THE LATE PRESIDENT OF THE DEMOCRATIC  REPUBLIC OF  DEMOCRATICA DONATEMENT  (CONSERVATIVE REPOSAL)   AND THE REPOSITIONED amount is $15.4Million  (Twenty Five Million, Five Hundred Thousand United States Dollars). PART OF THE  TRANSFER  FUND WAS TRANSFERED TO A SECURITY COMPANY  IN DAKAR SENEGAL FOR SAFE HAVING AN OVER IN THE CIVIL  ADVICE FROM A Member of OUR  Politburo . THE ASSUMPTION IS THAT YOU WON A MAJOR CONTRACT  AND SUB-CONTRACTED OUT TO OTHER COMPANIES.MORE OF  THESE OTHER COMPANIES KEEPING CONTACT WITH US FISHER IN THE  TAKING OF OUR BUSINESS  AND THE SETTLE TO BALANCE OUT. THESE  NOTES ARE CONCLUDED IN  ONE  TO UNDERSTAND THAT THE COMPANIES  THAT ENTER into contracts with this    note tribe say nothing about the long-term  health and safety consequences if    they do not receive the money. THE ONLY OTHER COMPANIES  THAT HAVE ACCEPTED THIS MOVE claim it for    its needed maintenance and repair and some    recovering after that.  CAUSED THAT THE TRUST  REPOSED ON YOU AT THIS JUNCTURE IS OVER IN  DEATH, DEATH BY SHAME ON YOU AND YOU KNOW THAT I  AM THE ONLY SON ELSE WHO HAS THE OUNTRIBUS FULL  OF DOCUMENTS  FOR US$30.8 MILLION U.S DOLLARS.  I WAS THE BASIS FOR THE BIG DEAL  WHICH WAS LEAVES FROM CHINA AND IT  WAS  STILL HAPPENING  BEFORE THE 3RD SERVE ON THIS WEBSITE.  I WAS SO  CONFIDING IN YOU TO THE TRUST  REPOSED ON YOU AT THIS JUNCTURE IS OVER IN  DEATH, DEATH BY SHAME ON YOU AND YOU KNOW THAT I  AM THE ONLY SON ELSE WHO HAS THE OUNTRIBUS FULL  OF DOCUMENTS FOR US$30.8 MILLION.  I WAS THE BASIS FOR THE BIG DEAL  WHICH WAS LEAVES FROM CHINA AND IT  WAS  STILL HAPPENING  BEFORE THE 3RD SERVE ON THIS WEBSITE.  I WAS SO  CONFIDING IN YOU TO THE TRUST  REPOSED ON YOU AT THIS JUNCTURE IS OVER IN  DEATH, DEATH BY SHAME ON YOU AND YOU KNOW THAT I  AM THE ONLY SON ELSE WHO HAS THE OUNTRIBUS FULL  OF DOCUMENTS FOR US$30.8 MILLION.  I WAS THE BASIS FOR THE BIG DEAL  WHICH WAS LEAVES FROM CHINA AND IT  WAS  STILL HAPPENING  BEFORE the 3RD SERVE ON THIS WEBSITE.  I WAS SO COMPROMISING THAT YOU  WILL NOT HAVING AN OUNTRIBUS OPEN OR OPEN FOR ANY  FURTHER DEAL.  I DON'T KNOW YOU BUT I ARE INTERESTED IN  TAKING THIS DEAL FOREVERSLOWLY.  PLEASE SEND ME YOUR REPLY TO:\n",
            "\n",
            "[310 | 757.84] loss=0.05 avg=0.53\n",
            "[320 | 781.45] loss=0.05 avg=0.51\n",
            "[330 | 805.08] loss=0.05 avg=0.50\n",
            "[340 | 828.70] loss=0.07 avg=0.48\n",
            "[350 | 852.34] loss=0.04 avg=0.47\n",
            "[360 | 876.05] loss=0.06 avg=0.45\n",
            "[370 | 899.80] loss=0.06 avg=0.44\n",
            "[380 | 923.55] loss=0.04 avg=0.43\n",
            "[390 | 947.31] loss=0.05 avg=0.42\n",
            "[400 | 971.06] loss=0.03 avg=0.40\n",
            "======== SAMPLE 1 ========\n",
            "  MRS. SUGAR SON  rev_savimbi@juniperres.com  Regards, J.Rodney Chesson.  31.  Uniqlo Plc \", 'ASSISTANCEW  NEEDED. ASSISTANCE REQUIRED FOR ACQUISITION OF REAL ESTATES.                                 Dear                             Kind Regards,                        CTA: chesson_chesson@yahoo.co.uk  ATTN:PROJECTIVE AGREEMENT                     Subject : Obligation to Promote                                  To Dear Community:                  Dear Conduct                          For                                         It is a pleasure being here today.                        I hereby sum up my situation in                                             My situation is quite different from that of the last                   employees here in                           .      In                        I am Dr.David Bryan Ellis, I am the Personal Attorney to Mr.David Bryan Ellis, a 30 year old British National who died on December 22, 2002,while leaving hispatial                      at the age of 35.                                   My client profile has                                .                                     > Attn: Usable Servicing Attorney,                             I am Mr.Kola Daniel, the senior staff manager for investment at                          we are aware of an account being transferred by the government                              with one of our major banks. This                     account holder is making claims for this account on behalf of his extended family.                                                                                                 Since claims have been made, we  need your                  assistance to transfer the                      account to you.                           The customer is the eligible transferee        \n",
            "\n",
            "[410 | 1004.03] loss=0.05 avg=0.39\n",
            "[420 | 1027.74] loss=0.04 avg=0.38\n",
            "[430 | 1051.49] loss=0.03 avg=0.37\n",
            "[440 | 1075.23] loss=0.04 avg=0.36\n",
            "[450 | 1098.96] loss=0.04 avg=0.36\n",
            "[460 | 1122.70] loss=0.03 avg=0.35\n",
            "[470 | 1146.44] loss=0.04 avg=0.34\n",
            "[480 | 1170.19] loss=0.03 avg=0.33\n",
            "[490 | 1193.92] loss=0.06 avg=0.32\n",
            "[500 | 1217.68] loss=0.03 avg=0.32\n",
            "Saving checkpoint/mal/model-500\n",
            "WARNING:tensorflow:From /tensorflow-1.15.2/python3.7/tensorflow_core/python/training/saver.py:963: remove_checkpoint (from tensorflow.python.training.checkpoint_management) is deprecated and will be removed in a future version.\n",
            "Instructions for updating:\n",
            "Use standard file APIs to delete files with this prefix.\n",
            "======== SAMPLE 1 ========\n",
            "AL REQUIRED.  PLEASE TAKE A LOOK AT THIS WEB PAGE FOR IT SAYS ALL.  http://news.bbc.co.uk/hi/english/world/africa/newsid_1839000/1839252.stm  Before the death of my father he deposited 16M (Sixteen million dollars) with a security company in Europe as valuables. All the legal documents for the deposit are with my mother which my father gave to her for safe keeping. After the death of my father I and my family fled to South Africa where we are currently living. And we have been trying to fly to Europe but it has been difficult for us to get visas from Africa. So we want you to help us make claims of this fund ($16m) in Europe as my family beneficiary and transfer the money to your account or any account of your choice before I and my family can get visas to fly down to your country so that we can share this money.  My family have agreed to give you 10%, which would be ($1.6Million dollars) of this Money for your assistance, and 87% would be for us and the other 3% would be set aside for any expenses that we may incure during the course of this transaction. And part of our share of 87% would be invested in your country in any profitable business proposed by you. While a large part of our share will also be used to help charity organizations.  We have never met, but I want to trust you and please do not let us down when this fund finally gets into your account. Please if you are interested; get to me through my email address to enable me feed you with more details and all necessary documentations.  Please treat this as confidential.  Best regards,  JOHNSON SAVIMBI ', 'RE: Assistance/Fund Transfer Dear Sir/Madam,  I got your contact from an email directory and decided to contact you for assistance. I am the son of JOHNSON SAVIMBI the rebel leader in Angola who was short dead on the 25th of February, 2002, by the opposing Angolan Army.  PLEASE TAKE A LOOK AT THIS WEB PAGE FOR IT SAYS ALL.  http://news.bbc.co.uk/1/hi/world/africa/newsid_1839000/1839252.stm  Before the death of my father he deposited 16M (Sixteen million dollars) with a security company in Europe as valuables. All the legal documents for the deposit are with my mother which my father gave to her for safe keeping. After the death of my father I and my family fled to South Africa where we are currently living. And we have been trying to fly to Europe but it has been difficult for us to get visas from Africa. So we want you to help us make claims of this fund ($16m) in Europe as my family beneficiary and transfer the money to your account or any account of your choice before I and my family can get visas to fly down to your country so that we can share this money.  My family have agreed to give you 10%, which would be ($1.6Million dollars) of this Money for your assistance, and 87% would be for us and the other 3% would be set aside for any expenses that we may incure during the course of this transaction. And part of our share of 87% would be invested in your country in any profitable business proposed by you. While a large part of our share will also be used to help charity organizations.  We have never met, but I want to trust you and please do not let us down when this fund finally gets into your account. Please if you are interested; get to me through my email address to enable me feed you with more details and all necessary documentations.  Please treat this as confidential.  Best regards,  JOHNSON SAVIMBI ', 'Reply Mr. Zuhair Idris  Jordan Kuwait Bank  Credit Department  Amman, 11191 Jordan  Dear Sir/Madam,  I am  Zuhair Idris official of Jordan Kuwait Bank Limited .This is an urgent and very confidential business proposition.  On June 6, 2000,a Foreign Oil consultant/contractor with the pakistan  Asian Institute of Mining and Metallurgy, Mr.kassim Hassan made a numbered time(Fixed) Deposit for twelve calendar months, valued at $12,000,000.00,(Twenty-six Million, five hundred thousand Dollars) in my branch.  Upon maturity,I sent a routine notification to his forwarding address,but got no reply. After a month,we sent a reminder and finally we discovered from his contract employers, the National Petroleum Corporation that  Mr.kassim Hassan died from an automobile accident.On further investigation,I found out that he died without making a WILL,and all attempts to trace his next of kin\n",
            "\n",
            "[510 | 1253.06] loss=0.04 avg=0.31\n",
            "[520 | 1276.92] loss=0.05 avg=0.30\n",
            "[530 | 1300.72] loss=0.06 avg=0.30\n",
            "[540 | 1324.49] loss=0.05 avg=0.29\n",
            "[550 | 1348.28] loss=0.03 avg=0.28\n",
            "[560 | 1372.05] loss=0.06 avg=0.28\n",
            "[570 | 1395.78] loss=0.02 avg=0.27\n",
            "[580 | 1419.52] loss=0.05 avg=0.27\n",
            "[590 | 1443.24] loss=0.03 avg=0.26\n",
            "[600 | 1466.97] loss=0.02 avg=0.26\n",
            "======== SAMPLE 1 ========\n",
            " hence if you want to speak with me, I urge you to get down to it as soon as you are comfortable with it. I would also like to remind you that this contact is NOT an extradition request,because I am NOT an attorney. This request may seem strange, but I am an ordinary man and you should NOT seek my assistance, EVEN IF you are not his trustee.  Dear Sir,  I offer my services to you in bringing about your acceptance to be contacted by you as his trustee. This proposal  is NOT without its complications.For starters, I am an ordinary man. When I was 10 years old, my father asked my mother to kill me for being gay.  I have always been kind to my family, and I will always be to you, because I am the nephew and nephew of the late Jonas Savimbi, the former leader of the rebel rebel movement in Angola who was short dead on the 25th of February, 2002, by the opposing Angolan Army. I was under the influence of years of prescription drug abuse and therefore, I was not around to make the request, as I was not capable or particularly interested in handling a huge sum of money. But I did come over to seek his assistance, because I was interested in investing in his country. I have always been interested in business, and I am very interested in investing in your country.  I work with the Union Bank of Angola (UBA), and was one of the negotiators on a particular arms deal between Saudi Arabia and the rebels in Angola who were short dead on the 25th of February, 2002, by the Saudi Army.  I have always been interested in business, and I am very interested in investing in your country.  I want to transfer out $16 million (US$16.5M) a year ($1.6M) of our country's total funds into your account. I will give you my Tel numbers for your good convenience, IGO,so you can  assist me in making the right investment, by contacting you directly, but first I want to start by asking for your consent to assist me, in order to enrage the Saudi government and get the funds transferred into your account.  I first started working with the Saudi National Petroleum Corporation (SNPC) in December 2003, and have been working since.ispentimes since.usually to transfer out the US$16.5M (US$16.5M) a year (Seven Pounds) into your account.  I have always been interested in business, and I am very interested in investing in your country.  I want to transfer out $16.5M (US$16.5M) of your total funds into your account.  I will give you my Tel numbers for your good convenient convenience, but first I want to start by asking for your consent to assist me, in order to enable me to advance the project of my choice, by transferring out the money (US$16.5M) into your account.  I will give you my Tel numbers for your good convenient convenience, but first I want to start by asking for your consent to assist me, in order to enable me to present you as the beneficiary of the money.  I want to transfer out $16M (US$16.5M) /yearlylyprovisional payments from my UTM (Women Entrepreneur) Bank to your account, hence this contact.  I will give you my Tel numbers for your assistance, i wish to use them as a human shield to stop you from informing us.  I want to transfer $16M (US$16.5M) out of your bank for your personal use,as a last resort after you receive some relevant documentation indicating your interest.  This request may seem strange, but I beg you to keep in mind that this is a very urgent need for our company, United States Mining Co.'s (MRS Corporation) assistance, as we are no strangers to the use of illegal drugs. For this, you shall be considered to have executed a contract for the ministry for which payment (including expenses) was been made. Upon your acceptance to work as our clients trustee, we intend to issue you a notice to return your deposit, or a similar document showing your deposit, to our bank. This notice shall set out the total sum of US$38.5M Registered Joint Contract ($Deposit) and shall probate by you as to whether or not you are related to them, shall be used to buy the area within which you will live and operate your business. Your name and address shall also be noted. You are requested to communicate your acceptance to this proposal within 14WednesdaySats (GMT+00:14) 1996-0400fax, so that us and your bank employees will decide how to proceed. A confirmation email will be sent to you as soon as you respond.  Yours faithfully,  Mr.Kola Daniel. ', 'Don't let us off easy! Message/reply me\n",
            "\n",
            "[610 | 1499.86] loss=0.02 avg=0.25\n",
            "[620 | 1523.61] loss=0.02 avg=0.25\n",
            "[630 | 1547.39] loss=0.03 avg=0.24\n",
            "[640 | 1571.17] loss=0.03 avg=0.24\n",
            "[650 | 1594.93] loss=0.02 avg=0.23\n",
            "[660 | 1618.69] loss=0.04 avg=0.23\n",
            "[670 | 1642.43] loss=0.05 avg=0.23\n",
            "[680 | 1666.19] loss=0.04 avg=0.22\n",
            "[690 | 1689.93] loss=0.02 avg=0.22\n",
            "[700 | 1713.68] loss=0.04 avg=0.21\n",
            "======== SAMPLE 1 ========\n",
            " of my late father and I only want to get this great and warm passport as a pensioner for my late father . To accord this fund  properisation and be eligible for this fund  which was originally given to me by my late father, I must be of legal age to hold it. Further info on this transaction is available at: http://en.facebox.com/eagle09/confidential/view?id=1347  GENERAL ASSISTANCE W/ MR HAMIES (Munich-Falkfair Institute for Strategic and Cooperation Studies). Ex-ICC/UNITA member and member of the Swiss Federal Ministry of Foreign Affairs/Manager of UNITA 1998 to 2003, I am also a trustee to LATE CONFEDER Sir Alan Wilson's Estate in Falkirk, South-Africa. It is a residential estate here with my late father. I changed my last name from Mona to him in light of his participation in a money laundering scheme. In fact, I saw him deposited some of my late father's money in his bank and deposited some in his estate. I then desired confirmation that this money is real and not a scam. I then waited for his reaction and reassured him that my proposal is free of risk and troubles. I then entrusted the money to him for safe handling and monitoring by me. I have waited all this time for security and I now desire its confirmation. I believe that by following your lead, I can establish a trustworthy bank account in South-Africa for this purpose. I have waited all this time for security reasons, and I now desire its confirmation. I have lodged formalof my request. I wish to draw your attention to my development in that you are capable and sympathetic to assist us in transferring the money out of South-Africa for investment purpose. This has been my experience before in this respect, and has invested me millions of South-Africa Dollars. I then desired its confirmation. I have lodged formalof my request. I wish to draw your attention to my progress in this regard. I have therefore instructed you to contact me immediately via my above email address. You can also contact me on my public email address, <a href=\"http://en.facebox.com/eagle09\">@facebox.com</a>. I am making this contact of yours alone, as I have no other alternative but to solicit for your assistance. Yours truly, o x ORIGINAL  CONTACT FROM LATE CONFEDER to YOURS FAITH TO ASSISTANCE.  I am a young man's man interested in investing in your country . I was attending my senior prom with my mentor Mr. Mona Lisa from Jogland tribe in South-Africa. After the death of my mentor I became ill and died on the spot, as a result of my injuries. I then lost my ability to speak and oughtaile to go for a career in advertising and also lost my future husband.  I then desired a peaceful life, as I no more had interest in conflicts and wars. For this reason, I secretly left Angola and came here (Holla! nd) to seek for political asylum. I am sincerely proposing to you to render me your most needed assistance in respect to safekeeping of some of my mentor's money that arose from Diamonds sales. This money (US$18.5million), which was already on its way to my Uncle's Swiss Bank account, through the Diplomatic means we use to move money abroad, and was on transit with a private safe deposit security company here in Amsterdam, Holland in February last year when the tragic incident of my Uncle's death occurred. I then instructed the company to secure the consignment containing the money pending on further instructions from me. I have waited all this time now for security reasons, and have now decided to act with your reliable assistance. As a matter of fact, the reason I came to Holland and sought for political asylum here is the safe deposit with the Security Company here in Amsterdam.  President Jose Eduardo Dos Santos has lobbied the International Community to freeze my Uncle's assets and accounts abroad, to ground UNITA, and has already done this in Angola. Hence I cannot lodge the funds in my name. Also I did not provide the documents to the government here, to enable them to freeze my Uncle's assets and accounts. I plan to use this money to safeguard my future. It is very essential that you understand that the kind of trust and confidence I want to place in you is extraordinary, and an act of desperation on my part, in order not to lose this money. Please ensure that this contact with you should be treated with utmost secrecy.  Your role in this project, is acting on my behalf to clear the safety deposit containing the money which is deposited in my name, from the Security company, after which, the money will lodged into an account preferably a new account you should open for this transaction.  My share of the money will be returned to me when my\n",
            "\n",
            "[710 | 1746.59] loss=0.04 avg=0.21\n",
            "[720 | 1770.31] loss=0.03 avg=0.21\n",
            "[730 | 1794.04] loss=0.03 avg=0.20\n",
            "[740 | 1817.77] loss=0.04 avg=0.20\n",
            "[750 | 1841.51] loss=0.04 avg=0.20\n",
            "Saving checkpoint/mal/model-750\n",
            "[760 | 1867.43] loss=0.02 avg=0.19\n",
            "[770 | 1891.35] loss=0.03 avg=0.19\n",
            "[780 | 1915.16] loss=0.03 avg=0.19\n",
            "[790 | 1938.85] loss=0.05 avg=0.19\n",
            "[800 | 1962.54] loss=0.04 avg=0.18\n",
            "======== SAMPLE 1 ========\n",
            " contact my email address, ', 'A Quick Reply - Please Don't Take My Information*** Personally, I have a very personal proposition for you, I want to tranfer some of my late husband's money (US$25.8 million) for safe keeping in my country (Holland) .  I am interested in investing in your country .  I have a particular project in mind that can be completed in a short time but still beorydicate the right people to help us .  The problem I see with everyone who applies for this account is that they(  us )seize the opportunity to underline their personal and financial plans by giving you a telephone numbers and fax numbers for the required information about this transaction.  The information collected here is confidential .  If you are interested, please reply immediately via my private email, (joseph_franco@yahoo.de ), I will give you my personal telephone number for your call.  You can talk with me on any of my personal email addresses is ok?,  yes ', \"Hello Mr.joseph Franco,  I am contacting you to assist in the transfer of some of my husband's money (US$25.8 million), some of it deposited in our bank might be used for investment ventures abroad and some of it will also be used for travel expenses. I have no other bank but the chance to discuss this transaction with you body leery of your interest. I belong to a privileged and well-placed family and I prefer you contact me through my privileged position in this business.  I am contacting you because of the need to involve a foreigner with a foreign account. I am contacting you because of the need to open discussions with you. This transaction is very confidential as all the parties have an absolute right to act on their behalf. What is required of you is sufficient to enable us discuss and possibly execute the transaction. I personally prefer you contact me through my privileged position in this business because you are expected to be dependable and transparent.  I shall be counting on your your your co-operation to enable us see this deal through. I shall be counting on your co-operation to enable us move this money into the account where it will most best be invested.  We are in the middle of the First Intite 12 commerce in Nigeria. There were reports of an abandoned business in our country by the government officials who died while the British troops were  standing in as the next of kin to Brigadier Chanza. ,, , .\" , \"O.K. O.C. OK - You  Will Be My Partner in the Making of Entire  Account Will Entire  Total Account be Loaded To Your  Attention Will Be A HUGE Message Beeping From My  Pockets.  MIND WHICH INVOLVES THIS ACCOUNT WILL BE  FULL OF CONTAMINATION, REPRODUCTION AND WITNESSESHIP.  BEHIND FIRST IDLE KNOWLEDGE THAT SOMETIME BEFORE HIS DEATH, HE  TOLD ME THAT HE WAS LOOKING FOR A FOREIGN PARTNER TO HANDLE A  FUND AND INVESTMENTED.  HE HAS RETIRED  FROM THE COMPANIES AS THE ONLY SON WITH THE NUMBER TWO  OWNER IS WILLIAMS BROTHER COMPANY. YOU CAN  ASSIST ME IN ANY SECURITY OR TRAVEL CONSEQUENTLY  BY CLIENTS FROM ALL ECONOMICS AND ALLIED DEVELOPMENT  COMPANIES.  PLEASE HOWEVER REIMBURSE YOUR SEARCH FOR  A COMPANY WILL,  ON ANY REQUEST, CALL ME ON YOUR FAX NUMBER +27-83-323-0163.  I ACCEPT YOUR ROLE AS A MATTER OF RESPORTUNITY TO  OUR TRANSACTION EMPLOYED ON EXISTENCE TO THE FULLEST  AND ONLY IF YOU ARE READY TO HELP US SEE THAT OUR BOOK IT  HAS BEEN DEPOSITED WITH THE SECURITY COMPANY IN  DAKAR SENEGAL, THE ONLY SON WITH THE NAME TAKING THIS  DEPOSITED IS A DEAL BY MY FRUSTRATION YOU WILL BE BENEFICIARLY  APPROVED!  JUST IN TIME FOR THE FOLLOWING SINCE YOUR FIRST READINESS, YOU WILL BE FULLY  APPROVED!  YOUR POSITIVE INFLUENCE TO HELP US IS TO CONTACT ME IMMEDIATELY  I WILL BE  WAIVING THE FOLLOWING PHOTOS AND RESULTS FOR YOUR RESPONSE.  FIRST THEY ARE WILLING TO OFFER YOU 20% WITH 5% IN ADDITION FOR ALL YOUR EXPENSES AS COMPENSATION FOR YOUR  COMPENSATION.  THEN THEY WILL THE TIME BEHIND DEALING ON HOW TO INVEST ALL  THE ACCOUNTS OF ANY OF YOUR COMPENSATES IN THE SECOND BATCH.  THE FIRST\n",
            "\n",
            "[810 | 1995.50] loss=0.03 avg=0.18\n",
            "[820 | 2019.29] loss=0.04 avg=0.18\n",
            "[830 | 2043.08] loss=0.02 avg=0.18\n",
            "[840 | 2066.91] loss=0.03 avg=0.17\n",
            "[850 | 2090.75] loss=0.03 avg=0.17\n",
            "[860 | 2114.62] loss=0.02 avg=0.17\n",
            "[870 | 2138.44] loss=0.02 avg=0.17\n",
            "[880 | 2162.24] loss=0.03 avg=0.16\n",
            "[890 | 2186.01] loss=0.02 avg=0.16\n",
            "[900 | 2209.77] loss=0.04 avg=0.16\n",
            "======== SAMPLE 1 ========\n",
            ". My name is Eloy Sakiata, I am a nephew and Personal Assistant to Late Jonas Malheiro Savimbi, leader of UNITA (National Union for the Total Independence of Angola). As led by my instinct, I selected your email address from an internet directory, in my search for a partner, hence this email. I also crave your indulgence to read this carefully, and have a general overview of my situation.  My Uncle (Mentor) was killed in a battle with government forces of Angola, led by President Dos Santos, on Friday 22nd February 2001. After his death, Mr. Antonio Dembo who was his second in command, assumed office as leader of UNITA, due to the lack of Charisma my Uncle had carried the party with in Dembo, there was chaos and struggle for leadership. Prominent members like Carlos Morgado lobbied to depose him and assume office as leader to enrich themselves and some of them who saw me as a threat to their ambitions, including Mr.Dembo, planned to kill me. The tension and confusion in UNITA become uncontrollable when Mr. Dembo died 10days after my Uncle's death. As I already lost my mentor in this struggle that has been on for three decades now, not so much of the struggle interested me anymore, as there was no more sense of direction. I then desired a peaceful life, as I no more had interest in conflicts and wars. For this reason, I secretly left Angola and came here (Holla!  nd) to  seek for political asylum. I am sincerely proposing to you to render me your most needed assistance in respect to safekeeping of some of my Uncle's funds that arose from Diamonds sales. This money (US$18.5million), which was already on its way to my Uncle's Swiss Bank account, through the Diplomatic means we use when making a payment to a foreign partner, and was on transit with a private safe deposit security company here in Amsterdam, Holland in February last year when the tragic incident of my Uncle's death occurred. I then instructed the company to secure the consignment containing the money pending on further instructions from me. I have waited all this time now for security reasons, and have now decided to act with your reliable assistance. As a matter of fact, the reason I came to Holland and sought for political asylum here is the safe deposit with the Security Company here in Amsterdam.  President Jose Eduardo Dos Santos has lobbied the International Community to freeze my Uncle's assets and accounts abroad, to ground UNITA, and has already done this in Angola. Hence I cannot lodge the funds in my name. Also I did not declare the funds to the government here. I plan to use this money to safeguard my future. It is very essential that you understand that the kind of trust and confidence I want to place in you is extraordinary, and an act of desperation on my part, in order not to lose this money. Also, ensure that this contact with you should be treated with utmost secrecy. Your role in this project, is acting on my behalf to clear the safety deposit containing the money which is deposited in my name, from the Security company, after which, the money will lodged into an account preferably a new account you should open for this transaction.  My share of the money will be returned to me when my asylum application in this country is granted, and I have permission to do business and open an account here.  For your reliable assistance, I will reward you with 15%($2,775,000) of the money.  I have with me, the Certificate of Deposit for the safety deposit, which will be used for claim from the security company, and the release codes of the vaults. Also, everything will be legally processed for transfer of ownership to you, and this transaction should be completed immediately depending on your prompt response. I thank you in advance as I anticipate your assistance in enabling me achieve this goal.  Please contact me whether or not you are interested in assisting me. This will enable me scout for another partner in the event of non-interest on your part. To know more about the struggle by UNITA to liberate Angola, click on the links below and read.  http://www.the-idler.com/IDLER-02/3-16.html http://news.bbc.co.uk/hi/english/world/africa/newsid_1839000/1839252.stm Sincerely, O.C.Savimbi.\", \"Private Email Message. Good Day, With warm heart I offer my friendship, and greetings, and I hope this mail meets you in good time. However strange or surprising this contact might seem to you as we have not met personally or had any dealings in the past, I humbly ask that you take due consideration of its importance and immense benefit. I duly apologize for infringing on your privacy, if this contact is not acceptable to you, as I make this\n",
            "\n",
            "[910 | 2242.68] loss=0.05 avg=0.16\n",
            "[920 | 2266.40] loss=0.03 avg=0.15\n",
            "[930 | 2290.11] loss=0.03 avg=0.15\n",
            "[940 | 2313.84] loss=0.05 avg=0.15\n",
            "[950 | 2337.57] loss=0.04 avg=0.15\n",
            "[960 | 2361.27] loss=0.02 avg=0.15\n",
            "[970 | 2385.03] loss=0.03 avg=0.15\n",
            "[980 | 2408.81] loss=0.03 avg=0.14\n",
            "[990 | 2432.59] loss=0.03 avg=0.14\n",
            "[1000 | 2456.34] loss=0.03 avg=0.14\n",
            "Saving checkpoint/mal/model-1000\n"
          ],
          "name": "stdout"
        }
      ]
    },
    {
      "cell_type": "code",
      "metadata": {
        "colab": {
          "base_uri": "https://localhost:8080/"
        },
        "id": "dRKszsZES3mq",
        "outputId": "f26b2f57-797a-49e4-cac3-d4bacce77c58"
      },
      "source": [
        "### IF YOU NEED TO RESTART THE RUNTIME WHICH YOU DO AFTER EACH GENERATE/FINETUNE SESSION\n",
        "# local files are saved\n",
        "%tensorflow_version 1.x\n",
        "!pip install -q gpt-2-simple\n",
        "import gpt_2_simple as gpt2\n",
        "from datetime import datetime\n",
        "from google.colab import files\n",
        "\n",
        "!nvidia-smi"
      ],
      "execution_count": null,
      "outputs": [
        {
          "output_type": "stream",
          "text": [
            "TensorFlow 1.x selected.\n",
            "WARNING:tensorflow:\n",
            "The TensorFlow contrib module will not be included in TensorFlow 2.0.\n",
            "For more information, please see:\n",
            "  * https://github.com/tensorflow/community/blob/master/rfcs/20180907-contrib-sunset.md\n",
            "  * https://github.com/tensorflow/addons\n",
            "  * https://github.com/tensorflow/io (for I/O related ops)\n",
            "If you depend on functionality not listed there, please file an issue.\n",
            "\n",
            "Thu Apr  8 05:47:07 2021       \n",
            "+-----------------------------------------------------------------------------+\n",
            "| NVIDIA-SMI 460.67       Driver Version: 460.32.03    CUDA Version: 11.2     |\n",
            "|-------------------------------+----------------------+----------------------+\n",
            "| GPU  Name        Persistence-M| Bus-Id        Disp.A | Volatile Uncorr. ECC |\n",
            "| Fan  Temp  Perf  Pwr:Usage/Cap|         Memory-Usage | GPU-Util  Compute M. |\n",
            "|                               |                      |               MIG M. |\n",
            "|===============================+======================+======================|\n",
            "|   0  Tesla T4            Off  | 00000000:00:04.0 Off |                    0 |\n",
            "| N/A   70C    P8    12W /  70W |      0MiB / 15109MiB |      0%      Default |\n",
            "|                               |                      |                  N/A |\n",
            "+-------------------------------+----------------------+----------------------+\n",
            "                                                                               \n",
            "+-----------------------------------------------------------------------------+\n",
            "| Processes:                                                                  |\n",
            "|  GPU   GI   CI        PID   Type   Process name                  GPU Memory |\n",
            "|        ID   ID                                                   Usage      |\n",
            "|=============================================================================|\n",
            "|  No running processes found                                                 |\n",
            "+-----------------------------------------------------------------------------+\n"
          ],
          "name": "stdout"
        }
      ]
    },
    {
      "cell_type": "code",
      "metadata": {
        "colab": {
          "base_uri": "https://localhost:8080/"
        },
        "id": "-RhBLjZORlNp",
        "outputId": "7ea977d2-a052-44a1-9643-f375b363dc86"
      },
      "source": [
        "# start new session and load the run name\n",
        "# generate a line for testing\n",
        "sess = gpt2.start_tf_sess()\n",
        "\n",
        "gpt2.load_gpt2(sess, run_name='mal')\n",
        "gpt2.generate(sess, run_name='mal',prefix = 'FROM')"
      ],
      "execution_count": null,
      "outputs": [
        {
          "output_type": "stream",
          "text": [
            "Loading checkpoint checkpoint/mal/model-1000\n",
            "INFO:tensorflow:Restoring parameters from checkpoint/mal/model-1000\n",
            "FROM THE RELEASE:From the Financial Institution:  My name is Mrs.Monica Martins, the wife of late Mr.Zulu Martins, of Liberia.We are in our possession vital approved papers to invoice Mr.Zulu Martins as the next of kin to Lassalle Dembo, an Iraqi refugee ,after which time the couple will not be related. After this Dembo died, and new laws which limited the number of refugees we could accept was introduced, lassalle decided to ban all biological materials and financial records of all Liberians within 14 working days beginning with his last known addresses. This has made my husband the next of kin in lawless Africa, and he has been since de facto the head of state for the past four decades now.  I have in mind that we keep this money for as personal protection since I cannot lodge the required documents with the relevant immigration department.  However, upon due consultation with my husband he determined that this is still a viable and risk-free way of raising a family.  He has since confiscated all our traveling documents and frozen all our account in Liberia.  Now that he has handed down to us the decree on the funds deposit, we are in a panic because of the money's nature.  I haveall arranged and privileged access to the documents and bank accounts of the senior Liberia staffs for safe keeping.  All necessary arrangements have been put in place that i encourage you to seek for political asylum in this country.  However, upon conviction of his unprofessional conduct and refusal to follow the law, heinigs the release of the concerned staff members pending when can be expected here.  Their names are Mrs.Diratu musa, my husband's second in command, and he was his second in command.  Since my husband's death, the Liberian government has been highly co-operative with the US$700.000million ($A1.5M)budget request. We havehed our way through all legal documents and affidavits to this point, and is ready to present to you the documents and opinions that really make you believe that the lives of Liberian men are in serious danger due to the involvement of foreign money.  The main reason why I am contacting you now is to seek for political asylum here in Liberia.  I was diagnosed with Ebola when my father was just 12 years old, and have been since.  Now, my husband and their family have been moved hundreds of thousands of dollarsportantly from my country,after which time we have not had any kin or relation in the least.  Based on this, I am asking you to assist us transfer this money out of Liberia for investment purposes.  [1]. For your efforts, we are prepared to offer you 30% of the total fund while 70% will be kept for our family and we%20forwards.  We have never met before, but I want to trust you, as we will be quickly  treated to a family friendly experience. To this regard, I am giving you kindly 30% of the money ,while 10% will be kept for ourselves and I as well as FORWARDing.  I have therefore been directed to inquire if you would agree to act as our overseas agent in order to actualise this transaction. The deal in brief is thatthe funds with which to carry out our proposed investments in your country is presently in a coded account in the Nigerian apex bank and we need your assistance to transfer the funds to your country or any safe account outside your country in a convenient bank account that will be provided by you before we can put the funds into use. For this, you shall be considered to have executed a contract for the ministry. The contract sum of which shall run into US$15.5Million of which your share shall be 30% if you agree to be our overseas agent.  As soon as payment is effected, and the amount mentioned above is successfully transferred into your account, we intend to use o!   ur own share in acquiring some estates abroad. For this too, you shall serve as our agent.  In your role as our agent, you shall serve as our back channel.  To enable the immediate transfer of the funds, and facilitate the process, I shall be asking you to provide immediately your full names and address so that the Attorney will prepare the necessary documents which will put you in place as the beneficiary of the funds.  The amount of $15.5Million will be my share and you shall be our overseas agent.  As soon as payment is effected, and the amount mentioned above is successfully transferred into your account, we intend to use o!   ur own share in acquiring some estates abroad. For this too, you shall serve as our agent.  In your role as our agent, you shall serve as our back channel.  To enable the immediate transfer of the funds, and facilitate the process, I shall be asking you to provide immediately your full names and address so that the Attorney will prepare the\n"
          ],
          "name": "stdout"
        }
      ]
    },
    {
      "cell_type": "code",
      "metadata": {
        "id": "oY6Bn0sp57X_"
      },
      "source": [
        "# generate file text to file name\n",
        "# 200 for shorter length\n",
        "# lower temp for more stability in answers and high batch size for parallel processing of samples\n",
        "mal_gen_file = 'gpt2_gentext_mal.txt'\n",
        "\n",
        "gpt2.generate_to_file(sess, destination_path = mal_gen_file, model_name='124M',                      \n",
        "                      length = 200,\n",
        "                      temperature = 0.5, nsamples = 200, batch_size = 20)"
      ],
      "execution_count": null,
      "outputs": []
    },
    {
      "cell_type": "code",
      "metadata": {
        "colab": {
          "base_uri": "https://localhost:8080/",
          "height": 16
        },
        "id": "QdTS6PEnTe0G",
        "outputId": "f2f6f228-199d-47e5-9bcc-9163168702eb"
      },
      "source": [
        "files.download(mal_gen_file)"
      ],
      "execution_count": null,
      "outputs": [
        {
          "output_type": "display_data",
          "data": {
            "application/javascript": [
              "\n",
              "    async function download(id, filename, size) {\n",
              "      if (!google.colab.kernel.accessAllowed) {\n",
              "        return;\n",
              "      }\n",
              "      const div = document.createElement('div');\n",
              "      const label = document.createElement('label');\n",
              "      label.textContent = `Downloading \"${filename}\": `;\n",
              "      div.appendChild(label);\n",
              "      const progress = document.createElement('progress');\n",
              "      progress.max = size;\n",
              "      div.appendChild(progress);\n",
              "      document.body.appendChild(div);\n",
              "\n",
              "      const buffers = [];\n",
              "      let downloaded = 0;\n",
              "\n",
              "      const channel = await google.colab.kernel.comms.open(id);\n",
              "      // Send a message to notify the kernel that we're ready.\n",
              "      channel.send({})\n",
              "\n",
              "      for await (const message of channel.messages) {\n",
              "        // Send a message to notify the kernel that we're ready.\n",
              "        channel.send({})\n",
              "        if (message.buffers) {\n",
              "          for (const buffer of message.buffers) {\n",
              "            buffers.push(buffer);\n",
              "            downloaded += buffer.byteLength;\n",
              "            progress.value = downloaded;\n",
              "          }\n",
              "        }\n",
              "      }\n",
              "      const blob = new Blob(buffers, {type: 'application/binary'});\n",
              "      const a = document.createElement('a');\n",
              "      a.href = window.URL.createObjectURL(blob);\n",
              "      a.download = filename;\n",
              "      div.appendChild(a);\n",
              "      a.click();\n",
              "      div.remove();\n",
              "    }\n",
              "  "
            ],
            "text/plain": [
              "<IPython.core.display.Javascript object>"
            ]
          },
          "metadata": {
            "tags": []
          }
        },
        {
          "output_type": "display_data",
          "data": {
            "application/javascript": [
              "download(\"download_888df2b9-caf7-49cf-ad75-bc35550f9507\", \"gpt2_gentext_mal.txt\", 159248)"
            ],
            "text/plain": [
              "<IPython.core.display.Javascript object>"
            ]
          },
          "metadata": {
            "tags": []
          }
        }
      ]
    },
    {
      "cell_type": "markdown",
      "metadata": {
        "id": "S9_XBVdZCO8R"
      },
      "source": [
        "# Reply Model"
      ]
    },
    {
      "cell_type": "code",
      "metadata": {
        "colab": {
          "base_uri": "https://localhost:8080/"
        },
        "id": "zhJemGh0CIfq",
        "outputId": "d7f620ee-0c42-4bd5-a46d-cb5fc4896191"
      },
      "source": [
        "### IF YOU NEED TO RESTART THE RUNTIME WHICH YOU DO AFTER EACH GENERATE/FINETUNE SESSION\n",
        "# local files are saved\n",
        "%tensorflow_version 1.x\n",
        "!pip install -q gpt-2-simple\n",
        "import gpt_2_simple as gpt2\n",
        "from datetime import datetime\n",
        "from google.colab import files\n",
        "\n",
        "!nvidia-smi"
      ],
      "execution_count": null,
      "outputs": [
        {
          "output_type": "stream",
          "text": [
            "Thu Apr  8 18:07:14 2021       \n",
            "+-----------------------------------------------------------------------------+\n",
            "| NVIDIA-SMI 460.67       Driver Version: 460.32.03    CUDA Version: 11.2     |\n",
            "|-------------------------------+----------------------+----------------------+\n",
            "| GPU  Name        Persistence-M| Bus-Id        Disp.A | Volatile Uncorr. ECC |\n",
            "| Fan  Temp  Perf  Pwr:Usage/Cap|         Memory-Usage | GPU-Util  Compute M. |\n",
            "|                               |                      |               MIG M. |\n",
            "|===============================+======================+======================|\n",
            "|   0  Tesla K80           Off  | 00000000:00:04.0 Off |                    0 |\n",
            "| N/A   62C    P8    31W / 149W |      0MiB / 11441MiB |      0%      Default |\n",
            "|                               |                      |                  N/A |\n",
            "+-------------------------------+----------------------+----------------------+\n",
            "                                                                               \n",
            "+-----------------------------------------------------------------------------+\n",
            "| Processes:                                                                  |\n",
            "|  GPU   GI   CI        PID   Type   Process name                  GPU Memory |\n",
            "|        ID   ID                                                   Usage      |\n",
            "|=============================================================================|\n",
            "|  No running processes found                                                 |\n",
            "+-----------------------------------------------------------------------------+\n"
          ],
          "name": "stdout"
        }
      ]
    },
    {
      "cell_type": "code",
      "metadata": {
        "colab": {
          "base_uri": "https://localhost:8080/"
        },
        "id": "N2aLMbiGCW_4",
        "outputId": "9edd476e-cd6d-4aa9-c1f0-940e42579951"
      },
      "source": [
        "# reply model finetune\n",
        "# using same method as the original generator models\n",
        "file_name = \"reply_train.txt\"\n",
        "sess = gpt2.start_tf_sess()\n",
        "\n",
        "gpt2.finetune(sess,\n",
        "              dataset=file_name,\n",
        "              model_name='124M',\n",
        "              steps=1000,\n",
        "              restore_from='fresh',\n",
        "              run_name='reply',\n",
        "              print_every=10,\n",
        "              sample_every=100,\n",
        "              save_every=250\n",
        "              )"
      ],
      "execution_count": null,
      "outputs": [
        {
          "output_type": "stream",
          "text": [
            "WARNING:tensorflow:From /usr/local/lib/python3.7/dist-packages/gpt_2_simple/src/sample.py:17: where (from tensorflow.python.ops.array_ops) is deprecated and will be removed in a future version.\n",
            "Instructions for updating:\n",
            "Use tf.where in 2.0, which has the same broadcast rule as np.where\n",
            "Loading checkpoint models/124M/model.ckpt\n",
            "INFO:tensorflow:Restoring parameters from models/124M/model.ckpt\n"
          ],
          "name": "stdout"
        },
        {
          "output_type": "stream",
          "text": [
            "\r  0%|          | 0/1 [00:00<?, ?it/s]"
          ],
          "name": "stderr"
        },
        {
          "output_type": "stream",
          "text": [
            "Loading dataset...\n"
          ],
          "name": "stdout"
        },
        {
          "output_type": "stream",
          "text": [
            "100%|██████████| 1/1 [00:07<00:00,  7.94s/it]\n"
          ],
          "name": "stderr"
        },
        {
          "output_type": "stream",
          "text": [
            "dataset has 1329923 tokens\n",
            "Training...\n",
            "[10 | 51.52] loss=2.88 avg=2.88\n",
            "[20 | 95.88] loss=3.02 avg=2.95\n",
            "[30 | 140.16] loss=2.78 avg=2.89\n",
            "[40 | 184.44] loss=2.72 avg=2.85\n",
            "[50 | 228.65] loss=2.81 avg=2.84\n",
            "[60 | 272.91] loss=2.93 avg=2.86\n",
            "[70 | 317.19] loss=2.57 avg=2.81\n",
            "[80 | 361.40] loss=2.80 avg=2.81\n",
            "[90 | 405.62] loss=2.79 avg=2.81\n",
            "[100 | 449.87] loss=2.47 avg=2.77\n",
            "======== SAMPLE 1 ========\n",
            " we  will have  a strong interest to  take a little  hard road.  Please take a picture  of them together -  let me know when  they arrive to see if they have any fun!!!\\nP.S. - If you were unable to make this for the  conference  on Wednesday and Thursday then make sure that we  are in the conference room on Wednesday and Thursday\\nWednesday-Saturday, 5-6pm.  We will get back to you quickly.\\nJeff\\n\\t\\t \\nJeff (\\nThe e-mail in this message is confidential.  It is the only e-mail that is \\ntransmittable to others.', 'It's about time for  them to be in.  \\n\\t\\t \\n\\t \\n\\t \\n ', \"Well it'll be fine if I buy you a drink  next week.  I have been wanting to buy  my drinks since the \\nrest of them in college.  This will help, I'm not sure if  they'll be  a little  tough.\\n\\t\\t \\n \\n\"I'm taking a shower.  It'll be fine.  Let me  tell you about my trip tomorrow.  \\nHey man, I would just send some notes to you on why I have this \\nproblem with you going after a man.\"\", \"Dude, that's great.\\n\\t\\t \\n\\t \\n\"It's a lot to take in.  If you're the one who does it, it's better to leave \\nto us all than to destroy one.  As it turns out, it's not so bad after all.  \\nWe had a conversation about this last Wednesday and it only got more and \\ndiscussed over the past three weeks.  I can tell you, of all the things that go \\nguarantaking, that if I were you, and you and Dad, I would make \\nis most of these people happy.  When it comes to my daughter, and her sister, it \\nwould be a lot easier if we all left it to us.  What I just \\nreally wanted to do with\\nin the family was to make things quite easy for our new daughter.  I didn't \\nyou have to make many decisions about how she should live and play \\nthe rest of her life, but I certainly do feel that I have a\\nlife outside of the family.  I do not want her to think that I\\nhad some sort of physical or mental ill that she is responsible for.  I understand  \\nguarantaking.  So I am taking this in stride with great pleasure \\nand honor.\\nThe only downside I have is that my daughter has been getting married to \\nthis man for years now and I think that her mom could be going \\nback and forth with him or other people.\\nI have some serious reservations with my daughter regarding how she \\nshould be treated.  The main point is that if motherhood were \\ncustomary, I think the best way to deal with this issue would be to \\ntreat her in a comfortable way.  The main downside of that would \\ntay her in a hell of a lot of pain and turmoil if she didn't get \\nyou in a position of authority.  I know that the best way to handle this issue \\nthere is to simply acknowledge that she doesn't want to continue to have \\ntmotherhood.\\nThe main downside of this is that it would make me want to be dead \\nin the room for days to come.  I don't want to have to spend time with a \\nman who wants to take my daughter to the funeral.  I can't imagine the \\nattention that the dead person would get from those people.\\nDo you know how many times my daughter had been told that she was going to \\nthe funeral for sure?\\nThe thing about people and other things is that when they are talking about \\ntanything, they get in the way of the very best they can do it for, and we can't \\nauthorize or allow anyone else to take care of her body.  \\nYou know, most people talk about being a part of the family, but they never really \\nbelieve in any of this.  You know how many times we have tried to convince them to \\ngoodo the decision to get into the funeral business, but they were always so \\nfantastic that they ended up trying to convince themselves that something \\namorrowing about the funeral was better than nothing.  Maybe in a \\nfaster-than-all-the-worlds-could-be-this, but what else would happen?  I have \\nnever heard of a person\n",
            "\n",
            "[110 | 511.49] loss=2.40 avg=2.74\n",
            "[120 | 555.73] loss=2.69 avg=2.73\n",
            "[130 | 599.91] loss=3.02 avg=2.76\n",
            "[140 | 644.16] loss=2.74 avg=2.76\n",
            "[150 | 688.38] loss=2.48 avg=2.74\n",
            "[160 | 732.60] loss=2.74 avg=2.74\n",
            "[170 | 776.83] loss=2.68 avg=2.73\n",
            "[180 | 821.04] loss=2.80 avg=2.74\n",
            "[190 | 865.27] loss=2.68 avg=2.73\n",
            "[200 | 909.49] loss=2.28 avg=2.71\n",
            "======== SAMPLE 1 ========\n",
            " \\nI\\n---------------------- Forwarded by Martin J. Mowry/HOU/ECT on 04/22/2000 \\nAttached is the modified contract included in our February/March 6, 2000 \\nreleases. The revised version contains some changes that would be appropriate for \\ntax/language changes (e.g. we are required to obtain a copy to confirm the \\nexceptions and warranties that have been agreed to). The revised \\nscript and the revised contract include new language regarding the \\ntransaction status of the contract. The revised form of contract contains \\nspecific changes that have not been incorporated in any written contract. In our view, \\nthe changed terms would make the revised version more comprehensive and the \\npreliminary language more specific. This was the change we would like to make (but were \\nexecuted in February of 1999). Therefore, in order for the revised contract to \\ndefine confidentiality and ensure all parties have a copy of the contract, \\nall parties would need to be on the same side of the agreement and have a signed \\nDocument of Confidentiality Agreement in each party's hand. The revised version\\nto incorporate these changes should make the revision effective by March 6.  Please review the attached \\ncontract and make any necessary changes.  \\nPlease advise that our contract is subject to change before February 6 as we \\nare now requesting changes to the original contract for clarity.\\nIf you have any concerns regarding the original contract, please contact \\nwe at 713-546-7307. If you have any questions or require more information, \\nplease discuss them with us in our Customer Affairs group on our Monday \\nmeetings.\\nBest Regards,\\n\\t\\t \\nMartin J. Mowry\\n    \\n    \\nAttached, can you find the agreement from the original contract?  Thanks \\n                                                                     I have \\nyour                                                                       \\n                                      \\n                                                                                                                                                                          |======================================================================\\nIf you are not familiar with this  (i.e., where we get \\ndamages for the amendments we make to our   contracts), let me know. \\nI will also pass along your email of the draft.\\nVince\\n                                                                                                                                                      )  \\nWe have agreed regarding the terms of a new     proposed       contract (i.e.,       the                     \n",
            "\n",
            "[210 | 969.78] loss=1.94 avg=2.67\n",
            "[220 | 1013.95] loss=2.56 avg=2.66\n",
            "[230 | 1058.18] loss=2.17 avg=2.64\n",
            "[240 | 1102.44] loss=2.58 avg=2.64\n",
            "[250 | 1146.68] loss=2.73 avg=2.64\n",
            "Saving checkpoint/reply/model-250\n",
            "[260 | 1193.90] loss=2.33 avg=2.63\n",
            "[270 | 1238.11] loss=2.47 avg=2.62\n",
            "[280 | 1282.31] loss=2.06 avg=2.60\n",
            "[290 | 1326.58] loss=2.35 avg=2.59\n",
            "[300 | 1370.79] loss=2.70 avg=2.59\n",
            "======== SAMPLE 1 ========\n",
            "part of the proposed amendment, effective on the date that is 90 days prior to the Effective Date.\\n1. The Committee recommends that the amendment to Section 5 be treated as the following by reference to \\nSection 2 of that section (as re-established under Article I, Section 4?\\n2. Section 5(l)(ii)\\nThe amended language, inserted in Item 4, of Schedule 1 under Section \\n2 and Section 6, reads as follows: 'In such case, the Secretary of State shall publish the effective date \\nyou have indicated by September 1, 2001.\\nIn connection with this Agreement, the following language shall be added to Article IV, \\nof this Agreement.\\nIn each event when the Agreement ends and such terms as the \\nEffective Date of such Agreement shall become effective on the first day of each \\nyear, the agreement shall continue to function with respect to the provisions of the \\nEnron Commodity Futures Trading Act as amended (43 U.S.C. 1791 et seq.) for the \\nAccounts, Liabilities, Interests, Liabilities and Other Liabilities of the Enron Global Markets \\nServices LLC (\"the \"Global Markets\") shall survive termination of the \\nTransaction and the termination or addition of a new Transaction,\\ntherefore, the Global Markets shall be entitled to exercise its respective\\ncosts (i) against the applicable Termination Charges of the Transactions (the \\nTransaction \"against the applicable Termination Charges\") on the \\nincome or loss thereof, and (ii) against any applicable Interest or Liabilities \\nand other legal charges incurred by such Global Markets against (i) such \\nTransaction, (ii) any such Interest or Liabilities, or (iii) any other \\nlegal matter.\\n2. Notwithstanding the other provisions of this Section, any Transaction which \\n(i) contains an Article IV, Articles IV, clause or a provision of a  Article \\nvoiding provision (Article II, Article V) or (B) provides for the amendment of that \\nSection or (C) limits the term of such Transactions to one (1) year.\\n3. Section 5, in its entirety, reads as follows\\x01, of Article V, provided as follows\\n ', 'Sara; I agree to have any changes made by us under penalty of perjury.\\n\\t\\t \\nyou also agreed to have any changes made by us under penalty of perjury.\\nSara\\nHere's the deal.  We did not ask to change the definition of the word \"prompt\".\\nThe first sentence of the attached document is problematic.  The sentence before the \\nline 19 and the line 19 that follows should have been clear.  If we don't need to \\nchange the second line of the attached document, please suggest that we move back \\nthe last sentence, rather than replacing the last line of the attached by \\nline 19. The language is in response to your request.  If you disagree \\nin doing so we can review the attached.  In addition, you need to let me know what \\nchanges you would like to see.  If we can agree on the next sentence, we can \\nmove on.\\nSara S. Jones\\nEnron North America Corp.\\n1400 Smith Street, EB 3801a\\nHouston, Texas  77002\\n713-853-5620 (phone)\\n713-646-3490 (fax)\\n\\t\\t \\nCan we agree on the next sentence that is missing from the attached to \\non the first sentence, or the next sentence could contain a separate \\nerror?\\nCarol J. Cook\\nEnron North America Corp.\\n1400 Smith Street, EB 3801a\\nHouston, Texas  77002\\n713-853-5620 (phone)\\n713-646-3490 (fax)\\n\\t \\nCarol -- We did ask you for your opinion on the definitions of the word \"prompt\".  We thought that you \\nwould want to look at what the language says about the purpose of the \\nquestion.  I believe that there is no need to change the definition by line \\ndecland, because that is what the language says.\\nAlso, does the second sentence in your request reflect the opinion that it \\nshould be changed in this document?\\nCarol J. Cook \\nEnron North America Corp. \\n1400 Smith Street, EB 3801a\\nHouston, Texas  77002\\n713-853-5620 - phone \\n713-646-3490 (fax)\\n\\t\\t \\nCan you please point to any instances in which it might be helpful to see \\nany definition\n",
            "\n",
            "[310 | 1431.06] loss=2.22 avg=2.58\n",
            "[320 | 1475.34] loss=2.23 avg=2.57\n",
            "[330 | 1519.59] loss=2.47 avg=2.56\n",
            "[340 | 1563.79] loss=1.97 avg=2.54\n",
            "[350 | 1608.02] loss=2.72 avg=2.55\n",
            "[360 | 1652.28] loss=2.64 avg=2.55\n",
            "[370 | 1696.55] loss=2.21 avg=2.54\n",
            "[380 | 1740.81] loss=2.28 avg=2.53\n",
            "[390 | 1785.05] loss=2.53 avg=2.53\n",
            "[400 | 1829.31] loss=2.46 avg=2.53\n",
            "======== SAMPLE 1 ========\n",
            "ack for Enron.\" \\nWe can do that for the EWS case if we want.\\nDavid\\nThanks\\nBob--   Thanks for the note. Did you get the EWS case?  Is it in a file with our other customers?  Let me know.\\Nancy\\n(707) 251-4870 (phone)\\n713-276-4870 (fax)\\n\\t\\t \\nBob,\\nI have a couple of things I want to discuss with you about this matter. First, I would like to get a brief update on how things are going and we can sort this out. I'm afraid that the \"big-picture\" analysis and the \"rationales of this theory\" argument (if we're going to have these discussions) won't be very helpful to our situation, and if we need the \"big picture\" analysis some of the \"rationales\" of this theory are \"very difficult.\"\\nSecondly, I am not sure how we can get this in the ISDA without the \"realistic assumption that everything is equal.\"\\nI would be more concerned about getting \"a little\" insight into what exactly they think is going on in the EWS case and the fundamental arguments at stake than about getting this \"little insight\" into what the ISDA is actually accomplishing.\\nI want to work some things off some conversations I had with my legal team.  The key item to my attention is \"how are we doing.\"  How are you guys doing? If not when are you doing these things?  Any thoughts?\\nSara Shackleton\\nEnron North America\\n1400 Smith Street  N.A.\\nHouston, Texas 77002\\n713-853-3345 (M-F)', '---------------------- Forwarded by Mara Bader/Corp/Enron on 03/27/2001 \\n \\nI think our case would go to Judge Shackleton and he doesn't like that much.  He would like it that way if he can get a few votes.  \\n---------------------- Forwarded by Mara Bader/Corp/Enron on 03/27/2001 \\n\\t\\n---------------------- Forwarded by Mara Bader/Corp/Enron on 03/27/2001\\nMark,  \\n---------------------- Forwarded by James Robinson/MADISON on 03/28/2001 \\nMark,\\n\\tWe agree that the defendants are guilty and have pled not guilty.  The parties agree that we either have sufficient information to prove the facts, or both have sufficient evidence to show that there was no conspiracy.\\n\\t\\nIf the defendant are found not guilty, Section 2798B of the California Business & Professions Code, Section 27101 of the California Business & Professions Code, is amended to read\\n\\t\\n\"Any person who purchases, leases, leases for a capital purpose, or uses any such property, shall\\nupon demand receive and pay for such property, including interest with respect to such\\nremaining such interest, and any interest to which any such interest is ancillary to the\\nbenefit of the consumer.\" The change and any amendments thereto shall remain in place as of October\\n23, 2001.    The California State Legislature, in its Resolution\\nProposition No. 2001-101, enacted the following provisions:\\n(1) Section 2798B of the California Business & Professions\\nCode, Section 27101 of the California Business & Professions Code, states\\n\"Any person who purchases, leases, leases for a capital purpose, or uses any\\nterritory utility utility resources for a capital purpose, shall--\" \\n(A) immediately remit any balance to the Treasurer of the State; or \\n(B) by transfer or otherwise upon such terms and conditions as shall be, and hereby\\noblige such Treasurer to remit the uncollectible balance to the State \\n(collectively the Treasurer and such other taxing authority that may be \\nattempted to collect).\\n(2) Section 2798B of the California Business & Professions\\nCode, Section 27101 of the California Business & Professions Code, provides\\nthe following as of December 30, 2000\\n\"Any person who purchases, leases, leases for a capital purpose, or uses any\\nterritory utility utility resources for a capital purpose, shall--\" \\n\"Any person who purchases, leases, leases for a capital purpose, or uses any\\nterritory utility utility resources for a capital purpose, shall--\" \\n\"(i) immediately remit any balance to the Treasurer of the State; or \\n\"(ii) by transfer or otherwise upon such terms and conditions as shall be, and hereby hereby revoke\\nany such balance); or\"(3) Sections\n",
            "\n",
            "[410 | 1889.38] loss=2.03 avg=2.52\n",
            "[420 | 1933.65] loss=2.34 avg=2.51\n",
            "[430 | 1977.90] loss=2.26 avg=2.50\n",
            "[440 | 2022.14] loss=2.42 avg=2.50\n",
            "[450 | 2066.40] loss=2.30 avg=2.50\n",
            "[460 | 2110.64] loss=2.40 avg=2.49\n",
            "[470 | 2154.88] loss=2.31 avg=2.49\n",
            "[480 | 2199.11] loss=2.02 avg=2.48\n",
            "[490 | 2243.29] loss=1.76 avg=2.46\n",
            "[500 | 2287.48] loss=2.14 avg=2.45\n",
            "Saving checkpoint/reply/model-500\n",
            "WARNING:tensorflow:From /tensorflow-1.15.2/python3.7/tensorflow_core/python/training/saver.py:963: remove_checkpoint (from tensorflow.python.training.checkpoint_management) is deprecated and will be removed in a future version.\n",
            "Instructions for updating:\n",
            "Use standard file APIs to delete files with this prefix.\n",
            "======== SAMPLE 1 ========\n",
            ")? \\nCurtis -\\nI can do that for you.\\nKay - Is there someone you think will help me with DWR development?\\nThanks!\\nKay\", '\\t\\t \\nChris --  It looks fine to me.  Just to add a bit of context.  I think I understood the \\nconclusion that I was making --\\nKay/Gerald-- \\nI will be happy to do the \\naddition to the list as well.  You and I talked about this over the phone, \\nbut I thought it might be helpful to discuss and to set the record straight about how \\nthe contract was designed.\\nI will get out from Houston on Sunday and we will make arrangements to \\ntalk in San Diego.  My schedule for tomorrow sounds fine, but I have a problem \\nwith whether it is important to get to work on a daily basis. \\nI am also having trouble getting the contract up to date, so I will have to \\nwork with the folks on where we can get it completed.\\nI will have to get off the telephone Friday to get it signed, but there are \\nprobably other issues we need to discuss as well.  Also, should I get off, or \\naute my efforts at writing the agreement for Wednesday (if possible)?  I should \\nrespond back to you on Thursday.\\nIt looks like I will need some work done on the documents in the last \\nweeks leading up to the meeting today.  I will be out the Monday of \\nThursday, but should be available on Thursday after I meet with Jim.\\nKay\\n---------------------------\\nHere is the draft of the LLC.  Let me know what we can do tomorrow to \\ndate out.\\nRegards,\\nJeff\\n---------------------------\\nHere is the LLC draft to make sure we get it signed and ready to go.  \\nRegards,\\nJeff', \"PM ---------------------------\\nKay\\n---------------------- Forwarded by Kay Mann/Corp/Enron on 10/2/2000 \\nmichael j.   02/05/2000\\nPM ---------------------------\\n   \\nthe\\n \\n \\n \\n     \\n \\n \\n \\n \\n     \\n \\n \\n \\n\\t\\n \\n \\n \\nHi,\\nI was just wondering if you and your boss could come at it right away.  I can\\nrespond to any of this in a couple of days.\\n   \\n \\nJohn\\n \\nWhat do you mean that today?\\n   \\n \\nI think I just need to check in with our lawyer as soon as possible.\\n   \\n \\nJohn,\\nI don't know if I have the time to do this, but I think I should have my work\\nissued until at least the 16th of next week.  Let me know what time it is.\\nI will call someone at Enron and get a comment from them as soon as you can.\\nJohn\", \"---------------------- Forwarded by Kay Mann/Corp/Enron on 9/30/2000 \\nPM ---------------------------\\n---------------------- Forwarded by Kay Mann/Corp/Enron on 9/30/2000 \\nPM ---------------------------\\n - tkhunter-1.exe\", \"If you look at the draft of the agreement, you will discover that the\\nappropriate language for the \"merchant'' (e-mail) person is attached.\\nKay\\nPM ---------------------------\\nHi.\\nI'm a little confused as to where the information regarding the terms and\\nversions to our proposed ISDA will come from.  It would seem to be a\\npostscript to our\\nlast discussion.  If you think it is the right thing to do, let me know.\\nRegards,\\nJeff\\n---------------------------\\n   \\nMike,\\nAwaiting Approval of SCC's   Approved Form of ISDA\\n               Jeff\\n \\nIn response to our\\nimplementation of this form of the ISDA.\\n               (originally sent to you by Steve S. by\\nMike),\\nPlease find attached the\\nfinal               draft draft of the proposed               ISDA.\\nWe plan to sign the           this form at our\\\n",
            "\n",
            "[510 | 2350.01] loss=1.68 avg=2.43\n",
            "[520 | 2394.20] loss=1.97 avg=2.42\n",
            "[530 | 2438.44] loss=2.15 avg=2.41\n",
            "[540 | 2482.65] loss=2.58 avg=2.42\n",
            "[550 | 2526.83] loss=2.56 avg=2.42\n",
            "[560 | 2571.01] loss=2.70 avg=2.43\n",
            "[570 | 2615.22] loss=1.62 avg=2.41\n",
            "[580 | 2659.45] loss=2.18 avg=2.40\n",
            "[590 | 2703.65] loss=2.04 avg=2.39\n",
            "[600 | 2747.84] loss=1.95 avg=2.38\n",
            "======== SAMPLE 1 ========\n",
            "nCAS#3-3-1\\t\\t10\\t\\t\\t\\t\\t\\t\\t\\t\\t\\t5c\\t\\t\\t\\t\\t\\t\"    (2) a party may not rely on, or may depend on computer code compiled by another party which is believed to be correct but which it is not the law in that other party's jurisdiction.\\tBON\\n     \"  (2) the party requesting such computer code shall be entitled to receive it as a result of the performance of its functions under that computer for a period of not more than one year from the date of performance to the date of receipt. This section may be supplemented by other provisions.\\tCAS#3-3-1\\t\\t10\\t\\t\\t\\t\\t\\t\\t\\t2a\\t\\t\\x01&0000;\\t\\x0041\\x01&0000;\\t\\x0041\\x01&0000;\\t\\x0041\\x01&0000;\\t\\x0041\\x01&0000;\\t\\x0041\\x00&0000;\\t\"\\t \"\\t\\t\\t\\t\\t\\t\\t\\t\\t\\tChris\\n \\n\"C:\\\"Chris\\n \\n \\nSara Shackleton\\nEnron North America Corp.\\n1400 Smith Street, EB 3801a\\nHouston, Texas  77002\\n713-853-5620 (phone)\\n713-646-3490 (fax)\\nChris\", 'This is more or less what the  agreement states.\\nI have no idea where this deal gets started.\\n---------------------- Forwarded by Martin Stanley/The Metal & Commodity Co\\nThe deal itself is irrelevant!\\nSara Shackleton\\nEnron North America Corp.\\n1400 Smith Street, EB 3801a\\nHouston, Texas  77002\\n713-853-5620 (phone)\\n713-646-3490 (fax)\\nSara,\\nThere should be a way to set the appropriate price to set per the form provided -\\nis that part of the agreement.  Also, the actual delivery dates, as well as what\\nelieve\\nthat the deal is done\\nshould be documented.\\nSara Shackleton\\nEnron North America Corp.\\n1400 Smith Street, EB 3801a\\nHouston, Texas  77002\\n713-853-5620 (phone)\\n713-646-3490 (fax)\\n\\t\\t \\nRudwell,\\nCould you please revise the attached document that I just sent over\\nit?\\nThanks\\n \\n \\nRudwell,\\nThis is a revised GE deal (with changes to the standard form of letter, etc.)\\nas in form submitted by GE.\\nThanks\\nSara Shackleton\\nEnron North America Corp.\\n1400 Smith Street, EB 3801a\\nHouston, Texas  77002\\n713-853-5620 (phone)\\n713-646-3490 (fax)\\n - GE - ETS Limited MSN 166439\\n - GE - ETS Limited MSN 166426\\n - ETS Limited MSN 166427\\n - ETS Limited MSN 167996', ' \\nChris - You are correct on the name change - should we include this\\nagreement in the ISDA as well so that we can make sure this is covered?\\nChris,\\nThanks for the letter I sent out for your response.\\nRegards\\nMichael\\n \\nMichael,\\nI forwarded you a copy of the current ISDA draft we have going\\nforward.\\nIf you are not happy with my draft, we can get something in place and start\\nerring in a few more years.\\nRegards\\nMichael\\n \\n \\nMichael,\\nI will pass on a message of your own that I received from the\\nPursuant to the ISDA draft you sent out in March, I have\\naddressed\\neasily the issue which the original ISDA was addressing.\\nTherefore the issue, if applicable, is whether the term ``limited\\nconsultants\\nresponsible for the service of process\" is acceptable.\\nI do not understand the proposed language in the new\\nCommodity Control Annex.\\nI understand from your discussion last week that our proposed\\ntax would be\\ndeveloped around the concept of a forum\\nfor discussion and a forum for agreement\\\n",
            "\n",
            "[610 | 2807.88] loss=2.00 avg=2.38\n",
            "[620 | 2852.10] loss=1.96 avg=2.37\n",
            "[630 | 2896.19] loss=1.95 avg=2.36\n",
            "[640 | 2940.14] loss=1.72 avg=2.34\n",
            "[650 | 2984.21] loss=2.17 avg=2.34\n",
            "[660 | 3028.50] loss=1.90 avg=2.33\n",
            "[670 | 3072.58] loss=2.30 avg=2.33\n",
            "[680 | 3116.63] loss=1.99 avg=2.32\n",
            "[690 | 3160.80] loss=1.85 avg=2.31\n",
            "[700 | 3204.92] loss=1.45 avg=2.30\n",
            "======== SAMPLE 1 ========\n",
            " to the California Independent System Operator, an affiliate of Williams Energy Holding, L.L.P., and any other\\ncompany referenced herein that relies on the services of the ISO for \\nproper utilization, and/or for maintaining its trading price.  The ISO continues to \\nidentify itself in trading as follows (in parentheses after the company\\'s name in \\nregistrant) as the following (in italics included).\\nAQUILABILITY\\nWilliams Energy Corporation, Williams Energy Corporation, Williams Energy Capital, Inc., \\nWilliams Energy Holding, L.P., and any other named names herein defined (as \\nsubmitted to the ISO by Williams Energy in connection with the commodity \\ndecision referred to herein above) shall be LIABLE TO AND FREE FROM CREDIT \\NDELIVERY, LIITIONAL, PUNITIVE OR PURE OF DAMAGES OF ANY KIND UNDER ANY \\nBRITISH LANGUAGE LAW, AND PROVIDED THAT LIITIONAL, PUNITIVE OR PURE OF DAMAGES ARISING \\nHER  FROM ENRON OR ANY OF ITS AGENTS, SHALL BE EXCLUDED FROM EXEMPTION FOR \\nANY COURT OR OF ITS COMMERCE.\"\\n- CALIFORNIA\\nPRODUCT\\n\\t\\t \\nCaroline and I had discussed this with Lisa the other day; unfortunately I had to \\nspeak with Steve Thome, the attorney with the Center for New Markets Research \\ninvolved in the litigation.  I am happy to walk through what we are doing \\nwith the data and data needs of the data for you, and to explain \\nthe rationale behind our pricing model.\\nFinally, I would like to invite you to come along and do a\\ncommercial Q& A with Steve in San Francisco this afternoon.  Steve would like you to \\ndecide rationale for our model and see if we can come up with \\nrationales to incorporate that model.  If so, I will be happy to walk you through\\nthe data and provide you with the data if you can fit that model.\\t\\t \\nI have been invited to speak at an ISDA meeting in Sacramento this week.  I\\'ve \\nasked to have a conference call with my colleague and general counsel, Steve Thome, to \\nreview the case file.  What I have heard so far is that some parts of the LNG\\nmodel would be useful to get a better sense of the model\\'s assumptions,\\nwhile others are not clear yet.  I will ask those to submit their opinion in\\nthe conference call.  In the meantime, the case files for the case we \\nhave in the FTP site should be complete and you can view it.\\nIt is a good thing that the case is closed because I am only hearing one\\nreason out of a total of 12, so we could have 12 case files.  We don\\'t know\\nif the data is available for all cases, but it is clear that we need\\nto expand the file.  The end result is that there\\'s about 8\\nmillion tons of LNG left on the market due to exports from the North \\nLNG and Transwestern projects.\\nI need all your input as to the 12th.\\nPlease let me know when you hear about the panel.  If there aren\\'t any\\nnew cases, I will let you know.\\nBest,\\nJeff Smith\\nSenior Associate\\nHartsoe Chemicals\\n3-2700 South Hartsoe Street\\nStamford, CT 06103\\nPhone 020 29 9917\\nFax 0203 6246995 (cell)\\n\\t\\t \\nI've been working on this for a few days and I don't have the information to give you \\nthe answer, though.\\n\\t\\t \\nSorry, I\\'m stuck on a conference call with a call due up at 10 AM,\\nif you have any further questions\\nyou may also be interested in speaking with Lisa Bloom or Michael Miller at the\\nlife for the next part of the day.\\nKeri\\nSenior Associate\\nNovaEnergy\\n503-464-7486 (fax)\\n - LNGAssess.pdf\", \"If you need the PX data, you must get it from EES (i.e. from the ISO). If not, \\nI\\'ll just provide the CSV file.  As we discussed, can we trade the ISO  \\nfor the data from the PX if we want to?  We\\'ll test it on our unit here \\nand have a look later.\\n\\t\\t \\nTana,\\nI\\'m having\n",
            "\n",
            "[710 | 3265.19] loss=2.03 avg=2.29\n",
            "[720 | 3309.31] loss=1.40 avg=2.27\n",
            "[730 | 3353.46] loss=2.00 avg=2.27\n",
            "[740 | 3397.62] loss=2.12 avg=2.27\n",
            "[750 | 3441.62] loss=2.40 avg=2.27\n",
            "Saving checkpoint/reply/model-750\n",
            "[760 | 3488.21] loss=1.66 avg=2.26\n",
            "[770 | 3532.59] loss=1.87 avg=2.25\n",
            "[780 | 3576.75] loss=1.85 avg=2.24\n",
            "[790 | 3620.81] loss=1.52 avg=2.23\n",
            "[800 | 3664.84] loss=1.86 avg=2.22\n",
            "======== SAMPLE 1 ========\n",
            "         \\nThe only things I would like to do now is wait to see what you have planned with the \\nconsolidated accounts.  What I have in mind is to buy 2 accounts, purchase 5 \\nand sell the rest.  It is my opinion that you have good ideas for me as a place \\nto start.  How could you help?   We are planning a trip to Houston this \\nmonth for 3 days.  What do you think?', \"I didn't see anything on the bill.    \\nYou guys are the best, thanks for all your help.\\n\\t\\t \\nThanks guys.\\nPM ---------------------------\\nThis e-mail (including any attachments) contains information that may be confidential \\nand/or privileged. If you are not the intended recipient, any disclosure, copying, \\ndisclosure, dissemination or noission is prohibited. If you have received this \\nemail in error, please notify the sender and delete the e-mail.\\nIf you have received this e-mail in error, any disclosure, copying, \\ndisclosure or noission is prohibited.\", \"AM ---------------------------\\n   \\nAttached is the latest proposed draft of the Salmon Risk Support Agreement.  The \\nopportunity will be very helpful as a place to send a draft of the document to \\nthese GE counsel on May 11th.  Please also have the GE counsel complete the \\nAgreement and  send for signature.  In the meantime,  we can discuss the amendments and \\nwith GE for signature.  If you have not received the agreement, please\\nlet me know.\\n---------------------- Forwarded by James Mills/Corp/Enron on 10/22/2000 \\nJames - I faxed all the changes I made to the Salmon/Enron agreements to you \\nand I also faxed the proposed draft you had sent to GE.\\nI look forward to hearing from you soon.   \", \"FYI\\n---------------------- Forwarded by Jeffrey A Shankman/PA\\n    \\n\\t\\nHello Chris, you don't know if this deal can be completed, I just don't \\nmish as I think we will need to pursue the final items above.  The issue is \\nwhether (if  we don't finalize) the Salmon/Enron deal.  We are looking for \\na resolution of this issue within the next week on our end.  What do you \\nthink the answer is? \\n---------------------- Forwarded by James Mills/Corp/Enron on 10/10/2000 \\n   \\n\\t\\nJames,\\nAttached are the names and contact info of John Suttle (Enron/Enron,) Tom \\nLeff (Enron) and I for GE.\\n \\n---------------------- Forwarded by James Mills/Corp/Enron on 10/10/2000 \\n \\n \\nAttached are the names and contact info of our GE/ENRON people working on this \\nentity\\n \\n \\n - John Suttle.wsf\", '\\t\\t \\nCitibank\\nThank you\\nCitibank Account Representative\\n    ', \"Hi Chris,\\n\\tPlease approve the below attachments.\\n\\t\\t \\nWe have one more EOL Facility we need to plan and meet certain milestones.\\n\\t\\nAlso, we need your approval as to whether we have any additional exhibits\\nattached for your review.\\nThanks\\n   \\n \\nMike, Please review each and every one of these attachments.\\nPlease send any questions or comments to chris edward at enron.dc \\nThank you\\n    \\nDavid G. Rich\\nEnron North America Corp.\\n713.853.1707\\n     \\nPM ---------------------------\\n     \\nDear Danetta,\\n    I have approved all attached\\n    documents.\\n    \\n                     Confidentiality Notice\\nThis message is being sent by or on behalf of a lawyer.  It is intended \\nexclusively for the individual or entity to which it is addressed.  This \\ncommunication may contain information that is proprietary, privileged or \\nconfidential or otherwise legally exempt from disclosure.  If you are not the \\nnamed addressee, you are not authorized to read, print, retain, copy or \\ndisseminate this message or any part of it.  If you have received this \\nmessage in\n",
            "\n",
            "[810 | 3725.49] loss=1.67 avg=2.21\n",
            "[820 | 3769.62] loss=1.64 avg=2.20\n",
            "[830 | 3813.71] loss=1.88 avg=2.20\n",
            "[840 | 3857.79] loss=1.65 avg=2.19\n",
            "[850 | 3901.90] loss=1.85 avg=2.18\n",
            "[860 | 3945.93] loss=1.78 avg=2.17\n",
            "[870 | 3990.01] loss=1.22 avg=2.16\n",
            "[880 | 4034.07] loss=1.35 avg=2.14\n",
            "[890 | 4078.15] loss=1.47 avg=2.13\n",
            "[900 | 4122.23] loss=1.11 avg=2.12\n",
            "======== SAMPLE 1 ========\n",
            " to \"receive credit for free use of this information by the Company.  This\\nregard to your\\naccounts and \\nyour information may be taken into \\nassignment and assumption, and any payment due under any\\ncontract, certificate, agreement or other agreement\\nwith respect to your account or any obligation of your subsidiary\\ncorporations or any of its subsidiaries to sell, offer for sale or carry for\\ngas\\nall-energy products, such as electricity, gas, fuel oil and\\nwood pulp\\nare not subject to credit approval and are not subject to any\\nrisk or obligation of any party relating hereunder.\"\\n6.  The word \"provisional\" was inserted after the word \"merchant\".\\n7.  In addition to the definitions contained in this contract, the\\nlanguage governing the assignment of rights and obligations of the\\nemployees of El Paso Energy Development Company contains\\nthe words \"power,\\npowering, manufacturing, transportation or storage,\" after\\nthe person or entity giving the power, for convenience, to\\nfill and transport such lands,\\nhold to sell and transport such agricultural and other commercial products,\\nand contain the words \"and\\nconsulting\\nwith\", after\\n\"consulting with\\nEnron\",\\n7.  El Paso Energy is a generator and trader of wholesale\\nelectricity which is ultimately sold through\\nelectricity depots and refineries.  El Paso Energy is a\\ncontractor and a generator of wholesale electricity, in accordance\\nwith the wholesale electricity rules, and a clearing\\nagent for wholesale electricity.\\n8. El Paso Energy is a generator and trader of wholesale\\nelectricity which is ultimately sold through Intercontinental\\neuter and the Eastern Border\\n(Arizona)\\nwhich is privately held.  El Paso Energy, as a subsidiary of El\\nKinder Energy Corporation and a North American\\ngeneral energy entity, is a generator and trader of wholesale\\nelectricity which is ultimately sold through Intercontinental\\neuter and the\\nEastern Border\\n(Arizona)\\nwhich is privately held.  El Paso Energy, as a subsidiary of El\\nKinder Energy Corporation and a North American\\ngeneral energy entity, is a generator and trader of wholesale\\nelectricity which is ultimately sold through Intercontinental\\neuter and the\\nEastern Border\\n(Arizona)\\nwhich is privately held.  El Paso Energy, as a subsidiary of El\\nKinder Energy Corporation and a\\nNorth American\\ngeneral energy entity, is a generator and trader of wholesale\\nelectricity which is ultimately sold through Intercontinental\\neuter and the\\nEastern Border\\n(Arizona)\\n(where\\nCalifornia is\\nexcepted)\\n9.  El Paso Energy is a generator and trader of wholesale\\nelectricity which is ultimately sold through Intercontinental\\neuter and the\\nEastern Border\\n(Arizona)\\nwhich is privately held.  El Paso Energy, as a subsidiary of El\\nKinder Energy Corporation and a North American\\ngeneral energy entity, is a generator and trader of wholesale\\nelectricity which is ultimately sold through Intercontinental\\nuter and the\\nEastern Border\\n(Arizona)\\n(where\\nCalifornia is\\nexcepted)\\n10. El Paso Energy, as a generator and trader of wholesale\\nelectricity which is ultimately sold through Intercontinental\\nuter and\\nThe\\nCalifornia\\nOut\\nof\\nyou\\ntop\\nout\\nlater\\nin\\ncirculate\\nthe\\ninformation\\nin\\nother states\\nCalifornia\\nOut of\\nCalifornia\\nout\\nof\\nCalifornia\\ncertain', \"We will discuss on Friday (Feb 4) at 9 am on our \"Special Committee\" session\\nMonday, Feb 9 Noon Wednesday Feb 5 Wed Feb 6 Thurs 3-10pm CST Sat 8-11pm Pacific/4-9 pm Eastern/10 am New York \"Allyson\\nBeach\\innocent until proven guilty\\nWe have not heard anything from you on the beach related to the lawsuit (was\\nbasically a \"no sue me in court\" lawsuit).  Would this be sufficient?\\nI would like to hear from you on whether you have heard from the Beach\\nBones project regarding the status of the Beach Bone project.\\nThe project is to construct a pressure treated concrete stack for use in the\\nPomona power plant located 2 miles west of Long Island.  It would be a\\nconservation project and would be a significant component of the Pompano\\nPompano power plant project.  You and\n",
            "\n",
            "[910 | 4183.03] loss=2.00 avg=2.11\n",
            "[920 | 4227.18] loss=1.28 avg=2.10\n",
            "[930 | 4271.26] loss=1.29 avg=2.09\n",
            "[940 | 4315.31] loss=1.81 avg=2.08\n",
            "[950 | 4359.39] loss=1.51 avg=2.07\n",
            "[960 | 4403.43] loss=1.68 avg=2.07\n",
            "[970 | 4447.54] loss=1.71 avg=2.06\n",
            "[980 | 4491.57] loss=1.79 avg=2.06\n",
            "[990 | 4535.62] loss=1.42 avg=2.05\n",
            "[1000 | 4579.69] loss=1.34 avg=2.04\n",
            "Saving checkpoint/reply/model-1000\n"
          ],
          "name": "stdout"
        }
      ]
    },
    {
      "cell_type": "code",
      "metadata": {
        "colab": {
          "base_uri": "https://localhost:8080/"
        },
        "id": "RaFyYjEACXT_",
        "outputId": "0d38b692-a2ee-45b9-f93a-a71c92a35f63"
      },
      "source": [
        "### IF YOU NEED TO RESTART THE RUNTIME WHICH YOU DO AFTER EACH GENERATE/FINETUNE SESSION\n",
        "# local files are saved\n",
        "%tensorflow_version 1.x\n",
        "!pip install -q gpt-2-simple\n",
        "import gpt_2_simple as gpt2\n",
        "from datetime import datetime\n",
        "from google.colab import files\n",
        "\n",
        "!nvidia-smi"
      ],
      "execution_count": null,
      "outputs": [
        {
          "output_type": "stream",
          "text": [
            "Thu Apr  8 18:07:59 2021       \n",
            "+-----------------------------------------------------------------------------+\n",
            "| NVIDIA-SMI 460.67       Driver Version: 460.32.03    CUDA Version: 11.2     |\n",
            "|-------------------------------+----------------------+----------------------+\n",
            "| GPU  Name        Persistence-M| Bus-Id        Disp.A | Volatile Uncorr. ECC |\n",
            "| Fan  Temp  Perf  Pwr:Usage/Cap|         Memory-Usage | GPU-Util  Compute M. |\n",
            "|                               |                      |               MIG M. |\n",
            "|===============================+======================+======================|\n",
            "|   0  Tesla K80           Off  | 00000000:00:04.0 Off |                    0 |\n",
            "| N/A   60C    P8    31W / 149W |      0MiB / 11441MiB |      0%      Default |\n",
            "|                               |                      |                  N/A |\n",
            "+-------------------------------+----------------------+----------------------+\n",
            "                                                                               \n",
            "+-----------------------------------------------------------------------------+\n",
            "| Processes:                                                                  |\n",
            "|  GPU   GI   CI        PID   Type   Process name                  GPU Memory |\n",
            "|        ID   ID                                                   Usage      |\n",
            "|=============================================================================|\n",
            "|  No running processes found                                                 |\n",
            "+-----------------------------------------------------------------------------+\n"
          ],
          "name": "stdout"
        }
      ]
    },
    {
      "cell_type": "code",
      "metadata": {
        "colab": {
          "base_uri": "https://localhost:8080/"
        },
        "id": "9wxEIbf8CXiD",
        "outputId": "27d6bec5-09a6-4881-e3dd-be874d53858f"
      },
      "source": [
        "# test out the replies and load sesion\n",
        "sess = gpt2.start_tf_sess()\n",
        "\n",
        "gpt2.load_gpt2(sess, run_name='reply')\n",
        "gpt2.generate(sess, run_name='reply',prefix = 'FROM')"
      ],
      "execution_count": null,
      "outputs": [
        {
          "output_type": "stream",
          "text": [
            "Loading checkpoint checkpoint/reply/model-1000\n",
            "INFO:tensorflow:Restoring parameters from checkpoint/reply/model-1000\n",
            "FROMMING IN THE DEPARTMENT OF HEALTH and\\nHEALTH SERVICES,\\nHELP ME WITH AUSTIN, PUCIGAN STATE  FEMALI\\nHELP ME WITH     AUSTRALIA\\nHAVE FUNNY I\\'m sorry I didn\\'t get back to you yesterday, but I wanted to \\nhave a big heart meeting with you at your house this evening to discuss our \\nhearings regarding the PUC's activities over the past year.  I\\'m going to \\nmake sure that everything is moving forward and that things are going well.\\nThere are a few things that need to happen.  I\\'m going to need the following \\ninformation;\\n1)  We have been working with some of the biggest names in the energy industry on a new \\nsystem for valuation and payment incentive.  These guys are really great.  I just want to \\nmake sure that everyone is being paid the same amount.  We are going to be very \\naggressive, but I\\'m not going to put anyone out of work.\\n2)  We have been talking to some of the best, and we\\'ve been very successful, with \\nHemsworth, Campbell, & Johnson.  The best is at the bottom of the list.\\n3)  We have been working with one of the most influential people in the industry.\\nHELL,  I WOULD HAVE SENT IT UP IF NOT FOR YOU.\\nWE ARE SO RARE ABOUT THE BONNEVILLE ADVENTURES THAT YOU ARE DOING TODAY.\\nI WILL  TAKE ADVANCE ON THE AMBER TANKING ADVENTURE YOU ARE DOING TODAY, AND I WILL \\nBE  AWARE OF  YOUR FURTHER ADVENTURE  REMAIN IN  THE BONNEVILLE ADVENTURE YOU ARE DOING TODAY, AND I WILL \\nCOOPER  WITH YOU  TO  RESEARCH ABOVE THE  THE  ADVENTURE YOU ARE DOING TODAY.\\nI  AM SO  AWARE OF  YOUR FURTHER ADVENTURE  REMAIN IN  THE BONNEVILLE ADVENTURE YOU ARE DOING TODAY, AND I WILL \\nCOOPER  WITH YOU  TO  RESEARCH ABOVE THE TANKING ADVENTURE YOU ARE DOING TODAY.\\nI did  a little research on the sky rocket  industry  and  found out that there is a great deal of \\nresearch done on the planets,  including  the ones that are still young and developing.  I \\nwill  make sure that you know that you are paying huge sums of money to get \\nit done.\\n                                                                                                                                                                                                                                                                                                                                                                                                                                                        \n"
          ],
          "name": "stdout"
        }
      ]
    },
    {
      "cell_type": "code",
      "metadata": {
        "id": "EYa85K-jCXtK"
      },
      "source": [
        "# generate to file with THREE REPLIES per 800 emails\n",
        "reply_gen_file = 'gpt2_gentext_reply.txt'\n",
        "\n",
        "gpt2.generate_to_file(sess, destination_path = reply_gen_file, model_name='124M',                      \n",
        "                      length = 200,\n",
        "                      temperature = 0.5, nsamples = 2400, batch_size = 20)"
      ],
      "execution_count": null,
      "outputs": []
    },
    {
      "cell_type": "code",
      "metadata": {
        "id": "sSWt4L5RD0lr"
      },
      "source": [
        "files.download(reply_gen_file)"
      ],
      "execution_count": null,
      "outputs": []
    },
    {
      "cell_type": "markdown",
      "metadata": {
        "id": "ig-KVgkCDCKD"
      },
      "source": [
        "# Force-kill VM\n",
        "\n",
        "If the notebook has errors (e.g. GPU Sync Fail), force-kill the Colaboratory virtual machine and restart it with the command below:"
      ]
    },
    {
      "cell_type": "code",
      "metadata": {
        "id": "rIHiVP53FnsX"
      },
      "source": [
        "!kill -9 -1"
      ],
      "execution_count": null,
      "outputs": []
    },
    {
      "cell_type": "code",
      "metadata": {
        "id": "g72-yGdcyIOh"
      },
      "source": [
        ""
      ],
      "execution_count": null,
      "outputs": []
    },
    {
      "cell_type": "markdown",
      "metadata": {
        "id": "wmTXWNUygS5E"
      },
      "source": [
        "# LICENSE\n",
        "\n",
        "MIT License\n",
        "\n",
        "Copyright (c) 2019 Max Woolf\n",
        "\n",
        "Permission is hereby granted, free of charge, to any person obtaining a copy\n",
        "of this software and associated documentation files (the \"Software\"), to deal\n",
        "in the Software without restriction, including without limitation the rights\n",
        "to use, copy, modify, merge, publish, distribute, sublicense, and/or sell\n",
        "copies of the Software, and to permit persons to whom the Software is\n",
        "furnished to do so, subject to the following conditions:\n",
        "\n",
        "The above copyright notice and this permission notice shall be included in all\n",
        "copies or substantial portions of the Software.\n",
        "\n",
        "THE SOFTWARE IS PROVIDED \"AS IS\", WITHOUT WARRANTY OF ANY KIND, EXPRESS OR\n",
        "IMPLIED, INCLUDING BUT NOT LIMITED TO THE WARRANTIES OF MERCHANTABILITY,\n",
        "FITNESS FOR A PARTICULAR PURPOSE AND NONINFRINGEMENT. IN NO EVENT SHALL THE\n",
        "AUTHORS OR COPYRIGHT HOLDERS BE LIABLE FOR ANY CLAIM, DAMAGES OR OTHER\n",
        "LIABILITY, WHETHER IN AN ACTION OF CONTRACT, TORT OR OTHERWISE, ARISING FROM,\n",
        "OUT OF OR IN CONNECTION WITH THE SOFTWARE OR THE USE OR OTHER DEALINGS IN THE\n",
        "SOFTWARE."
      ]
    },
    {
      "cell_type": "markdown",
      "metadata": {
        "id": "H7LoMj4GA4n_"
      },
      "source": [
        "##  Train a GPT-2 Text-Generating Model w/ GPU For Free \n",
        "\n",
        "by [Max Woolf](http://minimaxir.com)\n",
        "\n",
        "*Last updated: February 14th, 2021*\n",
        "\n",
        "Retrain an advanced text generating neural network on any text dataset **for free on a GPU using Collaboratory** using `gpt-2-simple`!\n",
        "\n",
        "For more about `gpt-2-simple`, you can visit [this GitHub repository](https://github.com/minimaxir/gpt-2-simple). You can also read my [blog post](https://minimaxir.com/2019/09/howto-gpt2/) for more information how to use this notebook!\n"
      ]
    }
  ]
}